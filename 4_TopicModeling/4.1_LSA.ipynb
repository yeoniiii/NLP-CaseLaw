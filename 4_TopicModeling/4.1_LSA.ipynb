{
 "cells": [
  {
   "cell_type": "code",
   "execution_count": 47,
   "metadata": {},
   "outputs": [],
   "source": [
    "import pandas as pd\n",
    "import numpy as np\n",
    "from tqdm import tqdm\n",
    "import pickle as pkl"
   ]
  },
  {
   "cell_type": "code",
   "execution_count": 3,
   "metadata": {},
   "outputs": [],
   "source": [
    "from sklearn.decomposition import TruncatedSVD\n",
    "from soynlp.vectorizer import sent_to_word_contexts_matrix"
   ]
  },
  {
   "cell_type": "markdown",
   "metadata": {},
   "source": [
    "### 1. 문장 토큰화된 상태의 코퍼스"
   ]
  },
  {
   "cell_type": "code",
   "execution_count": 4,
   "metadata": {},
   "outputs": [
    {
     "data": {
      "text/html": [
       "<div>\n",
       "<style scoped>\n",
       "    .dataframe tbody tr th:only-of-type {\n",
       "        vertical-align: middle;\n",
       "    }\n",
       "\n",
       "    .dataframe tbody tr th {\n",
       "        vertical-align: top;\n",
       "    }\n",
       "\n",
       "    .dataframe thead th {\n",
       "        text-align: right;\n",
       "    }\n",
       "</style>\n",
       "<table border=\"1\" class=\"dataframe\">\n",
       "  <thead>\n",
       "    <tr style=\"text-align: right;\">\n",
       "      <th></th>\n",
       "      <th>판례일련번호</th>\n",
       "      <th>판례내용_전처리2</th>\n",
       "    </tr>\n",
       "  </thead>\n",
       "  <tbody>\n",
       "    <tr>\n",
       "      <th>0</th>\n",
       "      <td>238021</td>\n",
       "      <td>상고이유를 판단한다. 불가벌적 사후행위에 대한 판단유사수신행위의 규제에 관한 법...</td>\n",
       "    </tr>\n",
       "  </tbody>\n",
       "</table>\n",
       "</div>"
      ],
      "text/plain": [
       "   판례일련번호                                          판례내용_전처리2\n",
       "0  238021    상고이유를 판단한다. 불가벌적 사후행위에 대한 판단유사수신행위의 규제에 관한 법..."
      ]
     },
     "execution_count": 4,
     "metadata": {},
     "output_type": "execute_result"
    }
   ],
   "source": [
    "case_fraud = pd.read_csv('../1_Data/case_fraud_sent.csv', index_col=0)\n",
    "case_fraud.head(1)"
   ]
  },
  {
   "cell_type": "code",
   "execution_count": 29,
   "metadata": {},
   "outputs": [],
   "source": [
    "corpus = [case for case in case_fraud.판례내용_전처리2]"
   ]
  },
  {
   "cell_type": "code",
   "execution_count": 31,
   "metadata": {},
   "outputs": [
    {
     "name": "stdout",
     "output_type": "stream",
     "text": [
      "Create (word, contexts) matrix\n",
      "  - counting word frequency from 2252 sents, mem=0.762 Gb\n",
      "  - scanning (word, context) pairs from 2252 sents, mem=0.895 Gb\n",
      "  - (word, context) matrix was constructed. shape = (20036, 20036)                    \n",
      "  - done\n"
     ]
    }
   ],
   "source": [
    "input_matrix, index2voca = sent_to_word_contexts_matrix(corpus, windows=3, min_tf=10, dynamic_weight=True, verbose=True)\n",
    "\n",
    "svd = TruncatedSVD(n_components=10)\n",
    "vectors = svd.fit_transform(input_matrix)"
   ]
  },
  {
   "cell_type": "code",
   "execution_count": 32,
   "metadata": {},
   "outputs": [
    {
     "data": {
      "text/plain": [
       "(10, 20036)"
      ]
     },
     "execution_count": 32,
     "metadata": {},
     "output_type": "execute_result"
    }
   ],
   "source": [
    "np.shape(svd.components_) # 토픽 개수 (V^T) x 단어 개수"
   ]
  },
  {
   "cell_type": "code",
   "execution_count": 33,
   "metadata": {},
   "outputs": [
    {
     "name": "stdout",
     "output_type": "stream",
     "text": [
      "Topic 1: [('피고인', 0.61875), ('공소외', 0.54379), ('이', 0.25441), ('의', 0.2212), ('은', 0.1356)]\n",
      "Topic 2: [('공소외', 0.70189), ('회사', 0.12233), ('피해자', 0.10141), ('회사의', 0.0977), ('주식회사', 0.07046)]\n",
      "Topic 3: [('사건', 0.6609), ('부분', 0.18352), ('피고인', 0.10697), ('공소외', 0.08931), ('사건에서', 0.02088)]\n",
      "Topic 4: [('사건', 0.643), ('이', 0.63671), ('부분', 0.18834), ('공소사실', 0.06281), ('각', 0.05634)]\n",
      "Topic 5: [('선고', 0.4751), ('도', 0.45807), ('.', 0.4457), ('판결', 0.41546), ('대법원', 0.20574)]\n",
      "Topic 6: [('수', 0.49074), ('할', 0.30054), ('없다.', 0.25364), ('있는', 0.181), ('볼', 0.1748)]\n",
      "Topic 7: [('억', 0.46432), ('만', 0.46096), ('원을', 0.39954), ('원', 0.35655), ('합계', 0.16737)]\n",
      "Topic 8: [('대한', 0.36371), ('에', 0.29885), ('각', 0.25692), ('같은', 0.2262), ('위와', 0.1891)]\n",
      "Topic 9: [('공소외', 0.29356), ('피고인', 0.27298), ('대한', 0.16527), ('형사소송법', 0.07693), ('선고', 0.07563)]\n",
      "Topic 10: [('할', 0.32058), ('없다.', 0.29568), ('있는', 0.25747), ('볼', 0.21004), ('인정할', 0.20351)]\n"
     ]
    }
   ],
   "source": [
    "terms = index2voca # 단어 집합. 1,000개의 단어가 저장됨.\n",
    "\n",
    "def get_topics(components, feature_names, n=5):\n",
    "    for idx, topic in enumerate(components):\n",
    "        print(\"Topic %d:\" % (idx+1), [(feature_names[i], topic[i].round(5)) for i in topic.argsort()[:-n - 1:-1]])\n",
    "        \n",
    "get_topics(svd.components_,terms)"
   ]
  },
  {
   "cell_type": "markdown",
   "metadata": {},
   "source": [
    "### 2. 단어 토큰화 진행 후 코퍼스"
   ]
  },
  {
   "cell_type": "code",
   "execution_count": 34,
   "metadata": {},
   "outputs": [
    {
     "data": {
      "text/html": [
       "<div>\n",
       "<style scoped>\n",
       "    .dataframe tbody tr th:only-of-type {\n",
       "        vertical-align: middle;\n",
       "    }\n",
       "\n",
       "    .dataframe tbody tr th {\n",
       "        vertical-align: top;\n",
       "    }\n",
       "\n",
       "    .dataframe thead th {\n",
       "        text-align: right;\n",
       "    }\n",
       "</style>\n",
       "<table border=\"1\" class=\"dataframe\">\n",
       "  <thead>\n",
       "    <tr style=\"text-align: right;\">\n",
       "      <th></th>\n",
       "      <th>판례일련번호</th>\n",
       "      <th>사건명</th>\n",
       "      <th>사건번호</th>\n",
       "      <th>선고일자</th>\n",
       "      <th>법원명</th>\n",
       "      <th>사건종류명</th>\n",
       "      <th>사건종류코드</th>\n",
       "      <th>판결유형</th>\n",
       "      <th>선고</th>\n",
       "      <th>판례상세링크</th>\n",
       "      <th>판시사항</th>\n",
       "      <th>판결요지</th>\n",
       "      <th>참조조문</th>\n",
       "      <th>참조판례</th>\n",
       "      <th>판례내용</th>\n",
       "      <th>판례내용_전처리</th>\n",
       "      <th>판례내용_전처리_한자</th>\n",
       "      <th>판례내용_전처리_글자수</th>\n",
       "      <th>판례내용_토큰화_코모란</th>\n",
       "      <th>판례내용_토큰화_꼬꼬마</th>\n",
       "    </tr>\n",
       "    <tr>\n",
       "      <th>index</th>\n",
       "      <th></th>\n",
       "      <th></th>\n",
       "      <th></th>\n",
       "      <th></th>\n",
       "      <th></th>\n",
       "      <th></th>\n",
       "      <th></th>\n",
       "      <th></th>\n",
       "      <th></th>\n",
       "      <th></th>\n",
       "      <th></th>\n",
       "      <th></th>\n",
       "      <th></th>\n",
       "      <th></th>\n",
       "      <th></th>\n",
       "      <th></th>\n",
       "      <th></th>\n",
       "      <th></th>\n",
       "      <th></th>\n",
       "      <th></th>\n",
       "    </tr>\n",
       "  </thead>\n",
       "  <tbody>\n",
       "    <tr>\n",
       "      <th>20</th>\n",
       "      <td>238021</td>\n",
       "      <td>특정경제범죄가중처벌등에관한법률위반(사기)·사기</td>\n",
       "      <td>2023도12424</td>\n",
       "      <td>2023.11.16</td>\n",
       "      <td>대법원</td>\n",
       "      <td>형사</td>\n",
       "      <td>400102.0</td>\n",
       "      <td>판결</td>\n",
       "      <td>선고</td>\n",
       "      <td>/DRF/lawService.do?OC=yeorii&amp;target=prec&amp;ID=23...</td>\n",
       "      <td>유사수신행위를 금지·처벌하는 유사수신행위의 규제에 관한 법률 제6조 제1항, 제3...</td>\n",
       "      <td>유사수신행위의 규제에 관한 법률(이하 ‘유사수신행위법’이라 한다) 제6조 제1항, ...</td>\n",
       "      <td>유사수신행위의 규제에 관한 법률 제3조, 제6조 제1항, 형법 제37조, 제347조...</td>\n",
       "      <td>내용없음</td>\n",
       "      <td>【피 고 인】 피고인【상 고 인】 피고인【변 호 인】 변호사 장용배【배상신청인】 배...</td>\n",
       "      <td>상고이유를 판단한다   불가벌적 사후행위에 대한 판단유사수신행위의 규제에 관한 ...</td>\n",
       "      <td>상고이유를 판단한다.  1. 불가벌적 사후행위에 대한 판단「유사수신행위의 규제에...</td>\n",
       "      <td>1066</td>\n",
       "      <td>['상고', '이유', '를', '판단', '하', 'ㄴ다', '불가벌적 사후행위'...</td>\n",
       "      <td>['상고', '이유', '를', '판단', '하', 'ㄴ다', '불가', '벌', ...</td>\n",
       "    </tr>\n",
       "  </tbody>\n",
       "</table>\n",
       "</div>"
      ],
      "text/plain": [
       "       판례일련번호                        사건명        사건번호        선고일자  법원명 사건종류명  \\\n",
       "index                                                                         \n",
       "20     238021  특정경제범죄가중처벌등에관한법률위반(사기)·사기  2023도12424  2023.11.16  대법원    형사   \n",
       "\n",
       "         사건종류코드 판결유형  선고                                             판례상세링크  \\\n",
       "index                                                                         \n",
       "20     400102.0   판결  선고  /DRF/lawService.do?OC=yeorii&target=prec&ID=23...   \n",
       "\n",
       "                                                    판시사항  \\\n",
       "index                                                      \n",
       "20      유사수신행위를 금지·처벌하는 유사수신행위의 규제에 관한 법률 제6조 제1항, 제3...   \n",
       "\n",
       "                                                    판결요지  \\\n",
       "index                                                      \n",
       "20     유사수신행위의 규제에 관한 법률(이하 ‘유사수신행위법’이라 한다) 제6조 제1항, ...   \n",
       "\n",
       "                                                    참조조문  참조판례  \\\n",
       "index                                                            \n",
       "20     유사수신행위의 규제에 관한 법률 제3조, 제6조 제1항, 형법 제37조, 제347조...  내용없음   \n",
       "\n",
       "                                                    판례내용  \\\n",
       "index                                                      \n",
       "20     【피 고 인】 피고인【상 고 인】 피고인【변 호 인】 변호사 장용배【배상신청인】 배...   \n",
       "\n",
       "                                                판례내용_전처리  \\\n",
       "index                                                      \n",
       "20       상고이유를 판단한다   불가벌적 사후행위에 대한 판단유사수신행위의 규제에 관한 ...   \n",
       "\n",
       "                                             판례내용_전처리_한자  판례내용_전처리_글자수  \\\n",
       "index                                                                    \n",
       "20       상고이유를 판단한다.  1. 불가벌적 사후행위에 대한 판단「유사수신행위의 규제에...          1066   \n",
       "\n",
       "                                            판례내용_토큰화_코모란  \\\n",
       "index                                                      \n",
       "20     ['상고', '이유', '를', '판단', '하', 'ㄴ다', '불가벌적 사후행위'...   \n",
       "\n",
       "                                            판례내용_토큰화_꼬꼬마  \n",
       "index                                                     \n",
       "20     ['상고', '이유', '를', '판단', '하', 'ㄴ다', '불가', '벌', ...  "
      ]
     },
     "execution_count": 34,
     "metadata": {},
     "output_type": "execute_result"
    }
   ],
   "source": [
    "case_fraud = pd.read_csv('../1_Data/case_fraud_prep.csv', index_col=0)\n",
    "case_fraud.head(1)"
   ]
  },
  {
   "cell_type": "code",
   "execution_count": 37,
   "metadata": {},
   "outputs": [],
   "source": [
    "from konlpy.tag import Kkma\n",
    "kkma = Kkma()"
   ]
  },
  {
   "cell_type": "code",
   "execution_count": 40,
   "metadata": {},
   "outputs": [
    {
     "name": "stderr",
     "output_type": "stream",
     "text": [
      "100%|██████████| 2253/2253 [37:28<00:00,  1.00it/s]  \n"
     ]
    }
   ],
   "source": [
    "kkmaSent = []\n",
    "\n",
    "for sent in tqdm(case_fraud.판례내용_전처리):\n",
    "    kkmaVocab = ''\n",
    "    kkmaTagList = kkma.pos(sent)\n",
    "    for (text, pos) in kkmaTagList:\n",
    "        if pos == 'NNG':\n",
    "           kkmaVocab += ' ' + text\n",
    "    kkmaSent.append(kkmaVocab)"
   ]
  },
  {
   "cell_type": "code",
   "execution_count": 48,
   "metadata": {},
   "outputs": [],
   "source": [
    "with open(\"../2_Preprocessing/vocab_list/kkmaCorpus.pkl\",\"wb\") as f:\n",
    "    pkl.dump(kkmaSent, f)"
   ]
  },
  {
   "cell_type": "code",
   "execution_count": 42,
   "metadata": {},
   "outputs": [
    {
     "name": "stdout",
     "output_type": "stream",
     "text": [
      "Create (word, contexts) matrix\n",
      "  - counting word frequency from 2252 sents, mem=0.129 Gb\n",
      "  - scanning (word, context) pairs from 2252 sents, mem=0.433 Gb\n",
      "  - (word, context) matrix was constructed. shape = (9500, 9500)                    \n",
      "  - done\n"
     ]
    }
   ],
   "source": [
    "input_matrix, index2voca = sent_to_word_contexts_matrix(kkmaSent, windows=5, min_tf=5, dynamic_weight=True, verbose=True)\n",
    "\n",
    "svd = TruncatedSVD(n_components=10)\n",
    "vectors = svd.fit_transform(input_matrix)"
   ]
  },
  {
   "cell_type": "code",
   "execution_count": 43,
   "metadata": {},
   "outputs": [
    {
     "data": {
      "text/plain": [
       "(10, 9500)"
      ]
     },
     "execution_count": 43,
     "metadata": {},
     "output_type": "execute_result"
    }
   ],
   "source": [
    "np.shape(svd.components_) # 토픽 개수 (V^T) x 단어 개수"
   ]
  },
  {
   "cell_type": "code",
   "execution_count": 45,
   "metadata": {},
   "outputs": [
    {
     "name": "stdout",
     "output_type": "stream",
     "text": [
      "Topic 1: [('피고인', 0.69541), ('공소', 0.36575), ('사실', 0.22215), ('위', 0.21398), ('원심', 0.15981), ('의', 0.13526), ('회사', 0.12585), ('공', 0.11784), ('소외', 0.11331), ('사건', 0.1094), ('이유', 0.10619), ('점', 0.10228), ('인정', 0.10212), ('판결', 0.09263), ('부분', 0.09197)]\n",
      "Topic 2: [('공소', 0.53087), ('소외', 0.30785), ('회사', 0.30555), ('공', 0.29688), ('외', 0.16781), ('주식회사', 0.15263), ('피해자', 0.05135), ('명의', 0.04826), ('주식', 0.03982), ('대', 0.03485), ('자금', 0.03254), ('은행', 0.02902), ('로', 0.02782), ('이사', 0.02698), ('경', 0.0263)]\n",
      "Topic 3: [('제조', 0.64139), ('제항', 0.45687), ('형법', 0.26359), ('공소', 0.2528), ('제호', 0.22529), ('회사', 0.09359), ('사실', 0.08974), ('소송법', 0.08834), ('법률', 0.08709), ('형사', 0.07704), ('외', 0.07318), ('범죄', 0.07036), ('전단', 0.06551), ('법', 0.05972), ('가중', 0.05865)]\n",
      "Topic 4: [('피고인', 0.38245), ('공', 0.24589), ('소외', 0.24578), ('제조', 0.23793), ('제항', 0.15985), ('형법', 0.10956), ('의', 0.10438), ('주식회사', 0.08546), ('은', 0.08192), ('제호', 0.07678), ('경', 0.04986), ('대판', 0.04721), ('로', 0.04028), ('이', 0.0376), ('공동', 0.03018)]\n",
      "Topic 5: [('소외', 0.49818), ('공', 0.49038), ('판결', 0.3201), ('원심', 0.23977), ('주식회사', 0.1895), ('선고', 0.17711), ('이유', 0.17068), ('도', 0.14348), ('판단', 0.11965), ('상고', 0.11953), ('대법원', 0.10691), ('참조', 0.08868), ('회사', 0.084), ('법리', 0.05818), ('위법', 0.05136)]\n",
      "Topic 6: [('공', 0.69762), ('주식회사', 0.03408), ('회사', 0.02885), ('의', 0.02287), ('은', 0.01205), ('로', 0.00953), ('명의', 0.0069), ('을', 0.00613), ('이', 0.00575), ('사실', 0.00551), ('위', 0.00375), ('원심', 0.00298), ('사건', 0.00298), ('진술', 0.00291), ('은행', 0.00287)]\n",
      "Topic 7: [('선고', 0.39818), ('도', 0.37453), ('판결', 0.3229), ('대법원', 0.27768), ('참조', 0.19726), ('피고인', 0.10519), ('경', 0.06694), ('주문', 0.06247), ('대법관', 0.05652), ('심', 0.05283), ('은', 0.05046), ('피해자', 0.04711), ('의견', 0.04083), ('이', 0.03974), ('형', 0.03948)]\n",
      "Topic 8: [('범죄', 0.3632), ('사실', 0.318), ('인정', 0.30256), ('증거', 0.14921), ('처벌', 0.14715), ('가중', 0.13552), ('법률', 0.13053), ('행위', 0.12261), ('특정', 0.11976), ('경제', 0.11523), ('위', 0.10931), ('공', 0.1048), ('소외', 0.09985), ('일람표', 0.09635), ('위반', 0.09378)]\n",
      "Topic 9: [('인정', 0.35562), ('공소', 0.3489), ('범죄', 0.27351), ('오인', 0.14668), ('판결', 0.06729), ('피고인', 0.05296), ('공', 0.04933), ('판시', 0.03983), ('요지', 0.03982), ('판단', 0.03904), ('위', 0.03414), ('기재', 0.02896), ('관계', 0.02888), ('제항', 0.02849), ('법리', 0.02713)]\n",
      "Topic 10: [('원심', 0.62811), ('선고', 0.1579), ('도', 0.15085), ('심', 0.10652), ('참조', 0.0908), ('주문', 0.09063), ('영향', 0.08506), ('대법관', 0.07484), ('확정', 0.06941), ('범죄', 0.05741), ('대법원', 0.05723), ('상고', 0.04694), ('의견', 0.04293), ('오인', 0.03468), ('위법', 0.03228)]\n"
     ]
    }
   ],
   "source": [
    "terms = index2voca # 단어 집합. 1,000개의 단어가 저장됨.\n",
    "\n",
    "def get_topics(components, feature_names, n=15):\n",
    "    for idx, topic in enumerate(components):\n",
    "        print(\"Topic %d:\" % (idx+1), [(feature_names[i], topic[i].round(5)) for i in topic.argsort()[:-n - 1:-1]])\n",
    "        \n",
    "get_topics(svd.components_,terms)"
   ]
  }
 ],
 "metadata": {
  "kernelspec": {
   "display_name": "Python 3.8.18 ('NLP')",
   "language": "python",
   "name": "python3"
  },
  "language_info": {
   "codemirror_mode": {
    "name": "ipython",
    "version": 3
   },
   "file_extension": ".py",
   "mimetype": "text/x-python",
   "name": "python",
   "nbconvert_exporter": "python",
   "pygments_lexer": "ipython3",
   "version": "3.8.18"
  },
  "orig_nbformat": 4,
  "vscode": {
   "interpreter": {
    "hash": "d49957daa954e6bec9f177fc046718ee074770fab86eb9520507fb7fbdbef1cf"
   }
  }
 },
 "nbformat": 4,
 "nbformat_minor": 2
}
