{
 "cells": [
  {
   "cell_type": "code",
   "execution_count": 1,
   "metadata": {},
   "outputs": [],
   "source": [
    "import pandas as pd\n",
    "import numpy as np\n",
    "import pickle as pk\n",
    "import re\n",
    "\n",
    "import sys, os\n",
    "sys.path.append(os.path.dirname(os.path.abspath(os.path.dirname('__file__'))))"
   ]
  },
  {
   "cell_type": "code",
   "execution_count": 2,
   "metadata": {},
   "outputs": [
    {
     "data": {
      "text/html": [
       "<div>\n",
       "<style scoped>\n",
       "    .dataframe tbody tr th:only-of-type {\n",
       "        vertical-align: middle;\n",
       "    }\n",
       "\n",
       "    .dataframe tbody tr th {\n",
       "        vertical-align: top;\n",
       "    }\n",
       "\n",
       "    .dataframe thead th {\n",
       "        text-align: right;\n",
       "    }\n",
       "</style>\n",
       "<table border=\"1\" class=\"dataframe\">\n",
       "  <thead>\n",
       "    <tr style=\"text-align: right;\">\n",
       "      <th></th>\n",
       "      <th>index</th>\n",
       "      <th>판례일련번호</th>\n",
       "      <th>사건명</th>\n",
       "      <th>사건번호</th>\n",
       "      <th>선고일자</th>\n",
       "      <th>법원명</th>\n",
       "      <th>사건종류명</th>\n",
       "      <th>사건종류코드</th>\n",
       "      <th>판결유형</th>\n",
       "      <th>선고</th>\n",
       "      <th>판례상세링크</th>\n",
       "      <th>판시사항</th>\n",
       "      <th>판결요지</th>\n",
       "      <th>참조조문</th>\n",
       "      <th>참조판례</th>\n",
       "      <th>판례내용</th>\n",
       "    </tr>\n",
       "  </thead>\n",
       "  <tbody>\n",
       "    <tr>\n",
       "      <th>0</th>\n",
       "      <td>20</td>\n",
       "      <td>238021</td>\n",
       "      <td>특정경제범죄가중처벌등에관한법률위반(사기)·사기</td>\n",
       "      <td>2023도12424</td>\n",
       "      <td>2023.11.16</td>\n",
       "      <td>대법원</td>\n",
       "      <td>형사</td>\n",
       "      <td>400102.0</td>\n",
       "      <td>판결</td>\n",
       "      <td>선고</td>\n",
       "      <td>/DRF/lawService.do?OC=yeorii&amp;target=prec&amp;ID=23...</td>\n",
       "      <td>유사수신행위를 금지·처벌하는 유사수신행위의 규제에 관한 법률 제6조 제1항, 제3...</td>\n",
       "      <td>유사수신행위의 규제에 관한 법률(이하 ‘유사수신행위법’이라 한다) 제6조 제1항, ...</td>\n",
       "      <td>유사수신행위의 규제에 관한 법률 제3조, 제6조 제1항, 형법 제37조, 제347조...</td>\n",
       "      <td>내용없음</td>\n",
       "      <td>【피 고 인】 피고인【상 고 인】 피고인【변 호 인】 변호사 장용배【배상신청인】 배...</td>\n",
       "    </tr>\n",
       "  </tbody>\n",
       "</table>\n",
       "</div>"
      ],
      "text/plain": [
       "   index  판례일련번호                        사건명        사건번호        선고일자  법원명  \\\n",
       "0     20  238021  특정경제범죄가중처벌등에관한법률위반(사기)·사기  2023도12424  2023.11.16  대법원   \n",
       "\n",
       "  사건종류명    사건종류코드 판결유형  선고                                             판례상세링크  \\\n",
       "0    형사  400102.0   판결  선고  /DRF/lawService.do?OC=yeorii&target=prec&ID=23...   \n",
       "\n",
       "                                                판시사항  \\\n",
       "0   유사수신행위를 금지·처벌하는 유사수신행위의 규제에 관한 법률 제6조 제1항, 제3...   \n",
       "\n",
       "                                                판결요지  \\\n",
       "0  유사수신행위의 규제에 관한 법률(이하 ‘유사수신행위법’이라 한다) 제6조 제1항, ...   \n",
       "\n",
       "                                                참조조문  참조판례  \\\n",
       "0  유사수신행위의 규제에 관한 법률 제3조, 제6조 제1항, 형법 제37조, 제347조...  내용없음   \n",
       "\n",
       "                                                판례내용  \n",
       "0  【피 고 인】 피고인【상 고 인】 피고인【변 호 인】 변호사 장용배【배상신청인】 배...  "
      ]
     },
     "execution_count": 2,
     "metadata": {},
     "output_type": "execute_result"
    }
   ],
   "source": [
    "case_fraud = pd.read_csv('../1_Data/case_fraud.csv')\n",
    "case_fraud.head(1)"
   ]
  },
  {
   "cell_type": "markdown",
   "metadata": {},
   "source": [
    "# 0. 사건 Input"
   ]
  },
  {
   "cell_type": "code",
   "execution_count": 3,
   "metadata": {},
   "outputs": [],
   "source": [
    "user_input = \"저는 3대 독자인 남편과 혼인하여 3명의 딸을 두고 있어 아들 낳기를 고심하던 중 甲이 운영하는 병원에서 시술을 받으면\\\n",
    "    아들을 낳을 수 있다는 소문을 들었습니다. 저는 甲의 병원에 찾아가 甲에게 “아들을 낳고 싶다.”라고 하면서 甲으로부터 \\\n",
    "    일련의 시술과 처방을 받고 의료수가 및 약값 명목으로 금원을 지불하였으나 아무런 효과가 없었습니다. \\\n",
    "    이 경우 甲에게 형사상 죄책을 물을 수 있는지요?\""
   ]
  },
  {
   "cell_type": "code",
   "execution_count": 4,
   "metadata": {},
   "outputs": [],
   "source": [
    "import hanja\n",
    "import re\n",
    "from nltk import sent_tokenize\n",
    "\n",
    "\n",
    "def prep(sent):\n",
    "    sent = hanja.translate(sent, 'substitution')\n",
    "    sent = re.sub(r'\\?', '.', sent)\n",
    "    sent = re.sub('[^가-힣. ]', '', sent)\n",
    "\n",
    "    return sent\n",
    "\n",
    "def tokenize(sent):\n",
    "    sent_tokened = sent_tokenize(sent)\n",
    "\n",
    "    return sent_tokened"
   ]
  },
  {
   "cell_type": "code",
   "execution_count": 5,
   "metadata": {},
   "outputs": [
    {
     "data": {
      "text/plain": [
       "['저는 대 독자인 남편과 혼인하여 명의 딸을 두고 있어 아들 낳기를 고심하던 중 갑이 운영하는 병원에서 시술을 받으면    아들을 낳을 수 있다는 소문을 들었습니다.',\n",
       " '저는 갑의 병원에 찾아가 갑에게 아들을 낳고 싶다.라고 하면서 갑으로부터     일련의 시술과 처방을 받고 의료수가 및 약값 명목으로 금원을 지불하였으나 아무런 효과가 없었습니다.',\n",
       " '이 경우 갑에게 형사상 죄책을 물을 수 있는지요.']"
      ]
     },
     "execution_count": 5,
     "metadata": {},
     "output_type": "execute_result"
    }
   ],
   "source": [
    "input_prep = prep(user_input)\n",
    "input_tokened = tokenize(input_prep)\n",
    "input_tokened"
   ]
  },
  {
   "cell_type": "markdown",
   "metadata": {},
   "source": [
    "# 1. FastText"
   ]
  },
  {
   "cell_type": "markdown",
   "metadata": {},
   "source": [
    "### 1.1 모델 & 임베딩 로드"
   ]
  },
  {
   "cell_type": "code",
   "execution_count": 6,
   "metadata": {},
   "outputs": [],
   "source": [
    "from gensim.models import FastText\n",
    "\n",
    "# 모델 로드\n",
    "fasttext = FastText.load('./model/fasttext.model')\n",
    "\n",
    "# 임베딩 값 로드\n",
    "with open(\"./model/fasttext_emb.pickle\", 'rb') as fr:\n",
    "    fasttext_embedding = pk.load(fr)"
   ]
  },
  {
   "cell_type": "markdown",
   "metadata": {},
   "source": [
    "### 1.2 사용자 입력 임베딩"
   ]
  },
  {
   "cell_type": "code",
   "execution_count": 7,
   "metadata": {},
   "outputs": [],
   "source": [
    "embedding = None\n",
    "count = 0\n",
    "for sentence in input_tokened:\n",
    "    if embedding is None:\n",
    "        embedding = fasttext.wv.get_sentence_vector(sentence)\n",
    "    else:\n",
    "        embedding += fasttext.wv.get_sentence_vector(sentence)\n",
    "    count += 1\n",
    "\n",
    "f_embedding = embedding / count"
   ]
  },
  {
   "cell_type": "markdown",
   "metadata": {},
   "source": [
    "### 1.3 코사인 유사도 계산"
   ]
  },
  {
   "cell_type": "code",
   "execution_count": 8,
   "metadata": {},
   "outputs": [],
   "source": [
    "from sklearn.metrics.pairwise import cosine_similarity\n",
    "\n",
    "f_similarity = cosine_similarity([f_embedding], fasttext_embedding)\n",
    "f_similarity = list(enumerate(f_similarity[0]))\n",
    "f_similarity = sorted(f_similarity, key=lambda x : x[1], reverse = True)"
   ]
  },
  {
   "cell_type": "markdown",
   "metadata": {},
   "source": [
    "### 1.4 유사 판례 추출"
   ]
  },
  {
   "cell_type": "code",
   "execution_count": 9,
   "metadata": {},
   "outputs": [],
   "source": [
    "precidents = []\n",
    "\n",
    "for i in range(5):\n",
    "    idx = f_similarity[i][0]\n",
    "    sim = round(f_similarity[i][1] * 100, 2)\n",
    "    \n",
    "    precidents.append([case_fraud['판례일련번호'][idx], case_fraud['사건명'][idx], case_fraud['판례내용'][idx], sim])"
   ]
  },
  {
   "cell_type": "code",
   "execution_count": 10,
   "metadata": {},
   "outputs": [
    {
     "data": {
      "text/html": [
       "<div>\n",
       "<style scoped>\n",
       "    .dataframe tbody tr th:only-of-type {\n",
       "        vertical-align: middle;\n",
       "    }\n",
       "\n",
       "    .dataframe tbody tr th {\n",
       "        vertical-align: top;\n",
       "    }\n",
       "\n",
       "    .dataframe thead th {\n",
       "        text-align: right;\n",
       "    }\n",
       "</style>\n",
       "<table border=\"1\" class=\"dataframe\">\n",
       "  <thead>\n",
       "    <tr style=\"text-align: right;\">\n",
       "      <th></th>\n",
       "      <th>판례일련번호</th>\n",
       "      <th>사건명</th>\n",
       "      <th>판례내용</th>\n",
       "      <th>유사도</th>\n",
       "    </tr>\n",
       "  </thead>\n",
       "  <tbody>\n",
       "    <tr>\n",
       "      <th>0</th>\n",
       "      <td>183664</td>\n",
       "      <td>사기·의료법위반</td>\n",
       "      <td>【피 고 인】 【상 고 인】 피고인들【변 호 인】 변호사 조재현 외 1인【원심판결】...</td>\n",
       "      <td>95.36</td>\n",
       "    </tr>\n",
       "    <tr>\n",
       "      <th>1</th>\n",
       "      <td>64755</td>\n",
       "      <td>특정경제범죄가중처벌등에관한법률위반(사기)·사문서위조·위조사문서행사·사기·무고</td>\n",
       "      <td>【피 고 인】 【상 고 인】 피고인【변 호 인】 변호사 박중욱【원심판결】 대전고법 ...</td>\n",
       "      <td>95.10</td>\n",
       "    </tr>\n",
       "    <tr>\n",
       "      <th>2</th>\n",
       "      <td>105837</td>\n",
       "      <td>사기</td>\n",
       "      <td>【피 고 인】 【상 고 인】   검사【원심판결】 \\n서울형사지방법원 1989.3.1...</td>\n",
       "      <td>94.85</td>\n",
       "    </tr>\n",
       "    <tr>\n",
       "      <th>3</th>\n",
       "      <td>206151</td>\n",
       "      <td>특정경제범죄가중처벌등에관한법률위반(사기)·유가증권위조(일부인정된죄명유가증권변조)·위...</td>\n",
       "      <td>【피 고 인】 피고인 1 외 2인【항 소 인】 검사 및 (피고인 1, 피고인 2에 ...</td>\n",
       "      <td>94.78</td>\n",
       "    </tr>\n",
       "    <tr>\n",
       "      <th>4</th>\n",
       "      <td>204534</td>\n",
       "      <td>사기</td>\n",
       "      <td>【피 고 인】 【항 소 인】 검사【검    사】 이유현(기소), 이윤환(공판)【원심...</td>\n",
       "      <td>94.74</td>\n",
       "    </tr>\n",
       "  </tbody>\n",
       "</table>\n",
       "</div>"
      ],
      "text/plain": [
       "   판례일련번호                                                사건명  \\\n",
       "0  183664                                           사기·의료법위반   \n",
       "1   64755         특정경제범죄가중처벌등에관한법률위반(사기)·사문서위조·위조사문서행사·사기·무고   \n",
       "2  105837                                                 사기   \n",
       "3  206151  특정경제범죄가중처벌등에관한법률위반(사기)·유가증권위조(일부인정된죄명유가증권변조)·위...   \n",
       "4  204534                                                 사기   \n",
       "\n",
       "                                                판례내용    유사도  \n",
       "0  【피 고 인】 【상 고 인】 피고인들【변 호 인】 변호사 조재현 외 1인【원심판결】...  95.36  \n",
       "1  【피 고 인】 【상 고 인】 피고인【변 호 인】 변호사 박중욱【원심판결】 대전고법 ...  95.10  \n",
       "2  【피 고 인】 【상 고 인】   검사【원심판결】 \\n서울형사지방법원 1989.3.1...  94.85  \n",
       "3  【피 고 인】 피고인 1 외 2인【항 소 인】 검사 및 (피고인 1, 피고인 2에 ...  94.78  \n",
       "4  【피 고 인】 【항 소 인】 검사【검    사】 이유현(기소), 이윤환(공판)【원심...  94.74  "
      ]
     },
     "execution_count": 10,
     "metadata": {},
     "output_type": "execute_result"
    }
   ],
   "source": [
    "f_result = pd.DataFrame(precidents, columns=['판례일련번호', '사건명', '판례내용', '유사도'])\n",
    "f_result"
   ]
  },
  {
   "cell_type": "code",
   "execution_count": 11,
   "metadata": {},
   "outputs": [
    {
     "data": {
      "text/plain": [
       "'【피 고 인】 【상 고 인】 피고인들【변 호 인】 변호사 조재현 외 1인【원심판결】 수원지법 2016. 7. 1. 선고 2016노2573 판결【주    문】  상고를 모두 기각한다.【이    유】  상고이유를 판단한다.  1. 피고인 1의 상고이유에 관하여  원심판결에 양형사유에 관한 심리미진의 위법이 있다는 취지의 주장은 결국 양형부당 주장에 해당한다. 그런데 형사소송법 제383조 제4호에 의하면 사형, 무기 또는 10년 이상의 징역이나 금고가 선고된 사건에서만 양형부당을 사유로 한 상고가 허용되므로, 피고인에 대하여 그보다 가벼운 형이 선고된 이 사건에서 형의 양정이 부당하다는 취지의 주장은 적법한 상고이유가 되지 못한다.  2. 피고인 2의 상고이유에 관하여  가. 의료법 제33조 제8항에서 의사가 개설·운영할 수 있는 의료기관의 수를 1개소로 제한하고 있는 취지는 의료기관을 개설하는 의사가 자신의 면허를 바탕으로 개설된 의료기관에서 이루어지는 의료행위에 전념하도록 하기 위하여 장소적 한계를 설정함으로써 의료의 적정을 기하여 국민의 건강을 보호·증진하고자 하는 데 있다.따라서 이미 자신 명의로 의료기관을 개설·운영하면서 의료행위를 하고 있는 의사가 다른 의사를 고용하여 그 의사 명의로 새로운 의료기관을 개설하고 그 운영에 직접 관여하는 데서 더 나아가 그 의료기관에서 자신이 직접 의료행위를 하거나 비의료인을 고용하여 자신의 주관하에 의료행위를 하게 한 경우에는 이미 자신의 명의로 의료기관을 개설·운영하고 있는 위 의사로서는 중복하여 의료기관을 개설한 경우에 해당한다(대법원 2003. 10. 23. 선고 2003도256 판결, 대법원 2008. 9. 25. 선고 2006도4652 판결 등 참조). 또한 이미 자신의 명의로 의료기관을 개설·운영하면서 의료행위를 하고 있는 의사가 다른 의사가 개설·운영하고 있는 기존 의료기관을 인수하여 의료법 제33조 제5항 등에 따른 개설자 명의변경 신고 또는 허가를 받지 아니한 채 또는 다른 의사의 면허증을 대여받아 그 의사 명의로 개설자 명의변경 신고 또는 허가를 받아 종전 개설자를 배제하고 그 의료기관의 시설과 인력의 관리, 의료업의 시행, 필요한 자금의 조달, 그 운영성과의 귀속 등 의료기관의 운영을 실질적으로 지배·관리하는 등 종전 개설자의 의료기관 운영행위와 단절되는 새로운 운영행위를 한 것으로 볼 수 있는 경우에는 이미 자신의 명의로 의료기관을 개설·운영하고 있는 위 의사로서는 중복하여 의료기관을 운영한 경우에 해당한다.  나. 원심판결 이유와 원심이 인용한 제1심이 적법하게 채택하여 조사한 증거들에 의하면, 다음과 같은 사실을 알 수 있다.  (1) 화성시 (주소 1 생략)에서 ‘○○병원’을 운영하던 피고인 2는 2013. 7.경 공소외 1의 소개로 안산시 (주소 2 생략)에서 ‘△△△△병원’을 운영하던 공소외 2와 사이에 각자 운영하던 ○○병원과 △△△△병원을 교환하여 운영하기로 하는 내용의 교환계약(이하 ‘이 사건 교환계약’이라고 한다)을 체결하였다. 당시 공소외 2는 다액의 채무를 부담하고 있어 정상적으로 △△△△병원을 운영하기 어려운 상황이었고, △△△△병원 건물에 관하여는 수원지방법원 안산지원 2011타경15721 등으로 부동산임의경매절차가 진행 중이었다.  (2) 이 사건 교환계약에 따라서 피고인 2는 2013. 8. 5. 의료법 제33조 제5항 등에 따라 △△△△병원의 개설자 명의를 공소외 2에서 피고인 2로 변경허가를 받아 운영하였고(이후 병원의 상호를 ‘□□병원’으로 변경하였다. 이하 ‘△△△△병원’이라고 한다), 공소외 2는 2013. 8. 6. ○○병원의 개설자 명의를 피고인 2에서 공소외 2로 변경허가를 받아 운영하였다(이후 병원의 상호를 ‘◇◇◇병원’으로 변경하였다. 이하 ‘○○병원’이라고 한다).  (3) 공소외 2가 위와 같이 ○○병원을 운영하기 시작한 지 채 한 달도 되지 않아 공소외 2에 대한 기존 채권자들이 공소외 2가 운영하는 ○○병원의 재산에 대하여 가압류 등을 실시하여 더 이상 병원 운영이 어렵게 되었다. 이에 공소외 2는 2013. 9. 3. 미국시민권자로서 미국에 대부분 거주하고, 고령으로 진료가 불가능한 의사 공소외 4의 명의를 빌려 ○○병원에 관한 양도양수계약서를 작성한 후 2013. 9. 4. ○○병원의 개설자를 공소외 2에서 공소외 4로 변경허가를 받았는데, 공소외 4는 위와 같은 명의대여의 대가로 매월 500만 원을 지급받기로 하였을 뿐 실제로 ○○병원에 출근하여 진료업무를 전혀 수행한 바 없었다.  (4) ○○병원의 개설자가 위와 같이 피고인 2에서 공소외 2로, 공소외 2에서 공소외 4로 각 변경될 당시 피고인 2가 종전에 운영하던 ○○병원의 직원들에 대한 고용이 대부분 그대로 승계되었고, 시설도 그대로 사용하였으며, 거래처도 그대로 유지되고 있었다.  다. 원심판결 이유에 의하면, 원심은 ① 피고인 2가 2013. 9. 5.경 △△△△병원의 직원인 공소외 5를 ○○병원으로 출근하도록 지시하여 공소외 5로 하여금 그 무렵부터 △△△△병원으로 복귀한 2013. 12. 5.경까지 ○○병원의 자금관리 업무를 담당하도록 하였고, 그 과정에서 공소외 5를 통하여 ○○병원의 수입을 관리하고, 임금 지급, 물품 구매 등 지출에 관한 의사결정 권한을 행사한 점, ② 공소외 2가 2013. 9. 5.경 피고인 2와 고용계약을 체결하고 일정한 급여를 지급받으면서 ○○병원에서 의료행위를 한 점, ③ 피고인 2가 공소외 5를 통하여 ○○병원을 운영하여 거둔 수익을 취득한 점, ④ 피고인 2, 공소외 2, 피고인 1 사이에서 2013. 12.경 ○○병원의 운영권을 공소외 2를 거쳐서 피고인 1에게 양도하기로 약정한 후 위 약정에 따라 공소외 2는 2013. 12. 4.경 피고인 2로부터, 피고인 1은 2013. 12. 16.경 공소외 2로부터 ○○병원의 운영권을 순차로 양도받은 점 등을 들어 피고인 2가 △△△△병원을 운영하면서 ○○병원의 운영에도 직접 관여하였다고 보아 피고인 2에 대하여 이 사건 공소사실을 유죄로 인정한 제1심판결을 그대로 유지하였다. 나아가 원심은 공소외 2와 사이에 체결한 이 사건 교환계약의 이행 후에 △△△△병원의 재정이 악화되어 있음을 뒤늦게 깨닫고 이해관계를 재조정하는 과정에서 일시적으로 ○○병원의 자금을 관리한 것에 불과할 뿐 ○○병원을 운영한 것이 아니라는 피고인 2의 주장을 그 판시와 같은 사정을 들어 배척하였다.  위와 같은 사실관계와 사정들을 앞서 본 법리에 비추어 살펴보면, 원심의 위와 같은 조치는 정당하고, 거기에 상고이유 주장과 같이 논리와 경험의 법칙을 위반하여 자유심증주의의 한계를 벗어나거나 의료기관의 중복운영에 관한 법리를 오해하는 등의 잘못이 없다.  3. 그러므로 상고를 모두 기각하기로 하여, 관여 대법관의 일치된 의견으로 주문과 같이 판결한다.대법관 김재형(재판장) 박병대 박보영(주심) 권순일 '"
      ]
     },
     "execution_count": 11,
     "metadata": {},
     "output_type": "execute_result"
    }
   ],
   "source": [
    "f_result.판례내용[0]"
   ]
  }
 ],
 "metadata": {
  "kernelspec": {
   "display_name": "Python 3.8.18 ('NLP')",
   "language": "python",
   "name": "python3"
  },
  "language_info": {
   "codemirror_mode": {
    "name": "ipython",
    "version": 3
   },
   "file_extension": ".py",
   "mimetype": "text/x-python",
   "name": "python",
   "nbconvert_exporter": "python",
   "pygments_lexer": "ipython3",
   "version": "3.8.18"
  },
  "orig_nbformat": 4,
  "vscode": {
   "interpreter": {
    "hash": "d49957daa954e6bec9f177fc046718ee074770fab86eb9520507fb7fbdbef1cf"
   }
  }
 },
 "nbformat": 4,
 "nbformat_minor": 2
}
