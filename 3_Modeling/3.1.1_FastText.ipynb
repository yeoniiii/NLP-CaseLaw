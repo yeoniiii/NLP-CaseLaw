{
 "cells": [
  {
   "cell_type": "markdown",
   "metadata": {},
   "source": [
    "# 0. 라이브러리 & 데이터"
   ]
  },
  {
   "cell_type": "markdown",
   "metadata": {},
   "source": [
    "## 0.1 라이브러리"
   ]
  },
  {
   "cell_type": "code",
   "execution_count": 26,
   "metadata": {},
   "outputs": [],
   "source": [
    "import pandas as pd\n",
    "import numpy as np\n",
    "import pickle as pk\n",
    "from tqdm import tqdm"
   ]
  },
  {
   "cell_type": "code",
   "execution_count": 27,
   "metadata": {},
   "outputs": [],
   "source": [
    "pd.set_option('display.max_rows', None)\n",
    "pd.set_option('display.max_columns', None)\n",
    "\n",
    "import warnings\n",
    "warnings.simplefilter(\"ignore\")"
   ]
  },
  {
   "cell_type": "markdown",
   "metadata": {},
   "source": [
    "## 0.2 데이터"
   ]
  },
  {
   "cell_type": "code",
   "execution_count": 28,
   "metadata": {},
   "outputs": [
    {
     "data": {
      "text/html": [
       "<div>\n",
       "<style scoped>\n",
       "    .dataframe tbody tr th:only-of-type {\n",
       "        vertical-align: middle;\n",
       "    }\n",
       "\n",
       "    .dataframe tbody tr th {\n",
       "        vertical-align: top;\n",
       "    }\n",
       "\n",
       "    .dataframe thead th {\n",
       "        text-align: right;\n",
       "    }\n",
       "</style>\n",
       "<table border=\"1\" class=\"dataframe\">\n",
       "  <thead>\n",
       "    <tr style=\"text-align: right;\">\n",
       "      <th></th>\n",
       "      <th>index</th>\n",
       "      <th>판례일련번호</th>\n",
       "      <th>사건명</th>\n",
       "      <th>사건번호</th>\n",
       "      <th>선고일자</th>\n",
       "      <th>법원명</th>\n",
       "      <th>사건종류명</th>\n",
       "      <th>사건종류코드</th>\n",
       "      <th>판결유형</th>\n",
       "      <th>선고</th>\n",
       "      <th>판례상세링크</th>\n",
       "      <th>판시사항</th>\n",
       "      <th>판결요지</th>\n",
       "      <th>참조조문</th>\n",
       "      <th>참조판례</th>\n",
       "      <th>판례내용</th>\n",
       "      <th>판례내용_전처리</th>\n",
       "      <th>판례내용_전처리_한자</th>\n",
       "      <th>판례내용_전처리_글자수</th>\n",
       "      <th>판례내용_토큰화_코모란</th>\n",
       "      <th>판례내용_토큰화_꼬꼬마</th>\n",
       "    </tr>\n",
       "  </thead>\n",
       "  <tbody>\n",
       "    <tr>\n",
       "      <th>0</th>\n",
       "      <td>20</td>\n",
       "      <td>238021</td>\n",
       "      <td>특정경제범죄가중처벌등에관한법률위반(사기)·사기</td>\n",
       "      <td>2023도12424</td>\n",
       "      <td>2023.11.16</td>\n",
       "      <td>대법원</td>\n",
       "      <td>형사</td>\n",
       "      <td>400102.0</td>\n",
       "      <td>판결</td>\n",
       "      <td>선고</td>\n",
       "      <td>/DRF/lawService.do?OC=yeorii&amp;target=prec&amp;ID=23...</td>\n",
       "      <td>유사수신행위를 금지·처벌하는 유사수신행위의 규제에 관한 법률 제6조 제1항, 제3...</td>\n",
       "      <td>유사수신행위의 규제에 관한 법률(이하 ‘유사수신행위법’이라 한다) 제6조 제1항, ...</td>\n",
       "      <td>유사수신행위의 규제에 관한 법률 제3조, 제6조 제1항, 형법 제37조, 제347조...</td>\n",
       "      <td>내용없음</td>\n",
       "      <td>【피 고 인】 피고인【상 고 인】 피고인【변 호 인】 변호사 장용배【배상신청인】 배...</td>\n",
       "      <td>상고이유를 판단한다   불가벌적 사후행위에 대한 판단유사수신행위의 규제에 관한 ...</td>\n",
       "      <td>상고이유를 판단한다.  1. 불가벌적 사후행위에 대한 판단「유사수신행위의 규제에...</td>\n",
       "      <td>1066</td>\n",
       "      <td>['상고', '이유', '를', '판단', '하', 'ㄴ다', '불가벌적 사후행위'...</td>\n",
       "      <td>['상고', '이유', '를', '판단', '하', 'ㄴ다', '불가', '벌', ...</td>\n",
       "    </tr>\n",
       "  </tbody>\n",
       "</table>\n",
       "</div>"
      ],
      "text/plain": [
       "   index  판례일련번호                        사건명        사건번호        선고일자  법원명  \\\n",
       "0     20  238021  특정경제범죄가중처벌등에관한법률위반(사기)·사기  2023도12424  2023.11.16  대법원   \n",
       "\n",
       "  사건종류명    사건종류코드 판결유형  선고                                             판례상세링크  \\\n",
       "0    형사  400102.0   판결  선고  /DRF/lawService.do?OC=yeorii&target=prec&ID=23...   \n",
       "\n",
       "                                                판시사항  \\\n",
       "0   유사수신행위를 금지·처벌하는 유사수신행위의 규제에 관한 법률 제6조 제1항, 제3...   \n",
       "\n",
       "                                                판결요지  \\\n",
       "0  유사수신행위의 규제에 관한 법률(이하 ‘유사수신행위법’이라 한다) 제6조 제1항, ...   \n",
       "\n",
       "                                                참조조문  참조판례  \\\n",
       "0  유사수신행위의 규제에 관한 법률 제3조, 제6조 제1항, 형법 제37조, 제347조...  내용없음   \n",
       "\n",
       "                                                판례내용  \\\n",
       "0  【피 고 인】 피고인【상 고 인】 피고인【변 호 인】 변호사 장용배【배상신청인】 배...   \n",
       "\n",
       "                                            판례내용_전처리  \\\n",
       "0    상고이유를 판단한다   불가벌적 사후행위에 대한 판단유사수신행위의 규제에 관한 ...   \n",
       "\n",
       "                                         판례내용_전처리_한자  판례내용_전처리_글자수  \\\n",
       "0    상고이유를 판단한다.  1. 불가벌적 사후행위에 대한 판단「유사수신행위의 규제에...          1066   \n",
       "\n",
       "                                        판례내용_토큰화_코모란  \\\n",
       "0  ['상고', '이유', '를', '판단', '하', 'ㄴ다', '불가벌적 사후행위'...   \n",
       "\n",
       "                                        판례내용_토큰화_꼬꼬마  \n",
       "0  ['상고', '이유', '를', '판단', '하', 'ㄴ다', '불가', '벌', ...  "
      ]
     },
     "execution_count": 28,
     "metadata": {},
     "output_type": "execute_result"
    }
   ],
   "source": [
    "case_fraud = pd.read_csv('../1_Data/case_fraud_prep.csv')\n",
    "case_fraud.head(1)"
   ]
  },
  {
   "cell_type": "code",
   "execution_count": 29,
   "metadata": {},
   "outputs": [
    {
     "data": {
      "text/plain": [
       "['상고', '이유', '판단', '불가', '사후', '행위', '판단', '유사', '수신', '행위']"
      ]
     },
     "execution_count": 29,
     "metadata": {},
     "output_type": "execute_result"
    }
   ],
   "source": [
    "kkmaVocab = []\n",
    "with open(\"../2_Preprocessing/vocab_list/kkma.txt\", \"r\") as file:\n",
    "    for i in file:\n",
    "        kkmaVocab.append(i.strip())\n",
    "kkmaVocab[:10]"
   ]
  },
  {
   "cell_type": "code",
   "execution_count": 30,
   "metadata": {},
   "outputs": [],
   "source": [
    "# komoranVocab = []\n",
    "# with open(\"../2_Preprocessing/vocab_list/kkma.txt\", \"r\") as file:\n",
    "#     for i in file:\n",
    "#         komoranVocab.append(i.strip())\n",
    "# komoranVocab[:10]"
   ]
  },
  {
   "cell_type": "markdown",
   "metadata": {},
   "source": [
    "# 1. 학습"
   ]
  },
  {
   "cell_type": "code",
   "execution_count": 31,
   "metadata": {},
   "outputs": [],
   "source": [
    "from gensim.models import FastText\n",
    "model = FastText(kkmaVocab, vector_size=512, window=7, min_count=5, workers=4)"
   ]
  },
  {
   "cell_type": "code",
   "execution_count": 32,
   "metadata": {},
   "outputs": [],
   "source": [
    "model.save('./model/fasttext.model')"
   ]
  },
  {
   "cell_type": "markdown",
   "metadata": {},
   "source": [
    "# 2. 임베딩"
   ]
  },
  {
   "cell_type": "code",
   "execution_count": 33,
   "metadata": {},
   "outputs": [],
   "source": [
    "model = FastText.load('./model/fasttext.model')"
   ]
  },
  {
   "cell_type": "markdown",
   "metadata": {},
   "source": [
    "## 2.1 임베딩 전 전처리"
   ]
  },
  {
   "cell_type": "markdown",
   "metadata": {},
   "source": [
    "### 2.1.1 이유 이후로 자르기"
   ]
  },
  {
   "cell_type": "code",
   "execution_count": 34,
   "metadata": {},
   "outputs": [],
   "source": [
    "case_fraud['판례내용_전처리2'] = case_fraud.판례내용.str.split('유】|유]').str[1]"
   ]
  },
  {
   "cell_type": "code",
   "execution_count": 35,
   "metadata": {},
   "outputs": [
    {
     "data": {
      "text/plain": [
       "0      상고이유를 판단한다.  1. 불가벌적 사후행위에 대한 판단「유사수신행위의 규제에...\n",
       "1      상고이유를 판단한다.   1. 피고인 1, 피고인 2, 피고인 3, 피고인 4,...\n",
       "Name: 판례내용_전처리2, dtype: object"
      ]
     },
     "execution_count": 35,
     "metadata": {},
     "output_type": "execute_result"
    }
   ],
   "source": [
    "case_fraud.판례내용_전처리2[:2]"
   ]
  },
  {
   "cell_type": "markdown",
   "metadata": {},
   "source": [
    "### 2.1.2 한자 전처리"
   ]
  },
  {
   "cell_type": "code",
   "execution_count": 36,
   "metadata": {},
   "outputs": [],
   "source": [
    "import hanja\n",
    "from hanja import hangul\n",
    "\n",
    "def hanja_to_hangul(sent):\n",
    "    return hanja.translate(sent, 'substitution')"
   ]
  },
  {
   "cell_type": "code",
   "execution_count": 37,
   "metadata": {},
   "outputs": [],
   "source": [
    "case_fraud.판례내용_전처리2 = case_fraud.판례내용_전처리2.apply(hanja_to_hangul)"
   ]
  },
  {
   "cell_type": "code",
   "execution_count": 38,
   "metadata": {},
   "outputs": [
    {
     "data": {
      "text/plain": [
       "0      상고이유를 판단한다.  1. 불가벌적 사후행위에 대한 판단「유사수신행위의 규제에...\n",
       "1      상고이유를 판단한다.   1. 피고인 1, 피고인 2, 피고인 3, 피고인 4,...\n",
       "Name: 판례내용_전처리2, dtype: object"
      ]
     },
     "execution_count": 38,
     "metadata": {},
     "output_type": "execute_result"
    }
   ],
   "source": [
    "case_fraud.판례내용_전처리2[:2]"
   ]
  },
  {
   "cell_type": "markdown",
   "metadata": {},
   "source": [
    "### 2.1.3 한글 외의 특수 문자 제거"
   ]
  },
  {
   "cell_type": "code",
   "execution_count": 39,
   "metadata": {},
   "outputs": [],
   "source": [
    "import re\n",
    "\n",
    "def remove_special_char(sent):\n",
    "    sent = re.sub(r'\\s[가-차]\\.', '', sent)\n",
    "    sent = re.sub(r'\\s[가-차]\\)', '', sent)\n",
    "    sent = re.sub(r'다\\)', '다.', sent)\n",
    "    sent = re.sub(r'제\\d+항', '', sent)\n",
    "    sent = re.sub(r'제\\d+조', '', sent)\n",
    "    sent = re.sub(r'제\\d+호', '', sent)\n",
    "    sent = re.sub('[^가-힣. ]', '', sent)\n",
    "    sent = re.sub(r'\\. \\.', '', sent)\n",
    "    sent = re.sub(r'\\.  \\.', '.', sent)\n",
    "    sent = re.sub(r'\\.경', '', sent)\n",
    "    return sent"
   ]
  },
  {
   "cell_type": "code",
   "execution_count": 40,
   "metadata": {},
   "outputs": [],
   "source": [
    "case_fraud.판례내용_전처리2 = case_fraud.판례내용_전처리2.apply(remove_special_char)"
   ]
  },
  {
   "cell_type": "code",
   "execution_count": 41,
   "metadata": {},
   "outputs": [
    {
     "data": {
      "text/plain": [
       "'  상고이유를 판단한다. 불가벌적 사후행위에 대한 판단유사수신행위의 규제에 관한 법률이하 유사수신행위법이라 한다.   를 위반한 행위는 그 자체가 사기행위에 해당한다거나 사기행위를 반드시 포함한다고 할 수 없고 유사수신행위법 위반죄가 형법  의 사기죄와 구성요건을 달리하는 별개의 범죄로서 서로 보호법익이 다른 이상 유사수신행위를 한 자가 출자자에게 별도의 기망행위를 하여 유사수신행위로 조달받은 자금의 전부 또는 일부를 다시 투자받는 행위는 유사수신행위법 위반죄와 다른 새로운 보호법익을 침해하는 것으로서 유사수신행위법 위반죄의 불가벌적 사후행위가 되는 것이 아니라 별죄인 사기죄를 구성한다.  원심은 판시와 같은 이유로 피고인의   피해자 공소외인에 대한 판시 사기의 점에 관한 공소사실에 대하여 유사수신행위법 에서 금지하는 유사수신행위에는 기망행위가 포함되어 있지 않고 유사수신행위법 위반죄와 사기죄는 구성요건을 달리하는 별개의 범죄로서 서로 행위의 태양이나 보호법익을 달리한다는 등의 이유로 기존 범죄인 유사수신행위법 위반죄의 가벌적 평가범위 내에 흡수되는 불가벌적 사후행위에 해당하지 않는다고 판단하였다.  원심판결 이유를 위 법리 및 기록에 비추어 살펴보면 이 부분 원심판단에 일부 적절하지 않은 점이 있으나 피고인의   피해자 공소외인에 대한 판시 사기죄가 유사수신행위법 위반죄의 불가벌적 사후행위에 해당하지 않는다고 본 원심의 판단에 불가벌적 사후행위에 관한 법리를 오해함으로써 판결에 영향을 미친 잘못이 없다. 나머지 상고이유에 대한 판단  이 부분 상고이유는 형사소송법  에서 정한 형보다 가벼운 형이 선고된 이 사건에서 사실오인법리오해를 내세우며 실질적으로 원심의 증거 선택 및 증명력에 관한 판단 또는 이에 기초한 사실인정을 탓하는 것이거나 원심이 인정한 사실과 다른 사실관계를 전제로 법리오해를 지적하는 취지의 주장 또는 형이 너무 무거워 부당하다는 취지의 주장에 해당하여 모두 적법한 상고이유로 볼 수 없다. 결론  그러므로 상고를 기각하기로 하여 관여 대법관의 일치된 의견으로 주문과 같이 판결한다.대법관 민유숙재판장 이동원 천대엽주심 권영준 '"
      ]
     },
     "execution_count": 41,
     "metadata": {},
     "output_type": "execute_result"
    }
   ],
   "source": [
    "case_fraud.판례내용_전처리2[0]"
   ]
  },
  {
   "cell_type": "code",
   "execution_count": 43,
   "metadata": {},
   "outputs": [
    {
     "data": {
      "text/html": [
       "<div>\n",
       "<style scoped>\n",
       "    .dataframe tbody tr th:only-of-type {\n",
       "        vertical-align: middle;\n",
       "    }\n",
       "\n",
       "    .dataframe tbody tr th {\n",
       "        vertical-align: top;\n",
       "    }\n",
       "\n",
       "    .dataframe thead th {\n",
       "        text-align: right;\n",
       "    }\n",
       "</style>\n",
       "<table border=\"1\" class=\"dataframe\">\n",
       "  <thead>\n",
       "    <tr style=\"text-align: right;\">\n",
       "      <th></th>\n",
       "      <th>판례일련번호</th>\n",
       "      <th>판례내용_전처리2</th>\n",
       "    </tr>\n",
       "  </thead>\n",
       "  <tbody>\n",
       "    <tr>\n",
       "      <th>0</th>\n",
       "      <td>238021</td>\n",
       "      <td>상고이유를 판단한다. 불가벌적 사후행위에 대한 판단유사수신행위의 규제에 관한 법...</td>\n",
       "    </tr>\n",
       "    <tr>\n",
       "      <th>1</th>\n",
       "      <td>237943</td>\n",
       "      <td>상고이유를 판단한다.   . 피고인  피고인  피고인  피고인  피고인 에 대한...</td>\n",
       "    </tr>\n",
       "    <tr>\n",
       "      <th>2</th>\n",
       "      <td>236477</td>\n",
       "      <td>직권으로 판단한다.   . 의료법 위반의 점에 관한 공소사실의 요지   피고인은...</td>\n",
       "    </tr>\n",
       "    <tr>\n",
       "      <th>3</th>\n",
       "      <td>236823</td>\n",
       "      <td>상고이유를 판단한다. 사건의 개요와 쟁점   의료법 위반의 점에 관한 공소사실의...</td>\n",
       "    </tr>\n",
       "    <tr>\n",
       "      <th>4</th>\n",
       "      <td>237903</td>\n",
       "      <td>. 이 법원의 심판범위  원심은 배상신청인들의 배상신청을 모두 각하하였다. 소송...</td>\n",
       "    </tr>\n",
       "  </tbody>\n",
       "</table>\n",
       "</div>"
      ],
      "text/plain": [
       "   판례일련번호                                          판례내용_전처리2\n",
       "0  238021    상고이유를 판단한다. 불가벌적 사후행위에 대한 판단유사수신행위의 규제에 관한 법...\n",
       "1  237943    상고이유를 판단한다.   . 피고인  피고인  피고인  피고인  피고인 에 대한...\n",
       "2  236477    직권으로 판단한다.   . 의료법 위반의 점에 관한 공소사실의 요지   피고인은...\n",
       "3  236823    상고이유를 판단한다. 사건의 개요와 쟁점   의료법 위반의 점에 관한 공소사실의...\n",
       "4  237903    . 이 법원의 심판범위  원심은 배상신청인들의 배상신청을 모두 각하하였다. 소송..."
      ]
     },
     "execution_count": 43,
     "metadata": {},
     "output_type": "execute_result"
    }
   ],
   "source": [
    "case_fraud_sent = pd.DataFrame(case_fraud[['판례일련번호', '판례내용_전처리2']])\n",
    "case_fraud_sent.head()"
   ]
  },
  {
   "cell_type": "code",
   "execution_count": 44,
   "metadata": {},
   "outputs": [],
   "source": [
    "case_fraud_sent.to_csv('../1_Data/case_fraud_sent.csv')"
   ]
  },
  {
   "cell_type": "markdown",
   "metadata": {},
   "source": [
    "## 2.2 문장 토큰화"
   ]
  },
  {
   "cell_type": "code",
   "execution_count": 157,
   "metadata": {},
   "outputs": [
    {
     "data": {
      "text/plain": [
       "['상고이유를 판단한다.',\n",
       " '불가벌적 사후행위에 대한 판단유사수신행위의 규제에 관한 법률이하 유사수신행위법이라 한다.',\n",
       " '를 위반한 행위는 그 자체가 사기행위에 해당한다거나 사기행위를 반드시 포함한다고 할 수 없고 유사수신행위법 위반죄가 형법  의 사기죄와 구성요건을 달리하는 별개의 범죄로서 서로 보호법익이 다른 이상 유사수신행위를 한 자가 출자자에게 별도의 기망행위를 하여 유사수신행위로 조달받은 자금의 전부 또는 일부를 다시 투자받는 행위는 유사수신행위법 위반죄와 다른 새로운 보호법익을 침해하는 것으로서 유사수신행위법 위반죄의 불가벌적 사후행위가 되는 것이 아니라 별죄인 사기죄를 구성한다.',\n",
       " '원심은 판시와 같은 이유로 피고인의   피해자 공소외인에 대한 판시 사기의 점에 관한 공소사실에 대하여 유사수신행위법 에서 금지하는 유사수신행위에는 기망행위가 포함되어 있지 않고 유사수신행위법 위반죄와 사기죄는 구성요건을 달리하는 별개의 범죄로서 서로 행위의 태양이나 보호법익을 달리한다는 등의 이유로 기존 범죄인 유사수신행위법 위반죄의 가벌적 평가범위 내에 흡수되는 불가벌적 사후행위에 해당하지 않는다고 판단하였다.',\n",
       " '원심판결 이유를 위 법리 및 기록에 비추어 살펴보면 이 부분 원심판단에 일부 적절하지 않은 점이 있으나 피고인의   피해자 공소외인에 대한 판시 사기죄가 유사수신행위법 위반죄의 불가벌적 사후행위에 해당하지 않는다고 본 원심의 판단에 불가벌적 사후행위에 관한 법리를 오해함으로써 판결에 영향을 미친 잘못이 없다.',\n",
       " '나머지 상고이유에 대한 판단  이 부분 상고이유는 형사소송법  에서 정한 형보다 가벼운 형이 선고된 이 사건에서 사실오인법리오해를 내세우며 실질적으로 원심의 증거 선택 및 증명력에 관한 판단 또는 이에 기초한 사실인정을 탓하는 것이거나 원심이 인정한 사실과 다른 사실관계를 전제로 법리오해를 지적하는 취지의 주장 또는 형이 너무 무거워 부당하다는 취지의 주장에 해당하여 모두 적법한 상고이유로 볼 수 없다.',\n",
       " '결론  그러므로 상고를 기각하기로 하여 관여 대법관의 일치된 의견으로 주문과 같이 판결한다.',\n",
       " '대법관 민유숙재판장 이동원 천대엽주심 권영준']"
      ]
     },
     "execution_count": 157,
     "metadata": {},
     "output_type": "execute_result"
    }
   ],
   "source": [
    "# import kss\n",
    "\n",
    "# sentence_tokened = []\n",
    "\n",
    "# kss.split_sentences(case_fraud.판례내용_전처리2[0])\n",
    "\n",
    "# # for x in tqdm(case_fraud['판례내용_전처리2']):\n",
    "# #     sentence_tokened.append(kss.split_sentences(x))"
   ]
  },
  {
   "cell_type": "code",
   "execution_count": 159,
   "metadata": {},
   "outputs": [
    {
     "name": "stderr",
     "output_type": "stream",
     "text": [
      "100%|██████████| 2253/2253 [00:00<00:00, 3263.28it/s]\n"
     ]
    }
   ],
   "source": [
    "from nltk import sent_tokenize\n",
    "\n",
    "sentence_tokened = []\n",
    "\n",
    "for x in tqdm(case_fraud['판례내용_전처리2']):\n",
    "    sentence_tokened.append(sent_tokenize(x))"
   ]
  },
  {
   "cell_type": "code",
   "execution_count": 160,
   "metadata": {},
   "outputs": [
    {
     "data": {
      "text/plain": [
       "['  상고이유를 판단한다.',\n",
       " '불가벌적 사후행위에 대한 판단유사수신행위의 규제에 관한 법률이하 유사수신행위법이라 한다.',\n",
       " '를 위반한 행위는 그 자체가 사기행위에 해당한다거나 사기행위를 반드시 포함한다고 할 수 없고 유사수신행위법 위반죄가 형법  의 사기죄와 구성요건을 달리하는 별개의 범죄로서 서로 보호법익이 다른 이상 유사수신행위를 한 자가 출자자에게 별도의 기망행위를 하여 유사수신행위로 조달받은 자금의 전부 또는 일부를 다시 투자받는 행위는 유사수신행위법 위반죄와 다른 새로운 보호법익을 침해하는 것으로서 유사수신행위법 위반죄의 불가벌적 사후행위가 되는 것이 아니라 별죄인 사기죄를 구성한다.',\n",
       " '원심은 판시와 같은 이유로 피고인의   피해자 공소외인에 대한 판시 사기의 점에 관한 공소사실에 대하여 유사수신행위법 에서 금지하는 유사수신행위에는 기망행위가 포함되어 있지 않고 유사수신행위법 위반죄와 사기죄는 구성요건을 달리하는 별개의 범죄로서 서로 행위의 태양이나 보호법익을 달리한다는 등의 이유로 기존 범죄인 유사수신행위법 위반죄의 가벌적 평가범위 내에 흡수되는 불가벌적 사후행위에 해당하지 않는다고 판단하였다.',\n",
       " '원심판결 이유를 위 법리 및 기록에 비추어 살펴보면 이 부분 원심판단에 일부 적절하지 않은 점이 있으나 피고인의   피해자 공소외인에 대한 판시 사기죄가 유사수신행위법 위반죄의 불가벌적 사후행위에 해당하지 않는다고 본 원심의 판단에 불가벌적 사후행위에 관한 법리를 오해함으로써 판결에 영향을 미친 잘못이 없다.',\n",
       " '나머지 상고이유에 대한 판단  이 부분 상고이유는 형사소송법  에서 정한 형보다 가벼운 형이 선고된 이 사건에서 사실오인법리오해를 내세우며 실질적으로 원심의 증거 선택 및 증명력에 관한 판단 또는 이에 기초한 사실인정을 탓하는 것이거나 원심이 인정한 사실과 다른 사실관계를 전제로 법리오해를 지적하는 취지의 주장 또는 형이 너무 무거워 부당하다는 취지의 주장에 해당하여 모두 적법한 상고이유로 볼 수 없다.',\n",
       " '결론  그러므로 상고를 기각하기로 하여 관여 대법관의 일치된 의견으로 주문과 같이 판결한다.대법관 민유숙재판장 이동원 천대엽주심 권영준']"
      ]
     },
     "execution_count": 160,
     "metadata": {},
     "output_type": "execute_result"
    }
   ],
   "source": [
    "sentence_tokened[0]"
   ]
  },
  {
   "cell_type": "code",
   "execution_count": 161,
   "metadata": {},
   "outputs": [
    {
     "name": "stderr",
     "output_type": "stream",
     "text": [
      "100%|██████████| 2253/2253 [00:42<00:00, 53.43it/s] \n"
     ]
    }
   ],
   "source": [
    "embeddings = []\n",
    "\n",
    "for sentences in tqdm(sentence_tokened):\n",
    "    embedding = None\n",
    "    count = 0\n",
    "    for sentence in sentences:\n",
    "        if embedding is None:\n",
    "            embedding = model.wv.get_sentence_vector(sentence)\n",
    "        else:\n",
    "            embedding += model.wv.get_sentence_vector(sentence)\n",
    "        count += 1\n",
    "    embeddings.append(embedding / count)"
   ]
  },
  {
   "cell_type": "code",
   "execution_count": 163,
   "metadata": {},
   "outputs": [],
   "source": [
    "with open(\"./model/fasttext_emb.pickle\", \"wb\") as fw:\n",
    "    pk.dump(embeddings, fw)"
   ]
  }
 ],
 "metadata": {
  "kernelspec": {
   "display_name": "Python 3.8.18 ('NLP')",
   "language": "python",
   "name": "python3"
  },
  "language_info": {
   "codemirror_mode": {
    "name": "ipython",
    "version": 3
   },
   "file_extension": ".py",
   "mimetype": "text/x-python",
   "name": "python",
   "nbconvert_exporter": "python",
   "pygments_lexer": "ipython3",
   "version": "3.8.18"
  },
  "orig_nbformat": 4,
  "vscode": {
   "interpreter": {
    "hash": "d49957daa954e6bec9f177fc046718ee074770fab86eb9520507fb7fbdbef1cf"
   }
  }
 },
 "nbformat": 4,
 "nbformat_minor": 2
}
