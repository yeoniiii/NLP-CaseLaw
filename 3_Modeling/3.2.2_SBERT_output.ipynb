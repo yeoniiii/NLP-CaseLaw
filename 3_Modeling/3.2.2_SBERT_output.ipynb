{
  "cells": [
    {
      "cell_type": "code",
      "source": [
        "from google.colab import drive\n",
        "drive.mount('/content/drive')"
      ],
      "metadata": {
        "colab": {
          "base_uri": "https://localhost:8080/"
        },
        "id": "kB6PKW5v8Mly",
        "outputId": "e9978423-d265-4487-ddb6-2ee916d30dde"
      },
      "execution_count": 59,
      "outputs": [
        {
          "output_type": "stream",
          "name": "stdout",
          "text": [
            "Drive already mounted at /content/drive; to attempt to forcibly remount, call drive.mount(\"/content/drive\", force_remount=True).\n"
          ]
        }
      ]
    },
    {
      "cell_type": "code",
      "execution_count": 60,
      "metadata": {
        "id": "2j-1TFaN75Xp"
      },
      "outputs": [],
      "source": [
        "import pandas as pd\n",
        "import numpy as np\n",
        "import pickle as pk\n",
        "import re\n",
        "import tensorflow as tf\n",
        "\n",
        "from sentence_transformers import SentenceTransformer\n",
        "from nltk import sent_tokenize\n",
        "from sklearn.metrics.pairwise import cosine_similarity\n",
        "\n",
        "import sys, os\n",
        "sys.path.append(os.path.dirname(os.path.abspath(os.path.dirname('__file__'))))"
      ]
    },
    {
      "cell_type": "code",
      "source": [
        "os.chdir('/content/drive/MyDrive/NLP/NLP-CaseLaw')"
      ],
      "metadata": {
        "id": "Mmr_Zk088ZhK"
      },
      "execution_count": 61,
      "outputs": []
    },
    {
      "cell_type": "code",
      "execution_count": 62,
      "metadata": {
        "colab": {
          "base_uri": "https://localhost:8080/",
          "height": 233
        },
        "id": "aHsSUKxA75Xt",
        "outputId": "7cdb8493-f19c-4fc0-bcae-a5a73dd45c03"
      },
      "outputs": [
        {
          "output_type": "execute_result",
          "data": {
            "text/plain": [
              "   index  판례일련번호                        사건명        사건번호        선고일자  법원명  \\\n",
              "0     20  238021  특정경제범죄가중처벌등에관한법률위반(사기)·사기  2023도12424  2023.11.16  대법원   \n",
              "\n",
              "  사건종류명    사건종류코드 판결유형  선고                                             판례상세링크  \\\n",
              "0    형사  400102.0   판결  선고  /DRF/lawService.do?OC=yeorii&target=prec&ID=23...   \n",
              "\n",
              "                                                판시사항  \\\n",
              "0   유사수신행위를 금지·처벌하는 유사수신행위의 규제에 관한 법률 제6조 제1항, 제3...   \n",
              "\n",
              "                                                판결요지  \\\n",
              "0  유사수신행위의 규제에 관한 법률(이하 ‘유사수신행위법’이라 한다) 제6조 제1항, ...   \n",
              "\n",
              "                                                참조조문  참조판례  \\\n",
              "0  유사수신행위의 규제에 관한 법률 제3조, 제6조 제1항, 형법 제37조, 제347조...  내용없음   \n",
              "\n",
              "                                                판례내용  \n",
              "0  【피 고 인】 피고인【상 고 인】 피고인【변 호 인】 변호사 장용배【배상신청인】 배...  "
            ],
            "text/html": [
              "\n",
              "  <div id=\"df-c90a973d-2c72-4e26-a488-20de693561d9\" class=\"colab-df-container\">\n",
              "    <div>\n",
              "<style scoped>\n",
              "    .dataframe tbody tr th:only-of-type {\n",
              "        vertical-align: middle;\n",
              "    }\n",
              "\n",
              "    .dataframe tbody tr th {\n",
              "        vertical-align: top;\n",
              "    }\n",
              "\n",
              "    .dataframe thead th {\n",
              "        text-align: right;\n",
              "    }\n",
              "</style>\n",
              "<table border=\"1\" class=\"dataframe\">\n",
              "  <thead>\n",
              "    <tr style=\"text-align: right;\">\n",
              "      <th></th>\n",
              "      <th>index</th>\n",
              "      <th>판례일련번호</th>\n",
              "      <th>사건명</th>\n",
              "      <th>사건번호</th>\n",
              "      <th>선고일자</th>\n",
              "      <th>법원명</th>\n",
              "      <th>사건종류명</th>\n",
              "      <th>사건종류코드</th>\n",
              "      <th>판결유형</th>\n",
              "      <th>선고</th>\n",
              "      <th>판례상세링크</th>\n",
              "      <th>판시사항</th>\n",
              "      <th>판결요지</th>\n",
              "      <th>참조조문</th>\n",
              "      <th>참조판례</th>\n",
              "      <th>판례내용</th>\n",
              "    </tr>\n",
              "  </thead>\n",
              "  <tbody>\n",
              "    <tr>\n",
              "      <th>0</th>\n",
              "      <td>20</td>\n",
              "      <td>238021</td>\n",
              "      <td>특정경제범죄가중처벌등에관한법률위반(사기)·사기</td>\n",
              "      <td>2023도12424</td>\n",
              "      <td>2023.11.16</td>\n",
              "      <td>대법원</td>\n",
              "      <td>형사</td>\n",
              "      <td>400102.0</td>\n",
              "      <td>판결</td>\n",
              "      <td>선고</td>\n",
              "      <td>/DRF/lawService.do?OC=yeorii&amp;target=prec&amp;ID=23...</td>\n",
              "      <td>유사수신행위를 금지·처벌하는 유사수신행위의 규제에 관한 법률 제6조 제1항, 제3...</td>\n",
              "      <td>유사수신행위의 규제에 관한 법률(이하 ‘유사수신행위법’이라 한다) 제6조 제1항, ...</td>\n",
              "      <td>유사수신행위의 규제에 관한 법률 제3조, 제6조 제1항, 형법 제37조, 제347조...</td>\n",
              "      <td>내용없음</td>\n",
              "      <td>【피 고 인】 피고인【상 고 인】 피고인【변 호 인】 변호사 장용배【배상신청인】 배...</td>\n",
              "    </tr>\n",
              "  </tbody>\n",
              "</table>\n",
              "</div>\n",
              "    <div class=\"colab-df-buttons\">\n",
              "\n",
              "  <div class=\"colab-df-container\">\n",
              "    <button class=\"colab-df-convert\" onclick=\"convertToInteractive('df-c90a973d-2c72-4e26-a488-20de693561d9')\"\n",
              "            title=\"Convert this dataframe to an interactive table.\"\n",
              "            style=\"display:none;\">\n",
              "\n",
              "  <svg xmlns=\"http://www.w3.org/2000/svg\" height=\"24px\" viewBox=\"0 -960 960 960\">\n",
              "    <path d=\"M120-120v-720h720v720H120Zm60-500h600v-160H180v160Zm220 220h160v-160H400v160Zm0 220h160v-160H400v160ZM180-400h160v-160H180v160Zm440 0h160v-160H620v160ZM180-180h160v-160H180v160Zm440 0h160v-160H620v160Z\"/>\n",
              "  </svg>\n",
              "    </button>\n",
              "\n",
              "  <style>\n",
              "    .colab-df-container {\n",
              "      display:flex;\n",
              "      gap: 12px;\n",
              "    }\n",
              "\n",
              "    .colab-df-convert {\n",
              "      background-color: #E8F0FE;\n",
              "      border: none;\n",
              "      border-radius: 50%;\n",
              "      cursor: pointer;\n",
              "      display: none;\n",
              "      fill: #1967D2;\n",
              "      height: 32px;\n",
              "      padding: 0 0 0 0;\n",
              "      width: 32px;\n",
              "    }\n",
              "\n",
              "    .colab-df-convert:hover {\n",
              "      background-color: #E2EBFA;\n",
              "      box-shadow: 0px 1px 2px rgba(60, 64, 67, 0.3), 0px 1px 3px 1px rgba(60, 64, 67, 0.15);\n",
              "      fill: #174EA6;\n",
              "    }\n",
              "\n",
              "    .colab-df-buttons div {\n",
              "      margin-bottom: 4px;\n",
              "    }\n",
              "\n",
              "    [theme=dark] .colab-df-convert {\n",
              "      background-color: #3B4455;\n",
              "      fill: #D2E3FC;\n",
              "    }\n",
              "\n",
              "    [theme=dark] .colab-df-convert:hover {\n",
              "      background-color: #434B5C;\n",
              "      box-shadow: 0px 1px 3px 1px rgba(0, 0, 0, 0.15);\n",
              "      filter: drop-shadow(0px 1px 2px rgba(0, 0, 0, 0.3));\n",
              "      fill: #FFFFFF;\n",
              "    }\n",
              "  </style>\n",
              "\n",
              "    <script>\n",
              "      const buttonEl =\n",
              "        document.querySelector('#df-c90a973d-2c72-4e26-a488-20de693561d9 button.colab-df-convert');\n",
              "      buttonEl.style.display =\n",
              "        google.colab.kernel.accessAllowed ? 'block' : 'none';\n",
              "\n",
              "      async function convertToInteractive(key) {\n",
              "        const element = document.querySelector('#df-c90a973d-2c72-4e26-a488-20de693561d9');\n",
              "        const dataTable =\n",
              "          await google.colab.kernel.invokeFunction('convertToInteractive',\n",
              "                                                    [key], {});\n",
              "        if (!dataTable) return;\n",
              "\n",
              "        const docLinkHtml = 'Like what you see? Visit the ' +\n",
              "          '<a target=\"_blank\" href=https://colab.research.google.com/notebooks/data_table.ipynb>data table notebook</a>'\n",
              "          + ' to learn more about interactive tables.';\n",
              "        element.innerHTML = '';\n",
              "        dataTable['output_type'] = 'display_data';\n",
              "        await google.colab.output.renderOutput(dataTable, element);\n",
              "        const docLink = document.createElement('div');\n",
              "        docLink.innerHTML = docLinkHtml;\n",
              "        element.appendChild(docLink);\n",
              "      }\n",
              "    </script>\n",
              "  </div>\n",
              "\n",
              "\n",
              "    </div>\n",
              "  </div>\n"
            ],
            "application/vnd.google.colaboratory.intrinsic+json": {
              "type": "dataframe",
              "variable_name": "case_fraud",
              "summary": "{\n  \"name\": \"case_fraud\",\n  \"rows\": 2268,\n  \"fields\": [\n    {\n      \"column\": \"index\",\n      \"properties\": {\n        \"dtype\": \"number\",\n        \"std\": 24008,\n        \"min\": 20,\n        \"max\": 86250,\n        \"num_unique_values\": 2268,\n        \"samples\": [\n          6121,\n          36666,\n          81771\n        ],\n        \"semantic_type\": \"\",\n        \"description\": \"\"\n      }\n    },\n    {\n      \"column\": \"\\ud310\\ub840\\uc77c\\ub828\\ubc88\\ud638\",\n      \"properties\": {\n        \"dtype\": \"number\",\n        \"std\": 53310,\n        \"min\": 64517,\n        \"max\": 238259,\n        \"num_unique_values\": 2268,\n        \"samples\": [\n          206303,\n          83118,\n          215017\n        ],\n        \"semantic_type\": \"\",\n        \"description\": \"\"\n      }\n    },\n    {\n      \"column\": \"\\uc0ac\\uac74\\uba85\",\n      \"properties\": {\n        \"dtype\": \"string\",\n        \"num_unique_values\": 1324,\n        \"samples\": [\n          \"\\ud2b9\\uc815\\uacbd\\uc81c\\ubc94\\uc8c4\\uac00\\uc911\\ucc98\\ubc8c\\ub4f1\\uc5d0\\uad00\\ud55c\\ubc95\\ub960\\uc704\\ubc18(\\uc0ac\\uae30)\\u00b7\\uc0ac\\uae30\\u00b7\\uacf5\\ubb38\\uc11c\\uc704\\uc870\\u00b7\\uc704\\uc870\\uacf5\\ubb38\\uc11c\\ud589\\uc0ac\\u00b7\\uc0ac\\ubb38\\uc11c\\uc704\\uc870\\u00b7\\uc704\\uc870\\uc0ac\\ubb38\\uc11c\\ud589\\uc0ac\\u00b7\\uacf5\\uc815\\uc99d\\uc11c\\uc6d0\\ubcf8\\ubd88\\uc2e4\\uae30\\uc7ac\\u00b7\\ubd88\\uc2e4\\uae30\\uc7ac\\uacf5\\uc815\\uc99d\\uc11c\\uc6d0\\ubcf8\\ud589\\uc0ac\",\n          \"\\ud3ed\\ub825\\ud589\\uc704\\ub4f1\\ucc98\\ubc8c\\uc5d0\\uad00\\ud55c\\ubc95\\ub960\\uc704\\ubc18(\\uc57c\\uac04\\u00b7\\uacf5\\ub3d9\\uac15\\uc694)\\u00b7\\ud3ed\\ub825\\ud589\\uc704\\ub4f1\\ucc98\\ubc8c\\uc5d0\\uad00\\ud55c\\ubc95\\ub960\\uc704\\ubc18(\\uc57c\\uac04\\u00b7\\uacf5\\ub3d9\\uacf5\\uac08)\\u00b7\\uc0ac\\uae30\\u00b7\\uacf5\\uc815\\uc99d\\uc11c\\uc6d0\\ubcf8\\ubd88\\uc2e4\\uae30\\uc7ac\\u00b7\\ubd88\\uc2e4\\uae30\\uc7ac\\uacf5\\uc815\\uc99d\\uc11c\\uc6d0\\ubcf8\\ud589\\uc0ac\\u00b7\\uc0c1\\ubc95\\uc704\\ubc18\\u00b7\\ubb34\\uace0\",\n          \"\\uc720\\uac00\\uc99d\\uad8c\\uc704\\uc870\\u00b7\\uc720\\uac00\\uc99d\\uad8c\\uc704\\uc870\\ud589\\uc0ac\\u00b7\\uc0ac\\ubb38\\uc11c\\uc704\\uc870\\u00b7\\uc0ac\\ubb38\\uc11c\\uc704\\uc870\\ud589\\uc0ac\\u00b7\\uacf5\\ubb38\\uc11c\\ubd80\\uc815\\uc0ac\\uc6a9\\u00b7\\uacf5\\uc815\\uc99d\\uc11c\\uc6d0\\ubcf8\\ubd88\\uc2e4\\uae30\\uc7ac\\u00b7\\uacf5\\uc815\\uc99d\\uc11c\\uc6d0\\ubcf8\\ubd88\\uc2e4\\uae30\\uc7ac\\ud589\\uc0ac\\u00b7\\uc0ac\\uae30\"\n        ],\n        \"semantic_type\": \"\",\n        \"description\": \"\"\n      }\n    },\n    {\n      \"column\": \"\\uc0ac\\uac74\\ubc88\\ud638\",\n      \"properties\": {\n        \"dtype\": \"string\",\n        \"num_unique_values\": 2264,\n        \"samples\": [\n          \"87\\ub17862\",\n          \"2004\\ub3c44727\",\n          \"2016\\ub3c46470\"\n        ],\n        \"semantic_type\": \"\",\n        \"description\": \"\"\n      }\n    },\n    {\n      \"column\": \"\\uc120\\uace0\\uc77c\\uc790\",\n      \"properties\": {\n        \"dtype\": \"object\",\n        \"num_unique_values\": 1529,\n        \"samples\": [\n          \"2012.07.27\",\n          \"2020.08.27\",\n          \"1985.10.10\"\n        ],\n        \"semantic_type\": \"\",\n        \"description\": \"\"\n      }\n    },\n    {\n      \"column\": \"\\ubc95\\uc6d0\\uba85\",\n      \"properties\": {\n        \"dtype\": \"category\",\n        \"num_unique_values\": 61,\n        \"samples\": [\n          \"\\ub300\\ubc95\\uc6d0\",\n          \"\\uc11c\\uc6b8\\ub0a8\\ubd80\\uc9c0\\ubc29\\ubc95\\uc6d0\",\n          \"\\ubd80\\uc0b0\\uc9c0\\ubc29\\ubc95\\uc6d0\\ub3d9\\ubd80\\uc9c0\\uc6d0\"\n        ],\n        \"semantic_type\": \"\",\n        \"description\": \"\"\n      }\n    },\n    {\n      \"column\": \"\\uc0ac\\uac74\\uc885\\ub958\\uba85\",\n      \"properties\": {\n        \"dtype\": \"category\",\n        \"num_unique_values\": 4,\n        \"samples\": [\n          \"\\ubbfc\\uc0ac\",\n          \"\\ud2b9\\ud5c8\",\n          \"\\ud615\\uc0ac\"\n        ],\n        \"semantic_type\": \"\",\n        \"description\": \"\"\n      }\n    },\n    {\n      \"column\": \"\\uc0ac\\uac74\\uc885\\ub958\\ucf54\\ub4dc\",\n      \"properties\": {\n        \"dtype\": \"number\",\n        \"std\": 0.20129394270716836,\n        \"min\": 400101.0,\n        \"max\": 400107.0,\n        \"num_unique_values\": 4,\n        \"samples\": [\n          400101.0,\n          400106.0,\n          400102.0\n        ],\n        \"semantic_type\": \"\",\n        \"description\": \"\"\n      }\n    },\n    {\n      \"column\": \"\\ud310\\uacb0\\uc720\\ud615\",\n      \"properties\": {\n        \"dtype\": \"category\",\n        \"num_unique_values\": 38,\n        \"samples\": [\n          \"\\uc81c9\\ubd80\\ud310\\uacb0 : \\uc0c1\\uace0\",\n          \"\\ud615\\uc0ac\\ubd80\\ud310\\uacb0 : \\ud655\\uc815\",\n          \"\\ud310\\uacb0 : \\ud56d\\uc18c\"\n        ],\n        \"semantic_type\": \"\",\n        \"description\": \"\"\n      }\n    },\n    {\n      \"column\": \"\\uc120\\uace0\",\n      \"properties\": {\n        \"dtype\": \"category\",\n        \"num_unique_values\": 3,\n        \"samples\": [\n          \"\\uc120\\uace0\",\n          \"\\uc790\",\n          \"\\uc120\\uace0,\"\n        ],\n        \"semantic_type\": \"\",\n        \"description\": \"\"\n      }\n    },\n    {\n      \"column\": \"\\ud310\\ub840\\uc0c1\\uc138\\ub9c1\\ud06c\",\n      \"properties\": {\n        \"dtype\": \"string\",\n        \"num_unique_values\": 2268,\n        \"samples\": [\n          \"/DRF/lawService.do?OC=yeorii&target=prec&ID=206303&type=HTML&mobileYn=\",\n          \"/DRF/lawService.do?OC=yeorii&target=prec&ID=83118&type=HTML&mobileYn=\",\n          \"/DRF/lawService.do?OC=yeorii&target=prec&ID=215017&type=HTML&mobileYn=\"\n        ],\n        \"semantic_type\": \"\",\n        \"description\": \"\"\n      }\n    },\n    {\n      \"column\": \"\\ud310\\uc2dc\\uc0ac\\ud56d\",\n      \"properties\": {\n        \"dtype\": \"string\",\n        \"num_unique_values\": 1715,\n        \"samples\": [\n          \"[1] \\uc8fc\\uc720\\uc18c \\uc6b4\\uc601\\uc790\\uac00 \\ub18d\\ubbfc\\ub4e4\\uc5d0\\uac8c \\uba74\\uc138\\uc720\\ub97c \\uacf5\\uae09\\ud55c \\uac83\\ucc98\\ub7fc \\ubd80\\ub2f9\\ud558\\uac8c \\ubc1c\\uae09\\ubc1b\\uc740 \\uba74\\uc138\\uc720\\ub958\\uacf5\\uae09\\ud655\\uc778\\uc11c\\ub85c \\uc11d\\uc720\\uc815\\uc81c\\uc5c5\\uc790\\ub97c \\uae30\\ub9dd\\ud558\\uc5ec \\ubd80\\uac00\\uac00\\uce58\\uc138 \\ub4f1\\uc5d0 \\uc0c1\\ub2f9\\ud55c \\uc11d\\uc720\\ub958\\ub97c \\ucde8\\ub4dd\\ud55c \\uc0ac\\uc548\\uc5d0\\uc11c, \\uc11d\\uc720\\uc815\\uc81c\\uc5c5\\uc790\\uc5d0\\uac8c \\ud604\\uc2e4\\uc801\\uc778 \\uc7ac\\uc0b0\\uc0c1 \\uc190\\ud574\\uac00 \\uc5c6\\ub354\\ub77c\\ub3c4 \\uc0ac\\uae30\\uc8c4\\uac00 \\uc131\\ub9bd\\ud55c\\ub2e4\\uace0 \\ud55c \\uc0ac\\ub840[2] \\ubd80\\uac00\\uac00\\uce58\\uc138\\ub97c \\ud3ec\\ud0c8\\ud560 \\uc758\\ub3c4\\ub85c \\uac70\\ub798\\uc0c1\\ub300\\ubc29\\uc5d0\\uac8c \\uc138\\uae08\\uacc4\\uc0b0\\uc11c\\ub97c \\uad50\\ubd80\\ud558\\uc9c0 \\uc54a\\uace0 \\ubd80\\uac00\\uac00\\uce58\\uc138 \\ud655\\uc815\\uc2e0\\uace0\\uc2dc \\uace0\\uc758\\ub85c \\uadf8 \\ub9e4\\ucd9c\\uc561\\uc744 \\ub204\\ub77d\\ud55c \\uacbd\\uc6b0, \\n          \\uc870\\uc138\\ubc94\\ucc98\\ubc8c\\ubc95 \\uc81c9\\uc870 \\uc81c1\\ud56d\\uc758 \\uc870\\uc138\\ud3ec\\ud0c8\\uc8c4\\uac00 \\uc131\\ub9bd\\ud558\\ub294\\uc9c0 \\uc5ec\\ubd80(\\uc801\\uadf9)\\n        [3] \\uc11d\\uc720\\ub958 \\ub300\\ub9ac\\uc810\\uc774 \\ub18d\\ubbfc\\uc5d0\\uac8c \\uba74\\uc138\\uc720\\ub97c \\uacf5\\uae09\\ud55c \\uac83\\ucc98\\ub7fc \\uc11d\\uc720\\uc815\\uc81c\\uc5c5\\uc790\\ub97c \\uae30\\ub9dd\\ud558\\uc5ec \\ubd80\\uac00\\uac00\\uce58\\uc138\\ub97c \\ubd80\\ub2f9\\ud558\\uac8c \\ub3cc\\ub824\\ubc1b\\ub294 \\ud55c\\ud3b8 \\uacf5\\uae09\\ubc1b\\uc740 \\uc11d\\uc720\\ub958\\ub97c \\uc81c3\\uc790\\uc5d0\\uac8c \\ud310\\ub9e4\\ud558\\uba74\\uc11c \\uc138\\uae08\\uacc4\\uc0b0\\uc11c\\ub97c \\uad50\\ubd80\\ud558\\uc9c0 \\uc54a\\uace0 \\uadf8 \\ub9e4\\ucd9c\\uc561\\uc744 \\uc2e0\\uace0\\ud558\\uc9c0 \\uc54a\\uc740 \\uc0ac\\uc548\\uc5d0\\uc11c, \\uc804\\uc790\\uc758 \\ud589\\uc704\\uc640 \\ud6c4\\uc790\\uc758 \\ud589\\uc704\\ub294 \\ubcc4\\ub3c4\\ub85c \\uc870\\uc138\\ud3ec\\ud0c8\\uc8c4\\ub97c \\uad6c\\uc131\\ud55c\\ub2e4\\uace0 \\ud55c \\uc0ac\\ub840\",\n          \" \\uac11\\uc8c4\\ub85c \\uacf5\\uc18c\\uac00 \\uc81c\\uae30\\ub41c \\ud6c4 \\uc744\\uc8c4\\ub97c \\uc608\\ube44\\uc801\\uc73c\\ub85c \\ucd94\\uac00\\ud558\\ub294 \\uacf5\\uc18c\\uc7a5 \\ubcc0\\uacbd\\uc774 \\ub41c \\uacbd\\uc6b0\\uc5d0 \\uc744\\uc8c4\\uc5d0 \\ub300\\ud55c \\uacf5\\uc18c\\uc2dc\\ud6a8 \\uc644\\uc131\\uc5ec\\ubd80\\uc5d0 \\ub300\\ud55c \\ud310\\ub2e8\\uc2dc\\uae30\",\n          \" \\uacbd\\ub77d\\ud5c8\\uac00\\ub41c \\ubd80\\ub3d9\\uc0b0\\uc744 \\uace0\\uc9c0\\ud558\\uc9c0 \\uc54a\\uace0 \\uc804\\uc138\\ub193\\uc558\\uc744 \\uacbd\\uc6b0 \\uc0ac\\uae30\\uc8c4\\uc758 \\uc131\\ub9bd\\uc5ec\\ubd80\"\n        ],\n        \"semantic_type\": \"\",\n        \"description\": \"\"\n      }\n    },\n    {\n      \"column\": \"\\ud310\\uacb0\\uc694\\uc9c0\",\n      \"properties\": {\n        \"dtype\": \"string\",\n        \"num_unique_values\": 1335,\n        \"samples\": [\n          \" \\uc8fc\\uae08\\uc73c\\ub85c \\ub0a9\\uc785\\ud560 \\uc758\\uc0ac\\uc5c6\\uc774 \\ub9c8\\uce58 \\uc8fc\\uc2dd\\uc778\\uc218\\uc778\\ub4e4\\uc774 \\uadf8 \\uc778\\uc218\\uc8fc\\uc2dd\\uc758 \\uc8fc\\uae08\\uc73c\\ub85c \\ub0a9\\uc785\\ud558\\ub294 \\uc591 \\ub3c8\\uc744 \\uc740\\ud589\\uc5d0 \\uc608\\uce58\\ud558\\uc5ec \\uc8fc\\uae08\\ub0a9\\uc785\\ubcf4\\uad00\\uc99d\\uc744 \\uad50\\ubd80\\ubc1b\\uc544 \\ud68c\\uc0ac\\uc124\\ub9bd\\uc694\\uac74\\uc744 \\uac16\\ucd98 \\ub4ef\\uc774 \\ub4f1\\uae30\\uc2e0\\uccad\\uc744 \\ud558\\uc5ec \\uc0c1\\uc5c5\\ub4f1\\uae30\\ubd80\\uc758 \\uc6d0\\ubcf8\\uc5d0 \\uadf8 \\uae30\\uc7ac\\ub97c \\ud558\\uac8c \\ud55c \\ub2e4\\uc74c \\uadf8 \\uc608\\uce58\\ud55c \\ub3c8\\uc744 \\ubc14\\ub85c \\uc778\\ucd9c\\ud558\\uc600\\ub2e4\\uba74 \\uc774\\ub97c \\ud68c\\uc0ac\\ub97c \\uc704\\ud558\\uc5ec \\uc0ac\\uc6a9\\ud558\\uc600\\ub2e4\\ub294 \\ub4f1 \\ud2b9\\ubcc4\\ud55c \\uc0ac\\uc815\\uc774 \\uc5c6\\ub294 \\ud55c \\n          \\uc0c1\\ubc95 \\uc81c628\\uc870 \\uc81c1\\ud56d\\uc5d0 \\uc815\\ud55c \\uc774\\ub978\\ubc14 \\ub0a9\\uc785 \\uac00\\uc7a5\\uc8c4\\uac00 \\uc131\\ub9bd\\ub418\\ub294 \\ud55c\\ud3b8 \\uacf5\\uc815\\uc99d\\uc11c\\uc6d0\\ubcf8\\ubd80\\uc2e4\\uae30\\uc7ac\\uc640 \\ub3d9\\ud589\\uc0ac\\uc8c4\\uac00 \\uc131\\ub9bd\\ub41c\\ub2e4.\\n        \",\n          \" \\uacf5\\uc18c\\uc7a5\\uc5d0 \\ud53c\\uace0\\uc778\\uc778 \\uacc4\\uc8fc\\uac00 \\uc870\\uc9c1\\ud55c \\ub099\\ucc30\\uacc4\\uc758 \\uc870\\uc9c1\\uc77c\\uc790, \\uad6c\\uc88c\\u00b7\\uacc4\\uae08\\uacfc \\uacc4\\uc6d0\\ub4e4\\uc5d0\\uac8c \\ubd84\\ubc30\\ud558\\uc5ec\\uc57c \\ud560 \\uacc4\\uae08\\uc774 \\ud2b9\\uc815\\ub418\\uc5b4 \\uc788\\uace0 \\ud53c\\ud574\\uc790\\uc778 \\uacc4\\uc6d0\\ub4e4\\uc758 \\uc131\\uba85\\uacfc, \\ud53c\\ud574\\uc790 \\ubcc4 \\ud53c\\ud574\\uc561\\ub9cc\\uc774 \\uba85\\ud655\\ud558\\uc9c0 \\uc544\\ub2c8\\ud55c \\uacbd\\uc6b0\\uc5d0\\ub294, \\ubc95\\uc6d0\\uc740 \\uac80\\uc0ac\\uc5d0\\uac8c \\uc11d\\uba85\\uc744 \\uad6c\\ud558\\uc5ec \\ub9cc\\uc57d \\uc774\\ub97c \\uba85\\ud655\\ud558\\uac8c \\ud558\\uc9c0 \\uc544\\ub2c8\\ud55c \\uacbd\\uc6b0\\uc5d0 \\uacf5\\uc18c\\uc0ac\\uc2e4\\uc758 \\ubd88\\ud2b9\\uc815\\uc744 \\uc774\\uc720\\ub85c \\uacf5\\uc18c\\uae30\\uac01\\uc744 \\ud560 \\uac83\\uc774\\uace0 \\uc774\\uc5d0 \\uc774\\ub974\\uc9c0 \\uc54a\\uace0 \\ubc14\\ub85c \\uacf5\\uc18c\\uae30\\uac01\\uc758 \\ud310\\uacb0\\uc744 \\ud558\\uc600\\uc74c\\uc740 \\uc2ec\\ub9ac\\ubbf8\\uc9c4\\uc758 \\uc704\\ubc95\\uc774 \\uc788\\ub2e4.\",\n          \"1. \\uc704\\uc870\\uc720\\uac00\\uc99d\\uad8c\\uc744 \\uc81c\\uc2dc\\ud558\\uace0 \\ud53c\\ud574\\uc790\\ub97c \\uae30\\ub9dd\\ud558\\uc5ec \\uc7ac\\ubb3c\\uc744 \\ud3b8\\ucde8\\ud55c \\uc18c\\uc704\\ub294 \\uc704\\uc870\\uc720\\uac00\\uc99d\\uad8c\\ud589\\uc0ac\\uc8c4\\uc758 \\uc0ac\\uae30\\uc8c4\\uac00 \\uc131\\ub9bd\\ud558\\uba70 \\uc774\\ub4e4 \\uc218\\uc8c4\\ub294           \\ud615\\ubc95 \\uc81c37\\uc870 \\uc804\\ub2e8\\uc758 \\uc2e4\\uccb4\\uc801 \\uacbd\\ud569\\ubc94\\uc774\\uba70 \\uc0c1\\uc0c1\\uc801 \\uacbd\\ud569\\ubc94\\uc774 \\uc544\\ub2c8\\ub2e4.        2. \\ub2e8\\ub3c5\\ud310\\uc0ac\\uc758 \\uc2ec\\ub9ac\\ub85c \\uc0ac\\uc2e4\\uc2ec\\ub9ac\\uc758 \\uc99d\\uac70\\uc870\\uc0ac\\ub97c \\ub9c8\\ucce4\\uc73c\\ub098 \\uc7ac\\ubc30\\ub2f9 \\uc694\\uccad\\uc73c\\ub85c \\ud569\\uc758\\ubd80\\ub85c \\uc774\\uc1a1\\ub41c \\uacbd\\uc6b0 \\ud569\\uc758\\ubd80\\uc5d0\\uc11c \\uacf5\\ud310\\uc808\\ucc28\\ub97c \\uac31\\uc2e0\\ud558\\ub294 \\uc808\\ucc28\\ub9cc\\uc5d0 \\uc758\\ud558\\uc5ec \\ubc94\\uc8c4\\uc0ac\\uc2e4\\uacfc \\uc99d\\uac70\\uc870\\uc0ac\\ub97c \\ub9c8\\uce5c\\ud6c4 \\ubcc0\\ub860\\uc744 \\uc885\\uacb0\\ud558\\uace0 \\ud310\\ub2e8\\ud55c \\uac83\\uc740 \\ubcc0\\ub860\\uac31\\uc2e0\\uc808\\ucc28\\uc5d0 \\uad00\\ud55c \\ubc95\\ub9ac\\ub97c \\uc624\\ud574\\ud558\\uc600\\ub2e4.\"\n        ],\n        \"semantic_type\": \"\",\n        \"description\": \"\"\n      }\n    },\n    {\n      \"column\": \"\\ucc38\\uc870\\uc870\\ubb38\",\n      \"properties\": {\n        \"dtype\": \"string\",\n        \"num_unique_values\": 1285,\n        \"samples\": [\n          \"\\ud615\\uc0ac\\uc18c\\uc1a1\\ubc95 \\uc81c307\\uc870,         \\uc81c308\\uc870\",\n          \"\\n  [1] \\n\\n        \\ud615\\ubc95 \\uc81c347\\uc870 \\uc81c1\\ud56d\\n/ [2] \\n\\n        \\ud615\\ubc95 \\uc81c347\\uc870 \\uc81c1\\ud56d\\n, \\n\\n        \\uc81c352\\uc870\",\n          \"[1] \\n        \\ud615\\ubc95 \\uc81c214\\uc870 \\uc81c1\\ud56d / [2] \\n        \\ud615\\ubc95 \\uc81c214\\uc870 \\uc81c1\\ud56d\"\n        ],\n        \"semantic_type\": \"\",\n        \"description\": \"\"\n      }\n    },\n    {\n      \"column\": \"\\ucc38\\uc870\\ud310\\ub840\",\n      \"properties\": {\n        \"dtype\": \"category\",\n        \"num_unique_values\": 1047,\n        \"samples\": [\n          \"[1][2] \\n        \\ub300\\ubc95\\uc6d0 2003. 7. 25. \\uc120\\uace0 2003\\ub3c42252 \\ud310\\uacb0(\\uacf52003\\ud558, 1898), \\n        \\ub300\\ubc95\\uc6d0 2007. 12. 27. \\uc120\\uace0 2007\\ub3c44749 \\ud310\\uacb0(\\uacf52008\\uc0c1, 176), \\n        \\ub300\\ubc95\\uc6d0 2008. 3. 27. \\uc120\\uace0 2007\\ub3c48772 \\ud310\\uacb0, \\n        \\ub300\\ubc95\\uc6d0 2008. 9. 11. \\uc120\\uace0 2008\\ub3c42409 \\ud310\\uacb0(\\uacf52008\\ud558, 1415)\\n      \",\n          \"\\ub300\\ubc95\\uc6d0 1984. 6. 26. \\uc120\\uace0 84\\ub3c4748 \\ud310\\uacb0(\\uacf51984, 1378)(\\ubcc0\\uacbd),        \\ub300\\ubc95\\uc6d0 1986. 3. 25. \\uc120\\uace0 86\\ub3c4218 \\ud310\\uacb0(\\uacf51986, 738)(\\ubcc0\\uacbd),        \\ub300\\ubc95\\uc6d0 1990. 10. 16. \\uc120\\uace0 90\\ub3c41474 \\ud310\\uacb0(\\uacf51990, 2348),        \\ub300\\ubc95\\uc6d0 1992. 6. 23. \\uc120\\uace0 92\\ub3c4769 \\ud310\\uacb0(\\uacf51992, 2318)(\\ubcc0\\uacbd),        \\ub300\\ubc95\\uc6d0 1994. 1. 25. \\uc120\\uace0 93\\ub3c41747 \\ud310\\uacb0(\\uacf51994\\uc0c1, 859)(\\ubcc0\\uacbd),        \\ub300\\ubc95\\uc6d0 1995. 5. 12. \\uc120\\uace0 95\\ub3c4484 \\ud310\\uacb0(\\uacf51995\\uc0c1, 2157)(\\ubcc0\\uacbd),        \\ub300\\ubc95\\uc6d0 1998. 6. 9. \\uc120\\uace0 98\\ub3c4980 \\ud310\\uacb0(\\uacf51998\\ud558, 1932)(\\ubcc0\\uacbd),        \\ub300\\ubc95\\uc6d0 1999. 7. 23. \\uc120\\uace0 99\\ub3c41860 \\ud310\\uacb0(\\uacf51999\\ud558, 1828)(\\ubcc0\\uacbd),        \\ub300\\ubc95\\uc6d0 2000. 6. 13. \\uc120\\uace0 99\\ub3c41581 \\ud310\\uacb0(\\ubcc0\\uacbd),        \\ub300\\ubc95\\uc6d0 2000. 7. 28. \\uc120\\uace0 2000\\ub3c42617 \\ud310\\uacb0(\\uacf52000\\ud558, 1976)(\\ubcc0\\uacbd),        \\ub300\\ubc95\\uc6d0 2001. 4. 10. \\uc120\\uace0 2001\\ub3c4221 \\ud310\\uacb0(\\ubcc0\\uacbd),        \\ub300\\ubc95\\uc6d0 2001. 6. 29. \\uc120\\uace0 2001\\ub3c41049 \\ud310\\uacb0(\\uacf52001\\ud558, 1797)(\\ubcc0\\uacbd),        \\ub300\\ubc95\\uc6d0 2001. 8. 24. \\uc120\\uace0 2001\\ub3c43319 \\ud310\\uacb0(\\ubcc0\\uacbd),        \\ub300\\ubc95\\uc6d0 2001. 9. 28. \\uc120\\uace0 2001\\ub3c44395 \\ud310\\uacb0(\\ubcc0\\uacbd),        \\ub300\\ubc95\\uc6d0 2001. 10. 23. \\uc120\\uace0 2001\\ub3c44111 \\ud310\\uacb0,         \\ub300\\ubc95\\uc6d0 2002. 8. 23. \\uc120\\uace0 2002\\ub3c42112 \\ud310\\uacb0(\\uacf52002\\ud558, 2268),        \\ub300\\ubc95\\uc6d0 2002. 12. 6. \\uc120\\uace0 2002\\ub3c44232 \\ud310\\uacb0(\\ubcc0\\uacbd),        \\ub300\\ubc95\\uc6d0 2003. 10. 23. \\uc120\\uace0 2003\\ub3c44411 \\ud310\\uacb0(\\ubcc0\\uacbd),        \\ub300\\ubc95\\uc6d0 2003. 10. 24. \\uc120\\uace0 2002\\ub3c44572 \\ud310\\uacb0\",\n          \"\\ub098. \\n        \\ub300\\ubc95\\uc6d0 1986.8.19. \\uc120\\uace0 86\\ub3c41259 \\ud310\\uacb0\"\n        ],\n        \"semantic_type\": \"\",\n        \"description\": \"\"\n      }\n    },\n    {\n      \"column\": \"\\ud310\\ub840\\ub0b4\\uc6a9\",\n      \"properties\": {\n        \"dtype\": \"string\",\n        \"num_unique_values\": 2268,\n        \"samples\": [\n          \"\\u3010\\ud53c \\uace0 \\uc778\\u3011 \\ud53c\\uace0\\uc778 1 \\uc678 1\\uc778\\u3010\\uc0c1 \\uace0 \\uc778\\u3011 \\ud53c\\uace0\\uc778\\ub4e4\\u3010\\ubcc0 \\ud638 \\uc778\\u3011 \\ubcc0\\ud638\\uc0ac \\uc774\\uad00\\ud45c\\u3010\\uc6d0\\uc2ec\\ud310\\uacb0\\u3011 \\ub300\\uc804\\uace0\\ubc95 2018. 6. 15. \\uc120\\uace0 2017\\ub178529 \\ud310\\uacb0\\u3010\\uc8fc    \\ubb38\\u3011  \\uc6d0\\uc2ec\\ud310\\uacb0 \\uc911 \\ud53c\\uace0\\uc778 1\\uc5d0 \\ub300\\ud55c \\ubd80\\ubd84\\uc744 \\ud30c\\uae30\\ud558\\uace0, \\uc774 \\ubd80\\ubd84 \\uc0ac\\uac74\\uc744 \\ub300\\uc804\\uace0\\ub4f1\\ubc95\\uc6d0\\uc5d0 \\ud658\\uc1a1\\ud55c\\ub2e4.  \\ud53c\\uace0\\uc778 2 \\uc18c\\ube44\\uc790\\uc0dd\\ud65c\\ud611\\ub3d9\\uc870\\ud569\\uc758 \\uc0c1\\uace0\\ub97c \\uae30\\uac01\\ud55c\\ub2e4.\\u3010\\uc774    \\uc720\\u3011  \\uc0c1\\uace0\\uc774\\uc720\\ub97c \\ud310\\ub2e8\\ud55c\\ub2e4.  1. \\ud53c\\uace0\\uc778 1\\uc758 \\uc0c1\\uace0\\uc774\\uc720\\uc5d0 \\ub300\\ud558\\uc5ec  \\uac00. \\uc758\\ub8cc\\ubc95 \\uc704\\ubc18 \\ubd80\\ubd84  \\uc6d0\\uc2ec\\uc740 \\uadf8 \\ud310\\uc2dc\\uc640 \\uac19\\uc740 \\uc774\\uc720\\ub97c \\ub4e4\\uc5b4, \\ube44\\uc758\\ub8cc\\uc778\\uc778 \\ud53c\\uace0\\uc778 1\\uc774 \\uc758\\ub8cc\\uc778\\uc758 \\uc790\\uaca9\\uc774 \\uc5c6\\uc74c\\uc5d0\\ub3c4 \\ubd88\\uad6c\\ud558\\uace0 \\uc18c\\ube44\\uc790\\uc0dd\\ud65c\\ud611\\ub3d9\\uc870\\ud569 \\uc81c\\ub3c4\\ub97c \\uc758\\ub8cc\\ubc95\\uc5d0 \\uc758\\ud558\\uc5ec \\uae08\\uc9c0\\ub41c \\ube44\\uc758\\ub8cc\\uc778\\uc758 \\ubcf4\\uac74\\u00b7\\uc758\\ub8cc\\uc0ac\\uc5c5\\uc744 \\ud558\\uae30 \\uc704\\ud55c \\ud0c8\\ubc95\\uc801\\uc778 \\uc218\\ub2e8\\uc73c\\ub85c \\uc545\\uc6a9\\ud558\\uc5ec \\u2018\\u25cb\\u25cb\\u25cb\\u25cb\\u25cb\\u25cb\\uc758\\ub8cc\\uc18c\\ube44\\uc790\\uc0dd\\ud65c\\ud611\\ub3d9\\uc870\\ud569\\u25b3\\u25b3\\u25b3\\ud55c\\uc758\\uc6d0\\u2019(\\uc774\\ud558 \\u2018\\u25b3\\u25b3\\u25b3\\uc758\\uc6d0\\u2019\\uc774\\ub77c\\uace0 \\ud55c\\ub2e4)\\uc774\\ub77c\\ub294 \\uc0c1\\ud638\\uc758 \\uc758\\ub8cc\\uae30\\uad00\\uc744 \\uac1c\\uc124\\ud558\\uc5ec \\uc6b4\\uc601\\ud558\\uc600\\ub2e4\\uace0 \\ubcf4\\uc544 \\ud53c\\uace0\\uc778 1\\uc5d0 \\ub300\\ud55c \\uc758\\ub8cc\\ubc95 \\uc704\\ubc18 \\ubd80\\ubd84\\uc744 \\uc720\\uc8c4\\ub85c \\ud310\\ub2e8\\ud55c \\uc81c1\\uc2ec\\ud310\\uacb0\\uc744 \\uadf8\\ub300\\ub85c \\uc720\\uc9c0\\ud558\\uc600\\ub2e4.  \\uad00\\ub828 \\ubc95\\ub9ac\\uc640 \\uc801\\ubc95\\ud558\\uac8c \\ucc44\\ud0dd\\ud55c \\uc99d\\uac70\\ub4e4\\uc5d0 \\ube44\\ucd94\\uc5b4 \\uc0b4\\ud3b4\\ubcf4\\uba74, \\uc6d0\\uc2ec\\uc758 \\uc704\\uc640 \\uac19\\uc740 \\ud310\\ub2e8\\uc740 \\uc815\\ub2f9\\ud558\\ub2e4. \\uac70\\uae30\\uc5d0 \\uc0c1\\uace0\\uc774\\uc720 \\uc8fc\\uc7a5\\uacfc \\uac19\\uc774 \\ub17c\\ub9ac\\uc640 \\uacbd\\ud5d8\\uc758 \\ubc95\\uce59\\uc5d0 \\ubc18\\ud558\\uc5ec \\uc790\\uc720\\uc2ec\\uc99d\\uc8fc\\uc758\\uc758 \\ud55c\\uacc4\\ub97c \\ubc97\\uc5b4\\ub098\\uac70\\ub098 \\ucc44\\uc99d\\ubc95\\uce59\\uc744 \\uc704\\ubc18\\ud558\\uac70\\ub098 \\uc18c\\ube44\\uc790\\uc0dd\\ud65c\\ud611\\ub3d9\\uc870\\ud569\\ubc95 \\uc81c11\\uc870, \\uc81c45\\uc870 \\uc81c1\\ud56d \\uc81c4\\ud638\\uc5d0 \\uad00\\ud55c \\ubc95\\ub9ac\\ub97c \\uc624\\ud574\\ud558\\ub294 \\ub4f1\\uc758 \\uc798\\ubabb\\uc774 \\uc5c6\\ub2e4.  \\ub098. \\ud2b9\\uc815\\uacbd\\uc81c\\ubc94\\uc8c4 \\uac00\\uc911\\ucc98\\ubc8c \\ub4f1\\uc5d0 \\uad00\\ud55c \\ubc95\\ub960 \\uc704\\ubc18(\\uc0ac\\uae30) \\ubd80\\ubd84  1) \\ud5cc\\ubc95 \\uc81c36\\uc870 \\uc81c3\\ud56d, \\uad6d\\ubbfc\\uac74\\uac15\\ubcf4\\ud5d8\\ubc95 \\uc81c13\\uc870, \\uc81c42\\uc870, \\uc81c44\\uc870 \\uc81c1\\ud56d, \\uc81c47\\uc870 \\uc81c1\\ud56d\\uc758 \\ucde8\\uc9c0\\ub97c \\uc885\\ud569\\ud560 \\ub54c, \\uc758\\ub8cc\\ubc95 \\uc81c33\\uc870 \\uc81c2\\ud56d\\uc744 \\uc704\\ubc18\\ud558\\uc5ec \\uc801\\ubc95\\ud558\\uac8c \\uac1c\\uc124\\ub418\\uc9c0 \\uc544\\ub2c8\\ud55c \\uc758\\ub8cc\\uae30\\uad00\\uc5d0\\uc11c \\ud658\\uc790\\ub97c \\uc9c4\\ub8cc\\ud558\\ub294 \\ub4f1\\uc758 \\uc694\\uc591\\uae09\\uc5ec\\ub97c \\uc2e4\\uc2dc\\ud558\\uc600\\ub2e4\\uba74 \\ud574\\ub2f9 \\uc758\\ub8cc\\uae30\\uad00\\uc740 \\uad6d\\ubbfc\\uac74\\uac15\\ubcf4\\ud5d8\\ubc95\\uc0c1 \\uc694\\uc591\\uae09\\uc5ec\\ube44\\uc6a9\\uc744 \\uccad\\uad6c\\ud560 \\uc218 \\uc788\\ub294 \\uc694\\uc591\\uae30\\uad00\\uc5d0 \\ud574\\ub2f9\\ub418\\uc9c0 \\uc544\\ub2c8\\ud558\\ubbc0\\ub85c \\uc694\\uc591\\uae09\\uc5ec\\ube44\\uc6a9\\uc744 \\uc801\\ubc95\\ud558\\uac8c \\uc9c0\\uae09\\ubc1b\\uc744 \\uc790\\uaca9\\uc774 \\uc5c6\\ub2e4. \\ub530\\ub77c\\uc11c \\ube44\\uc758\\ub8cc\\uc778\\uc774 \\uac1c\\uc124\\ud55c \\uc758\\ub8cc\\uae30\\uad00\\uc774 \\ub9c8\\uce58 \\uc758\\ub8cc\\ubc95\\uc5d0 \\uc758\\ud558\\uc5ec \\uc801\\ubc95\\ud558\\uac8c \\uac1c\\uc124\\ub41c \\uc694\\uc591\\uae30\\uad00\\uc778 \\uac83\\ucc98\\ub7fc \\uad6d\\ubbfc\\uac74\\uac15\\ubcf4\\ud5d8\\uacf5\\ub2e8\\uc5d0 \\uc694\\uc591\\uae09\\uc5ec\\ube44\\uc6a9\\uc758 \\uc9c0\\uae09\\uc744 \\uccad\\uad6c\\ud558\\ub294 \\uac83\\uc740 \\uad6d\\ubbfc\\uac74\\uac15\\ubcf4\\ud5d8\\uacf5\\ub2e8\\uc73c\\ub85c \\ud558\\uc5ec\\uae08 \\uc694\\uc591\\uae09\\uc5ec\\ube44\\uc6a9 \\uc9c0\\uae09\\uc5d0 \\uad00\\ud55c \\uc758\\uc0ac\\uacb0\\uc815\\uc5d0 \\ucc29\\uc624\\ub97c \\uc77c\\uc73c\\ud0a4\\uac8c \\ud558\\ub294 \\uac83\\uc774 \\ub418\\uc5b4 \\uc0ac\\uae30\\uc8c4\\uc758 \\uae30\\ub9dd\\ud589\\uc704\\uc5d0 \\ud574\\ub2f9\\ud558\\uace0, \\uc774\\ub7ec\\ud55c \\uae30\\ub9dd\\ud589\\uc704\\uc5d0 \\uc758\\ud558\\uc5ec \\uad6d\\ubbfc\\uac74\\uac15\\ubcf4\\ud5d8\\uacf5\\ub2e8\\uc73c\\ub85c\\ubd80\\ud130 \\uc694\\uc591\\uae09\\uc5ec\\ube44\\uc6a9\\uc744 \\uc9c0\\uae09\\ubc1b\\uc744 \\uacbd\\uc6b0\\uc5d0\\ub294 \\uc0ac\\uae30\\uc8c4\\uac00 \\uc131\\ub9bd\\ud55c\\ub2e4(\\ub300\\ubc95\\uc6d0 2016. 3. 24. \\uc120\\uace0 2014\\ub3c413649 \\ud310\\uacb0 \\ub4f1 \\ucc38\\uc870).    2) \\uc774 \\ubd80\\ubd84 \\uacf5\\uc18c\\uc0ac\\uc2e4\\uc758 \\uc694\\uc9c0\\ub294, \\ud53c\\uace0\\uc778 1\\uc774 \\uc704\\uc640 \\uac19\\uc774 \\uc758\\ub8cc\\ubc95\\uc744 \\uc704\\ubc18\\ud558\\uc5ec \\uac1c\\uc124\\ub41c \\u25b3\\u25b3\\u25b3\\uc758\\uc6d0\\uc744 \\uc6b4\\uc601\\ud558\\uba74\\uc11c \\uc758\\uc0ac\\ub97c \\uace0\\uc6a9\\ud558\\uc5ec \\ud658\\uc790\\ub97c \\uc9c4\\ub8cc\\ud558\\uac8c \\ud55c \\ud6c4, \\uadf8\\uc640 \\uac19\\uc740 \\uc0ac\\uc2e4\\uc744 \\ubaa8\\ub974\\ub294 \\uac74\\uac15\\ubcf4\\ud5d8\\uc2ec\\uc0ac\\ud3c9\\uac00\\uc6d0\\uc5d0 \\uc694\\uc591\\uae09\\uc5ec\\ube44\\uc6a9\\uba85\\uc138\\uc11c\\ub97c \\uc81c\\ucd9c\\ud558\\uc5ec \\uc2ec\\uc0ac\\ub97c \\uc758\\ub8b0\\ud558\\uace0, \\uadf8 \\uc2ec\\uc0ac\\uacb0\\uacfc\\ub97c \\ud1b5\\ubcf4\\ubc1b\\uc544 \\uc774\\ub97c \\uc9c4\\uc2e4\\ub85c \\ubbff\\uc740 \\ud53c\\ud574\\uc790 \\uad6d\\ubbfc\\uac74\\uac15\\ubcf4\\ud5d8\\uacf5\\ub2e8\\uc73c\\ub85c\\ubd80\\ud130 2013. 10. 7.\\ubd80\\ud130 2016. 1. 25.\\uae4c\\uc9c0 \\uc81c1\\uc2ec \\ud310\\uc2dc \\ubc94\\uc8c4\\uc77c\\ub78c\\ud45c(1) \\uae30\\uc7ac\\uc640 \\uac19\\uc774 \\ucd1d 62\\ud68c\\uc5d0 \\uac78\\uccd0 \\ud569\\uacc4 926,693,890\\uc6d0\\uc744 \\uc9c0\\uae09\\ubc1b\\uc544 \\ud3b8\\ucde8\\ud558\\uc600\\ub2e4\\ub294 \\ub0b4\\uc6a9\\uc774\\ub2e4.  3) \\uc704\\uc5d0\\uc11c \\ubcf8 \\ubc95\\ub9ac\\uc640 \\uc801\\ubc95\\ud558\\uac8c \\ucc44\\ud0dd\\ud55c \\uc99d\\uac70\\ub4e4\\uc5d0 \\ube44\\ucd94\\uc5b4 \\uc0b4\\ud3b4\\ubcf4\\uba74, \\uc6d0\\uc2ec\\uc774 \\uadf8 \\ud310\\uc2dc\\uc640 \\uac19\\uc740 \\uc774\\uc720\\ub97c \\ub4e4\\uc5b4, \\uc774 \\ubd80\\ubd84 \\uacf5\\uc18c\\uc0ac\\uc2e4\\uc744 \\uc720\\uc8c4\\ub85c \\uc778\\uc815\\ud55c \\uc81c1\\uc2ec\\ud310\\uacb0\\uc744 \\uadf8\\ub300\\ub85c \\uc720\\uc9c0\\ud55c \\uac83\\uc740 \\uc815\\ub2f9\\ud558\\ub2e4. \\uac70\\uae30\\uc5d0 \\uc0c1\\uace0\\uc774\\uc720 \\uc8fc\\uc7a5\\uacfc \\uac19\\uc774 \\uae30\\ub9dd\\ud589\\uc704, \\ud3b8\\ucde8\\uc758\\uc0ac, \\ud615\\ubc95 \\uc81c347\\uc870 \\uc81c1\\ud56d\\uacfc \\uc81c2\\ud56d\\uc758 \\uad6c\\uc131\\uc694\\uac74\\uc5d0 \\uad00\\ud55c \\ubc95\\ub9ac\\ub97c \\uc624\\ud574\\ud558\\ub294 \\ub4f1\\uc758 \\uc798\\ubabb\\uc774 \\uc5c6\\ub2e4.  \\ub2e4. \\uac01 \\uc0ac\\uae30 \\ubd80\\ubd84  1) \\uc704\\uc5d0\\uc11c \\uc720\\uc8c4\\ub85c \\uc778\\uc815\\ud55c \\uad6d\\ubbfc\\uac74\\uac15\\ubcf4\\ud5d8\\ubc95\\uc5d0 \\uae30\\ucd08\\ud55c \\uc694\\uc591\\uae09\\uc5ec\\ube44\\uc6a9\\uacfc \\ub2ec\\ub9ac, \\uc758\\ub8cc\\uae30\\uad00\\uc758 \\ubcf4\\ud5d8\\ud68c\\uc0ac \\ub4f1\\uc5d0 \\ub300\\ud55c \\uc790\\ub3d9\\ucc28\\ubcf4\\ud5d8\\uc9c4\\ub8cc\\uc218\\uac00\\uc758 \\uccad\\uad6c\\ub294 \\uad50\\ud1b5\\uc0ac\\uace0 \\ud53c\\ud574\\uc790\\ub97c \\ubcf4\\ud638\\ud560 \\ubaa9\\uc801\\uc73c\\ub85c \\uad50\\ud1b5\\uc0ac\\uace0 \\ud53c\\ud574\\uc790\\uac00 \\uc0c1\\ubc95 \\uc81c724\\uc870 \\uc81c2\\ud56d\\uc5d0 \\ub530\\ub77c \\ubcf4\\ud5d8\\ud68c\\uc0ac \\ub4f1\\uc5d0 \\ub300\\ud574 \\uac16\\ub294 \\uc9c1\\uc811\\uccad\\uad6c\\uad8c\\uc5d0 \\uadfc\\uac70\\ud558\\uc5ec \\uadf8 \\ubcf4\\ud5d8\\uae08 \\uccad\\uad6c\\uad8c\\uc758 \\uc778\\uc815 \\ubc94\\uc704 \\ub0b4\\uc5d0\\uc11c \\ubc95\\ub960\\uc0c1 \\ud2b9\\ubcc4\\ud788 \\uc778\\uc815\\ub418\\ub294 \\uac83\\uc774\\uace0, \\uc758\\ub8cc\\uae30\\uad00\\uc5d0 \\ub300\\ud574 \\uadf8 \\uccad\\uad6c\\uc561 \\uc0c1\\ub2f9\\uc774 \\uc9c0\\uae09\\ub418\\uc9c0 \\uc54a\\ub354\\ub77c\\ub3c4 \\uc2e4\\uc81c \\uad50\\ud1b5\\uc0ac\\uace0\\ub85c \\uc778\\ud55c \\uc190\\ud574\\uac00 \\ubc1c\\uc0dd\\ud558\\uc5ec \\uadf8\\uc5d0 \\ub530\\ub978 \\uc9c4\\ub8cc\\uac00 \\uc774\\ub8e8\\uc5b4\\uc9c4 \\uc774\\uc0c1 \\uad50\\ud1b5\\uc0ac\\uace0 \\ud53c\\ud574\\uc790\\uc5d0\\uac8c\\ub77c\\ub3c4 \\ubc18\\ub4dc\\uc2dc \\uc9c0\\uae09\\ub418\\uc5b4\\uc57c \\ud560 \\uc131\\uc9c8\\uc758 \\uac83\\uc774\\ub2e4. \\ub530\\ub77c\\uc11c \\uc124\\ub839 \\uac1c\\uc124\\uc790\\uaca9\\uc774 \\uc5c6\\ub294 \\ube44\\uc758\\ub8cc\\uc778\\uc774 \\uc758\\ub8cc\\ubc95 \\uc81c33\\uc870 \\uc81c2\\ud56d\\uc744 \\uc704\\ubc18\\ud558\\uc5ec \\uac1c\\uc124\\ud55c \\uc758\\ub8cc\\uae30\\uad00\\uc774\\ub77c\\uace0 \\ud558\\ub354\\ub77c\\ub3c4, \\uba74\\ud5c8\\ub97c \\uac16\\ucd98 \\uc758\\ub8cc\\uc778\\uc744 \\ud1b5\\ud574 \\uad50\\ud1b5\\uc0ac\\uace0 \\ud53c\\ud574\\uc790\\uc5d0 \\ub300\\ud55c \\uc9c4\\ub8cc\\uac00 \\uc774\\ub8e8\\uc5b4\\uc9c0\\uace0 \\ubcf4\\ud5d8\\ud68c\\uc0ac \\ub4f1\\uc5d0 \\uc790\\ub3d9\\ucc28\\uc190\\ud574\\ubc30\\uc0c1 \\ubcf4\\uc7a5\\ubc95\\uc5d0 \\ub530\\ub77c \\uc790\\ub3d9\\ucc28\\ubcf4\\ud5d8\\uc9c4\\ub8cc\\uc218\\uac00\\uc758 \\uc9c0\\uae09\\uc744 \\uccad\\uad6c\\ud55c \\uac83\\uc774\\ub77c\\uba74 \\ubcf4\\ud5d8\\ud68c\\uc0ac \\ub4f1\\uc73c\\ub85c\\uc11c\\ub294 \\ud2b9\\ubcc4\\ud55c \\uc0ac\\uc815\\uc774 \\uc5c6\\ub294 \\ud55c \\uadf8 \\uc9c0\\uae09\\uc744 \\uac70\\ubd80\\ud560 \\uc218 \\uc5c6\\ub2e4\\uace0 \\ubcf4\\uc544\\uc57c \\ud55c\\ub2e4. \\uadf8\\ub7ec\\ubbc0\\ub85c \\uad50\\ud1b5\\uc0ac\\uace0 \\ud53c\\ud574\\uc790\\ub97c \\uc9c4\\ub8cc\\ud55c \\uc758\\ub8cc\\uae30\\uad00\\uc774 \\uc704 \\uc758\\ub8cc\\ubc95 \\uaddc\\uc815\\uc5d0 \\uc704\\ubc18\\ub418\\uc5b4 \\uac1c\\uc124\\ub41c \\uc0ac\\uc815\\uc744 \\ubcf4\\ud5d8\\ud68c\\uc0ac \\ub4f1\\uc5d0 \\uace0\\uc9c0\\ud558\\uc9c0 \\uc544\\ub2c8\\ud55c \\ucc44 \\uc790\\ub3d9\\ucc28\\ubcf4\\ud5d8\\uc9c4\\ub8cc\\uc218\\uac00\\uc758 \\uc9c0\\uae09\\uc744 \\uccad\\uad6c\\ud558\\uc600\\ub2e4\\uace0 \\ud558\\uc5ec\\ub3c4, \\uc774\\ub294 \\uad50\\ud1b5\\uc0ac\\uace0 \\ud53c\\ud574\\uc790\\ub098 \\ud574\\ub2f9 \\uc758\\ub8cc\\uae30\\uad00\\uc5d0 \\ub300\\ud55c \\ubcf4\\ud5d8\\ud68c\\uc0ac \\ub4f1\\uc758 \\uc790\\ub3d9\\ucc28\\ubcf4\\ud5d8\\uc9c4\\ub8cc\\uc218\\uac00 \\uc9c0\\uae09\\uc758\\ubb34\\uc5d0 \\uc601\\ud5a5\\uc744 \\ubbf8\\uce60 \\uc218 \\uc788\\ub294 \\uc0ac\\uc720\\uac00 \\uc544\\ub2c8\\uc5b4\\uc11c, \\uc0ac\\uae30\\uc8c4\\uc5d0\\uc11c \\ub9d0\\ud558\\ub294 \\uae30\\ub9dd\\uc774 \\uc788\\ub2e4\\uace0 \\ubcfc \\uc218\\ub294 \\uc5c6\\ub2e4(\\ub300\\ubc95\\uc6d0 2018. 4. 10. \\uc120\\uace0 2017\\ub3c417699 \\ud310\\uacb0 \\ucc38\\uc870).    2) \\uc774 \\ubd80\\ubd84 \\uacf5\\uc18c\\uc0ac\\uc2e4\\uc758 \\uc694\\uc9c0\\ub294, \\ud53c\\uace0\\uc778 1\\uc774 \\uc704\\uc640 \\uac19\\uc774 \\uc758\\ub8cc\\ubc95\\uc744 \\uc704\\ubc18\\ud558\\uc5ec \\uac1c\\uc124\\ub41c \\u25b3\\u25b3\\u25b3\\uc758\\uc6d0\\uc744 \\uc6b4\\uc601\\ud558\\uba74\\uc11c \\uc758\\uc0ac\\ub97c \\uace0\\uc6a9\\ud558\\uc5ec \\ud658\\uc790\\ub97c \\uc9c4\\ub8cc\\ud558\\uac8c \\ud55c \\ud6c4, \\uadf8\\uc640 \\uac19\\uc740 \\uc0ac\\uc2e4\\uc744 \\ubaa8\\ub974\\ub294 \\ud53c\\ud574\\uc790 \\uacf5\\uc18c\\uc678 \\ud68c\\uc0ac \\ub4f1 12\\uac1c \\ubcf4\\ud5d8\\ud68c\\uc0ac\\uc5d0 \\uc81c1\\uc2ec \\ud310\\uc2dc \\ubc94\\uc8c4\\uc77c\\ub78c\\ud45c(2) \\uae30\\uc7ac\\uc640 \\uac19\\uc774 \\uc790\\ub3d9\\ucc28\\ubcf4\\ud5d8\\uc9c4\\ub8cc\\uc218\\uac00\\uc758 \\uc9c0\\uae09\\uc744 \\uccad\\uad6c\\ud558\\uc5ec \\uc790\\ub3d9\\ucc28\\ubcf4\\ud5d8\\uc9c4\\ub8cc\\uc218\\uac00\\ube44\\uc6a9 \\uba85\\ubaa9\\uc73c\\ub85c \\ud569\\uacc4 604,195,522\\uc6d0\\uc744 \\uc9c0\\uae09\\ubc1b\\uc544 \\ud3b8\\ucde8\\ud558\\uc600\\ub2e4\\ub294 \\ub0b4\\uc6a9\\uc774\\ub2e4.  3) \\uc774\\uc5d0 \\ub300\\ud558\\uc5ec \\uc6d0\\uc2ec\\uc740 \\uadf8 \\ud310\\uc2dc\\uc640 \\uac19\\uc740 \\uc774\\uc720\\ub97c \\ub4e4\\uc5b4, \\ud53c\\uace0\\uc778 1\\uc774 \\uc704 \\u25b3\\u25b3\\u25b3\\uc758\\uc6d0\\uc774 \\ub9c8\\uce58 \\uc758\\ub8cc\\ubc95\\uc5d0 \\uc758\\ud558\\uc5ec \\uc801\\ubc95\\ud558\\uac8c \\uac1c\\uc124\\ub41c \\uc758\\ub8cc\\uae30\\uad00\\uc778 \\uac83\\ucc98\\ub7fc \\uc704 \\ubcf4\\ud5d8\\ud68c\\uc0ac\\ub4e4\\uc5d0 \\uc790\\ub3d9\\ucc28\\ubcf4\\ud5d8\\uc9c4\\ub8cc\\uc218\\uac00\\uc758 \\uc9c0\\uae09\\uc744 \\uccad\\uad6c\\ud558\\uc5ec \\uc774\\ub97c \\uc9c0\\uae09\\ubc1b\\uc558\\ub2e4\\uace0 \\uc778\\uc815\\ud55c \\ub2e4\\uc74c, \\uc774\\ub7ec\\ud55c \\ud589\\uc704\\uac00 \\uc0ac\\uae30\\uc8c4\\uc758 \\uae30\\ub9dd\\ud589\\uc704\\uc5d0 \\ud574\\ub2f9\\ud55c\\ub2e4\\uace0 \\ubcf4\\uc544, \\uc774 \\ubd80\\ubd84 \\uacf5\\uc18c\\uc0ac\\uc2e4\\uc744 \\uc720\\uc8c4\\ub85c \\uc778\\uc815\\ud55c \\uc81c1\\uc2ec\\ud310\\uacb0\\uc744 \\uadf8\\ub300\\ub85c \\uc720\\uc9c0\\ud558\\uc600\\ub2e4.   \\uadf8\\ub7ec\\ub098 \\uc55e\\uc11c \\ubcf8 \\ubc95\\ub9ac\\uc5d0 \\ube44\\ucd94\\uc5b4 \\uc0b4\\ud3b4\\ubcf4\\uba74, \\uc704 \\u25b3\\u25b3\\u25b3\\uc758\\uc6d0\\uc774 \\uac1c\\uc124\\uc790\\uaca9\\uc774 \\uc5c6\\ub294 \\ube44\\uc758\\ub8cc\\uc778\\uc5d0 \\uc758\\ud558\\uc5ec \\uc758\\ub8cc\\ubc95 \\uc81c33\\uc870 \\uc81c2\\ud56d\\uc744 \\uc704\\ubc18\\ud558\\uc5ec \\uac1c\\uc124\\ub41c \\uc758\\ub8cc\\uae30\\uad00\\uc774\\ub77c\\uace0 \\ud558\\ub354\\ub77c\\ub3c4, \\uacf5\\uc18c\\uc0ac\\uc2e4 \\uae30\\uc7ac\\uc640 \\uac19\\uc774 \\uc758\\uc0ac\\ub97c \\uace0\\uc6a9\\ud558\\uc5ec \\ud658\\uc790\\ub97c \\uc9c4\\ub8cc\\ud558\\uac8c \\ud55c \\ud6c4 \\uadf8\\uc5d0 \\ub530\\ub77c \\ubcf4\\ud5d8\\ud68c\\uc0ac\\uc5d0 \\uc790\\ub3d9\\ucc28\\ubcf4\\ud5d8\\uc9c4\\ub8cc\\uc218\\uac00\\uc758 \\uc9c0\\uae09\\uc744 \\uccad\\uad6c\\ud558\\uc600\\ub2e4\\uba74, \\ubcf4\\ud5d8\\ud68c\\uc0ac \\ub4f1\\uc73c\\ub85c\\uc11c\\ub294 \\ud2b9\\ubcc4\\ud55c \\uc0ac\\uc815\\uc774 \\uc5c6\\ub294 \\ud55c \\uadf8 \\uc9c0\\uae09\\uc744 \\uac70\\ubd80\\ud560 \\uc218 \\uc5c6\\uace0, \\u25b3\\u25b3\\u25b3\\uc758\\uc6d0\\uc774 \\uc758\\ub8cc\\ubc95\\uc744 \\uc704\\ubc18\\ud558\\uc5ec \\uac1c\\uc124\\ub41c \\uc758\\ub8cc\\uae30\\uad00\\uc774\\ub77c\\ub294 \\uc0ac\\uc815\\uc740 \\uad50\\ud1b5\\uc0ac\\uace0 \\ud53c\\ud574\\uc790\\ub098 \\u25b3\\u25b3\\u25b3\\uc758\\uc6d0\\uc5d0 \\ub300\\ud55c \\ubcf4\\ud5d8\\ud68c\\uc0ac\\uc758 \\uc790\\ub3d9\\ucc28\\ubcf4\\ud5d8\\uc9c4\\ub8cc\\uc218\\uac00 \\uc9c0\\uae09\\uc758\\ubb34\\uc5d0 \\uc601\\ud5a5\\uc744 \\ubbf8\\uce60 \\uc218 \\uc788\\ub294 \\uc0ac\\uc720\\uac00 \\uc544\\ub2c8\\ubbc0\\ub85c, \\uc0ac\\uae30\\uc8c4\\uc5d0\\uc11c \\ub9d0\\ud558\\ub294 \\uae30\\ub9dd\\uc774 \\uc788\\ub2e4\\uace0 \\ubcfc \\uc218\\ub294 \\uc5c6\\ub2e4.  \\uadf8\\ub7fc\\uc5d0\\ub3c4 \\uc774 \\ubd80\\ubd84 \\uacf5\\uc18c\\uc0ac\\uc2e4\\uc744 \\uc720\\uc8c4\\ub85c \\uc778\\uc815\\ud55c \\uc81c1\\uc2ec\\ud310\\uacb0\\uc744 \\uadf8\\ub300\\ub85c \\uc720\\uc9c0\\ud55c \\uc6d0\\uc2ec\\ud310\\uacb0\\uc5d0\\ub294 \\uc0ac\\uae30\\uc8c4\\uc758 \\uae30\\ub9dd\\uc5d0 \\uad00\\ud55c \\ubc95\\ub9ac\\ub97c \\uc624\\ud574\\ud558\\uc5ec \\ud310\\uacb0\\uc5d0 \\uc601\\ud5a5\\uc744 \\ubbf8\\uce5c \\uc798\\ubabb\\uc774 \\uc788\\ub2e4. \\uc774\\ub97c \\uc9c0\\uc801\\ud558\\ub294 \\ucde8\\uc9c0\\uc758 \\uc0c1\\uace0\\uc774\\uc720 \\uc8fc\\uc7a5\\uc740 \\uc774\\uc720 \\uc788\\ub2e4.  \\ub77c. \\uac01 \\uc0ac\\uae30\\ubc29\\uc870 \\ubd80\\ubd84  \\uad00\\ub828 \\ubc95\\ub9ac\\uc640 \\uc801\\ubc95\\ud558\\uac8c \\ucc44\\ud0dd\\ud55c \\uc99d\\uac70\\ub4e4\\uc5d0 \\ube44\\ucd94\\uc5b4 \\uc0b4\\ud3b4\\ubcf4\\uba74, \\uc6d0\\uc2ec\\uc774 \\uadf8 \\ud310\\uc2dc\\uc640 \\uac19\\uc740 \\uc774\\uc720\\ub97c \\ub4e4\\uc5b4 \\ud53c\\uace0\\uc778 1\\uc5d0 \\ub300\\ud55c \\uac01 \\uc0ac\\uae30\\ubc29\\uc870 \\ubd80\\ubd84\\uc744 \\uc720\\uc8c4\\ub85c \\ud310\\ub2e8\\ud55c \\uc81c1\\uc2ec\\ud310\\uacb0\\uc744 \\uadf8\\ub300\\ub85c \\uc720\\uc9c0\\ud55c \\uac83\\uc740 \\uc815\\ub2f9\\ud558\\ub2e4. \\uac70\\uae30\\uc5d0 \\uc0c1\\uace0\\uc774\\uc720 \\uc8fc\\uc7a5\\uacfc \\uac19\\uc774 \\ub17c\\ub9ac\\uc640 \\uacbd\\ud5d8\\uc758 \\ubc95\\uce59\\uc5d0 \\ubc18\\ud558\\uc5ec \\uc790\\uc720\\uc2ec\\uc99d\\uc8fc\\uc758\\uc758 \\ud55c\\uacc4\\ub97c \\ubc97\\uc5b4\\ub098\\uac70\\ub098 \\ud3b8\\ucde8\\uae08\\uc561 \\uc0b0\\uc815\\uc5d0 \\uad00\\ud55c \\ubc95\\ub9ac\\ub97c \\uc624\\ud574\\ud558\\ub294 \\ub4f1\\uc758 \\uc798\\ubabb\\uc774 \\uc5c6\\ub2e4.  \\ub9c8. \\ud30c\\uae30\\uc758 \\ubc94\\uc704  \\uc704\\uc640 \\uac19\\uc740 \\uc774\\uc720\\ub85c \\ud53c\\uace0\\uc778 1\\uc5d0 \\ub300\\ud55c \\uacf5\\uc18c\\uc0ac\\uc2e4 \\uc911 \\uac01 \\uc0ac\\uae30 \\ubd80\\ubd84\\uc744 \\ud30c\\uae30\\ud558\\uc5ec\\uc57c \\ud55c\\ub2e4. \\uadf8\\ub7f0\\ub370 \\uc6d0\\uc2ec\\uc740 \\uc704 \\ud30c\\uae30 \\ubd80\\ubd84\\uc774 \\ub098\\uba38\\uc9c0 \\uc720\\uc8c4 \\ubd80\\ubd84\\uacfc \\ud615\\ubc95 \\uc81c37\\uc870 \\uc804\\ub2e8\\uc758 \\uacbd\\ud569\\ubc94 \\uad00\\uacc4\\uc5d0 \\uc788\\ub2e4\\ub294 \\uc774\\uc720\\ub85c \\ud558\\ub098\\uc758 \\ud615\\uc744 \\uc120\\uace0\\ud558\\uc600\\uc73c\\ubbc0\\ub85c, \\uacb0\\uad6d \\uc6d0\\uc2ec\\ud310\\uacb0 \\uc911 \\ud53c\\uace0\\uc778 1\\uc5d0 \\ub300\\ud55c \\ubd80\\ubd84\\uc744 \\uc804\\ubd80 \\ud30c\\uae30\\ud558\\uc5ec\\uc57c \\ud55c\\ub2e4.   2. \\ud53c\\uace0\\uc778 2 \\uc18c\\ube44\\uc790\\uc0dd\\ud65c\\ud611\\ub3d9\\uc870\\ud569(\\uc774\\ud558 \\u2018\\ud53c\\uace0\\uc778 \\uc870\\ud569\\u2019\\uc774\\ub77c\\uace0 \\ud55c\\ub2e4)\\uc758 \\uc0c1\\uace0\\uc5d0 \\ub300\\ud558\\uc5ec  \\ud53c\\uace0\\uc778 \\uc870\\ud569\\uc740 \\uc0c1\\uace0\\uc774\\uc720\\uc11c \\uc81c\\ucd9c\\uae30\\uac04 \\ub0b4\\uc5d0 \\uc0c1\\uace0\\uc774\\uc720\\uc11c\\ub97c \\uc81c\\ucd9c\\ud558\\uc9c0 \\uc544\\ub2c8\\ud558\\uc600\\uace0, \\uc0c1\\uace0\\uc7a5\\uc5d0\\ub3c4 \\uc0c1\\uace0\\uc774\\uc720\\ub97c \\uae30\\uc7ac\\ud558\\uc9c0 \\uc544\\ub2c8\\ud558\\uc600\\ub2e4.  3. \\uacb0\\ub860  \\uadf8\\ub7ec\\ubbc0\\ub85c \\uc6d0\\uc2ec\\ud310\\uacb0 \\uc911 \\ud53c\\uace0\\uc778 1\\uc5d0 \\ub300\\ud55c \\ubd80\\ubd84\\uc744 \\ud30c\\uae30\\ud558\\uace0, \\uc774 \\ubd80\\ubd84 \\uc0ac\\uac74\\uc744 \\ub2e4\\uc2dc \\uc2ec\\ub9ac\\u00b7\\ud310\\ub2e8\\ud558\\ub3c4\\ub85d \\uc6d0\\uc2ec\\ubc95\\uc6d0\\uc5d0 \\ud658\\uc1a1\\ud558\\uba70, \\ud53c\\uace0\\uc778 \\uc870\\ud569\\uc758 \\uc0c1\\uace0\\ub97c \\uae30\\uac01\\ud558\\uae30\\ub85c \\ud558\\uc5ec, \\uad00\\uc5ec \\ub300\\ubc95\\uad00\\uc758 \\uc77c\\uce58\\ub41c \\uc758\\uacac\\uc73c\\ub85c \\uc8fc\\ubb38\\uacfc \\uac19\\uc774 \\ud310\\uacb0\\ud55c\\ub2e4.     \\ub300\\ubc95\\uad00 \\uc870\\ud76c\\ub300(\\uc7ac\\ud310\\uc7a5) \\uae40\\uc7ac\\ud615 \\ubbfc\\uc720\\uc219(\\uc8fc\\uc2ec) \\uc774\\ub3d9\\uc6d0 \",\n          \"\\u3010\\ud53c\\uace0\\uc778\\u3011 \\u3010\\uc0c1\\uace0\\uc778\\u3011   \\ud53c\\uace0\\uc778\\u3010\\uc6d0\\uc2ec\\ud310\\uacb0\\u3011 \\n\\uc11c\\uc6b8\\uc9c0\\ubc95 2003. 11. 19. \\uc120\\uace0 2003\\ub1786440 \\ud310\\uacb0\\u3010\\uc8fc\\ubb38\\u3011  \\uc6d0\\uc2ec\\ud310\\uacb0\\uc744 \\ud30c\\uae30\\ud558\\uace0, \\uc0ac\\uac74\\uc744 \\uc11c\\uc6b8\\uc911\\uc559\\uc9c0\\ubc29\\ubc95\\uc6d0 \\ud569\\uc758\\ubd80\\uc5d0 \\ud658\\uc1a1\\ud55c\\ub2e4.\\u3010\\uc774\\uc720\\u3011  1. \\uc6d0\\uc2ec \\ud310\\uc2dc \\uc81c3\\uc758 \\uc99d\\uad8c\\uac70\\ub798\\ubc95\\uc704\\ubc18\\uc8c4\\uc5d0 \\ub300\\ud55c \\ud310\\ub2e8  \\uac00. \\uc6d0\\uc2ec\\ud310\\uacb0 \\uc774\\uc720\\uc5d0 \\uc758\\ud558\\uba74, \\uc6d0\\uc2ec\\uc740, \\uadf8 \\ud310\\uc2dc \\uc81c3\\uc758 \\uc99d\\uad8c\\uac70\\ub798\\ubc95\\uc704\\ubc18\\uc8c4\\uc5d0 \\uad00\\ud55c \\ud53c\\uace0\\uc778\\uc758 \\ud56d\\uc18c\\uc774\\uc720 \\uc989, \\ud53c\\uace0\\uc778\\uc774 \\uc8fc\\uc2dd\\uc744 \\uccad\\uc57d\\ud558\\ub3c4\\ub85d \\uad8c\\uc720\\ud55c \\uc0ac\\ub78c\\uc758 \\uc218\\ub294 39\\uba85\\uc5d0 \\ubd88\\uacfc\\ud558\\uc5ec 50\\uba85\\uc744 \\ub118\\uc9c0 \\uc544\\ub2c8\\ud558\\ubbc0\\ub85c \\uadf8 \\uc8c4\\ub294 \\uc131\\ub9bd\\ud558\\uc9c0 \\uc54a\\ub294\\ub2e4\\ub294 \\uc8fc\\uc7a5\\uc5d0 \\ub300\\ud558\\uc5ec, \\n        \\uc99d\\uad8c\\uac70\\ub798\\ubc95 \\uc81c8\\uc870 \\uc81c1\\ud56d\\uc740 \\ubd88\\ud2b9\\uc815\\ub2e4\\uc218\\uc778\\uc5d0 \\ub300\\ud558\\uc5ec \\uacf5\\uac1c\\uc801\\uc73c\\ub85c \\uc720\\uac00\\uc99d\\uad8c\\uc744 \\ubc1c\\ud589\\ud558\\ub294 \\uacf5\\ubaa8\\uc758 \\uacbd\\uc6b0\\uc5d0\\ub294 \\ubd88\\ud2b9\\uc815\\ub2e4\\uc218\\uc758 \\ud22c\\uc790\\uc790\\ub4e4\\uc774 \\ubc1c\\ud589\\uc778\\uc5d0 \\uad00\\ud55c \\uc815\\ubcf4\\ub97c \\uac16\\uc9c0 \\ubabb\\ud55c \\uc0c1\\ud0dc\\uc5d0\\uc11c \\uc720\\uac00\\uc99d\\uad8c\\uc744 \\ucde8\\ub4dd\\ud568\\uc73c\\ub85c\\uc368 \\uc608\\uc0c1\\ud558\\uc9c0 \\ubabb\\ud55c \\ud53c\\ud574\\ub97c \\uc785\\ub294 \\uac83\\uc744 \\ubc29\\uc9c0\\ud558\\uae30 \\uc704\\ud558\\uc5ec \\ubaa8\\uc9d1\\ud68c\\uc0ac\\uc758 \\uc0ac\\uc5c5 \\ub0b4\\uc5ed\\uc5d0 \\ub300\\ud558\\uc5ec \\uae08\\uc735\\uac10\\ub3c5\\uc704\\uc6d0\\ud68c\\uc758 \\uc2ec\\uc0ac\\ub97c \\ubc1b\\ub3c4\\ub85d \\ud558\\uc5ec \\ud22c\\uc790\\uc790\\ub97c \\ubcf4\\ud638\\ud558\\uace0\\uc790 \\ud558\\ub294 \\ub370 \\uadf8 \\uc785\\ubc95\\ucde8\\uc9c0\\uac00 \\uc788\\ub2e4\\uace0 \\ud560 \\uac83\\uc774\\ubbc0\\ub85c, \\uc774 \\uacbd\\uc6b0\\uc758 \\uccad\\uc57d\\uc758 \\uad8c\\uc720\\ub294 \\ubc1c\\ud589\\uc778\\uc774 \\uc9c1\\uc811 \\uc720\\uac00\\uc99d\\uad8c\\uc758 \\ucde8\\ub4dd\\uc758 \\uccad\\uc57d\\uc744 \\uad8c\\uc720\\ud558\\ub294 \\uacbd\\uc6b0\\ubfd0\\ub9cc \\uc544\\ub2c8\\ub77c \\ubc1c\\ud589\\uc778\\uc744 \\ud1b5\\ud558\\uc5ec \\uc21c\\ucc28 \\ub610\\ub294 \\uac04\\uc811\\uc801\\uc73c\\ub85c \\uccad\\uc57d\\uc744 \\uad8c\\uc720\\ud558\\uc5ec \\ud22c\\uc790\\uc790\\uac00 \\uc720\\uac00\\uc99d\\uad8c\\uc758 \\ubaa8\\uc9d1\\uc5d0 \\uc751\\ud558\\ub294 \\uacbd\\uc6b0\\ub3c4 \\uc720\\uac00\\uc99d\\uad8c\\uc758 \\ubaa8\\uc9d1\\uc758 \\ub300\\uc0c1\\uc790\\uc5d0 \\ud3ec\\ud568\\ub41c\\ub2e4\\uace0 \\ubcf4\\ub294 \\uac83\\uc774 \\uc0c1\\ub2f9\\ud55c\\ubc14, \\uc81c1\\uc2ec\\uc774 \\uc801\\ubc95\\ud558\\uac8c \\uc870\\uc0ac\\ud558\\uc5ec \\ucc44\\ud0dd\\ud55c \\uc99d\\uac70\\ub4e4\\uc5d0 \\uc758\\ud558\\uba74, \\ud53c\\uace0\\uc778\\uc774 \\uc9c1\\uc811 \\ub610\\ub294 \\uc21c\\ucc28\\ub85c \\uc774 \\uc0ac\\uac74 \\uc8fc\\uc2dd\\uc5d0 \\ub300\\ud55c \\uccad\\uc57d\\uc744 \\uad8c\\uc720\\ud558\\uc5ec \\uadf8\\uc5d0 \\uc751\\ud558\\uc5ec \\uc8fc\\uae08\\uc744 \\ub0a9\\uc785\\ud558\\uace0 \\uc8fc\\uc2dd\\uc744 \\uad50\\ubd80\\ubc1b\\uc740 \\uc790\\uac00 55\\uba85\\uc5d0 \\uc774\\ub974\\ub294 \\uc0ac\\uc2e4\\uc744 \\uc778\\uc815\\ud560 \\uc218 \\uc788\\ub2e4\\uace0 \\ud310\\ub2e8\\ud558\\uc5ec, \\uc774\\ub97c \\ubc30\\ucc99\\ud558\\uc600\\ub2e4.\\n        \\ub098. \\uadf8\\ub7ec\\ub098 \\uc774\\ub7ec\\ud55c \\uc6d0\\uc2ec\\uc758 \\ud310\\ub2e8\\uc740 \\uadf8\\ub300\\ub85c \\uc218\\uae0d\\ud558\\uae30 \\uc5b4\\ub835\\ub2e4.  (1) \\n        \\uad6c \\uc99d\\uad8c\\uac70\\ub798\\ubc95(2001. 3. 28. \\ubc95\\ub960 \\uc81c6423\\ud638\\ub85c \\uac1c\\uc815\\ub418\\uae30 \\uc804\\uc758 \\uac83) \\uc81c209\\uc870 \\uc81c1\\ud638, \\n        \\uc99d\\uad8c\\uac70\\ub798\\ubc95 \\uc81c8\\uc870 \\uc81c1\\ud56d\\uc758 \\uac01 \\uaddc\\uc815\\uc5d0 \\uc758\\ud558\\uba74, \\uc720\\uac00\\uc99d\\uad8c\\uc758 \\ubaa8\\uc9d1\\uac00\\uc561 \\ub610\\ub294 \\ub9e4\\ucd9c\\uac00\\uc561\\uc758 \\ucd1d\\uc561\\uc774 \\uc7ac\\uc815\\uacbd\\uc81c\\ubd80\\ub839\\uc774 \\uc815\\ud558\\ub294 \\uae08\\uc561 \\uc774\\uc0c1\\uc778 \\uacbd\\uc6b0 \\uadf8 \\uc720\\uac00\\uc99d\\uad8c\\uc758 \\ubaa8\\uc9d1 \\ub610\\ub294 \\ub9e4\\ucd9c\\uc740 \\ubc1c\\ud589\\uc778\\uc774 \\ub2f9\\ud574 \\uc720\\uac00\\uc99d\\uad8c\\uc5d0 \\uad00\\ud558\\uc5ec \\uc2e0\\uace0\\uc11c\\ub97c \\uae08\\uc735\\uac10\\ub3c5\\uc704\\uc6d0\\ud68c\\uc5d0 \\uc81c\\ucd9c\\ud558\\uc5ec \\uc218\\ub9ac\\ub418\\uc9c0 \\uc544\\ub2c8\\ud558\\uba74 \\uc774\\ub97c \\ud560 \\uc218 \\uc5c6\\uace0 \\uc774\\uc5d0 \\uc704\\ubc18\\ud55c \\uc790\\ub294 2\\ub144 \\uc774\\ud558\\uc758 \\uc9d5\\uc5ed \\ub610\\ub294 1\\ucc9c\\ub9cc \\uc6d0 \\uc774\\ud558\\uc758 \\ubc8c\\uae08\\uc5d0 \\ucc98\\ud558\\ub3c4\\ub85d \\ud558\\uace0 \\uc788\\uc73c\\uba70, \\n        \\uc99d\\uad8c\\uac70\\ub798\\ubc95 \\uc81c2\\uc870 \\uc81c3\\ud56d, \\n        \\uad6c \\uc99d\\uad8c\\uac70\\ub798\\ubc95\\uc2dc\\ud589\\ub839(2002. 2. 9. \\ub300\\ud1b5\\ub839\\ub839 \\uc81c17518\\ud638\\ub85c \\uac1c\\uc815\\ub418\\uae30 \\uc804\\uc758 \\uac83) \\uc81c2\\uc870\\uc7584 \\uc81c1\\ud56d, \\n        \\uc81c3\\ud56d, \\n        \\uc81c5\\ud56d\\uc758 \\uac01 \\uaddc\\uc815\\uc5d0\\uc11c\\ub294 '\\uc720\\uac00\\uc99d\\uad8c\\uc758 \\ubaa8\\uc9d1'\\uc774\\ub77c \\ud568\\uc740 \\ub300\\ud1b5\\ub839\\ub839\\uc774 \\uc815\\ud558\\ub294 \\ubc14\\uc5d0 \\ub530\\ub77c \\uc2e0\\uaddc\\ub85c \\ubc1c\\ud589\\ub418\\ub294 \\uc720\\uac00\\uc99d\\uad8c\\uc758 \\ucde8\\ub4dd\\uc758 \\uccad\\uc57d\\uc744 \\uad8c\\uc720\\ud568\\uc744 \\ub9d0\\ud558\\ub294\\ub370 \\uad8c\\uc720\\ubc1b\\ub294 \\uc790\\uc758 \\uc218\\uac00 50\\uc778 \\uc774\\uc0c1\\uc774\\uc5b4\\uc57c \\ud558\\uace0, \\uc5ec\\uae30\\uc11c \\ub9d0\\ud558\\ub294 '\\uccad\\uc57d\\uc758 \\uad8c\\uc720'\\uc758 \\uc758\\ubbf8\\uc5d0 \\uad00\\ud558\\uc5ec \\n        \\uc704 \\uc2dc\\ud589\\ub839 \\uc81c2\\uc870\\uc7584 \\uc81c5\\ud56d\\uc740 '\\uad8c\\uc720\\ubc1b\\ub294 \\uc790\\uc5d0\\uac8c \\uc720\\uac00\\uc99d\\uad8c\\uc744 \\ucde8\\ub4dd\\ud558\\ub3c4\\ub85d \\ud558\\uae30 \\uc704\\ud558\\uc5ec \\uc2e0\\ubb38\\u00b7\\ubc29\\uc1a1\\u00b7\\uc7a1\\uc9c0 \\ub4f1\\uc744 \\ud1b5\\ud55c \\uad11\\uace0, \\uc548\\ub0b4\\ubb38\\u00b7\\ud64d\\ubcf4\\uc804\\ub2e8 \\ub4f1 \\uc778\\uc1c4\\ubb3c\\uc758 \\ubc30\\ud3ec, \\ud22c\\uc790\\uc124\\uba85\\ud68c\\uc758 \\uac1c\\ucd5c, \\uc804\\uc790\\ud1b5\\uc2e0 \\ub4f1\\uc758 \\ubc29\\ubc95\\uc73c\\ub85c \\uc720\\uac00\\uc99d\\uad8c\\uc744 \\ubc1c\\ud589 \\ub610\\ub294 \\ub9e4\\ub3c4\\ud55c\\ub2e4\\ub294 \\uc0ac\\uc2e4\\uc744 \\uc54c\\ub9ac\\uac70\\ub098 \\ucde8\\ub4dd\\uc758 \\uc808\\ucc28\\ub97c \\uc548\\ub0b4\\ud558\\ub294 \\ud65c\\ub3d9\\uc744 \\ub9d0\\ud55c\\ub2e4.'\\uace0 \\uc815\\uc758\\ud558\\uace0 \\uc788\\uc73c\\uba70, \\ud55c\\ud3b8 \\uadf8 50\\uc778\\uc758 \\uc218\\ub97c \\uc0b0\\uc815\\ud568\\uc5d0 \\uc788\\uc5b4\\uc11c\\ub294 \\ub2f9\\ud574 \\ucde8\\ub4dd\\uccad\\uc57d\\uc758 \\uad8c\\uc720 \\ub610\\ub294 \\ub9e4\\ub3c4\\uccad\\uc57d\\uc774\\ub098 \\ub9e4\\uc218\\uccad\\uc57d\\uc758 \\uad8c\\uc720(\\uc55e\\uc758 '\\uccad\\uc57d\\uc758 \\uad8c\\uc720'\\ub294 \\uc774\\ub97c \\uac00\\ub9ac\\ud0a8\\ub2e4)\\ub97c \\ud558\\ub294 \\ub0a0\\ubd80\\ud130 \\uacfc\\uac70 6\\uc6d4 \\uc774\\ub0b4\\uc5d0 \\ub2f9\\ud574 \\uc720\\uac00\\uc99d\\uad8c\\uacfc \\ub3d9\\uc77c\\ud55c \\uc885\\ub958\\uc758 \\uc720\\uac00\\uc99d\\uad8c\\uc5d0 \\ub300\\ud558\\uc5ec \\ubaa8\\uc9d1 \\ub610\\ub294 \\ub9e4\\ucd9c\\uc5d0 \\uc758\\ud558\\uc9c0 \\uc544\\ub2c8\\ud558\\uace0 \\uccad\\uc57d\\uc758 \\uad8c\\uc720\\ub97c \\ubc1b\\uc740 \\uc790\\ub97c \\ud569\\uc0b0\\ud558\\ub294 \\uac83\\uc744 \\uc6d0\\uce59(\\ub2e4\\ub9cc, \\ubc1c\\ud589\\uc778\\uc758 \\uc8fc\\uc8fc, \\uc784\\uc6d0 \\ub4f1\\uc740 \\uc77c\\uc815\\ud55c \\uacbd\\uc6b0 \\uadf8 \\ud569\\uc0b0\\uc5d0\\uc11c \\uc81c\\uc678\\ub41c\\ub2e4)\\uc73c\\ub85c \\ud55c\\ub2e4\\uace0 \\ub418\\uc5b4 \\uc788\\ub2e4.\\n        \\uc774\\ub4e4 \\uad00\\uacc4 \\ubc95\\ub839\\uc758 \\uaddc\\uc815\\uacfc \\uc99d\\uad8c\\uac70\\ub798\\ubc95\\uc758 \\uc785\\ubc95\\ucde8\\uc9c0\\ub97c \\uc885\\ud569\\ud574 \\ubcf4\\uba74, \\n        \\ubc1c\\ud589\\uc778\\uc774 \\uc2e0\\uaddc\\ub85c \\ubc1c\\ud589\\ub418\\ub294 \\uc720\\uac00\\uc99d\\uad8c\\uc758 \\ucde8\\ub4dd\\uc758 \\uccad\\uc57d\\uc744 \\uad8c\\uc720\\ud558\\ub294 \\ud589\\uc704\\uac00 \\uc99d\\uad8c\\uac70\\ub798\\ubc95\\ub839\\uc0c1\\uc758 '\\ubaa8\\uc9d1'\\uc5d0 \\ud574\\ub2f9\\ub418\\uc5b4 \\ubc1c\\ud589\\uc778\\uc5d0\\uac8c \\ub2f9\\ud574 \\uc720\\uac00\\uc99d\\uad8c\\uc5d0 \\uad00\\ud558\\uc5ec \\uae08\\uc735\\uac10\\ub3c5\\uc704\\uc6d0\\ud68c\\uc5d0 \\uc2e0\\uace0\\uc11c\\ub97c \\uc81c\\ucd9c\\ud560 \\uc758\\ubb34\\uac00 \\uc788\\ub2e4\\uace0 \\ud558\\uae30 \\uc704\\ud574\\uc11c\\ub294, \\uc6b0\\uc120 \\uc720\\uac00\\uc99d\\uad8c \\ubc1c\\ud589\\uc778\\uc774 '\\uc2e0\\uaddc\\ub85c \\ubc1c\\ud589\\ub418\\ub294 \\uc720\\uac00\\uc99d\\uad8c\\uc744 \\ucde8\\ub4dd\\ud558\\ub3c4\\ub85d \\ud558\\uae30 \\uc704\\ud558\\uc5ec \\uc2e0\\ubb38\\u00b7\\ubc29\\uc1a1\\u00b7\\uc7a1\\uc9c0 \\ub4f1\\uc744 \\ud1b5\\ud55c \\uad11\\uace0, \\uc548\\ub0b4\\ubb38\\u00b7\\ud64d\\ubcf4\\uc804\\ub2e8 \\ub4f1 \\uc778\\uc1c4\\ubb3c\\uc758 \\ubc30\\ud3ec, \\ud22c\\uc790\\uc124\\uba85\\ud68c\\uc758 \\uac1c\\ucd5c, \\uc804\\uc790\\ud1b5\\uc2e0 \\uae30\\ud0c0 \\uc774\\uc5d0 \\uc900\\ud558\\uac70\\ub098 \\uc774\\uc640 \\uc720\\uc0ac\\ud55c \\ubc29\\ubc95\\uc73c\\ub85c \\uc720\\uac00\\uc99d\\uad8c\\uc744 \\ubc1c\\ud589 \\ub610\\ub294 \\ub9e4\\ub3c4\\ud55c\\ub2e4\\ub294 \\uc0ac\\uc2e4\\uc744 \\uc54c\\ub9ac\\uac70\\ub098 \\ucde8\\ub4dd\\uc758 \\uc808\\ucc28\\ub97c \\uc548\\ub0b4\\ud558\\ub294 \\ud65c\\ub3d9'\\uc744 \\ud558\\ub294 \\uacbd\\uc6b0\\ub77c\\uc57c \\ud558\\uace0, \\ub098\\uc544\\uac00 \\ubc1c\\ud589\\uc778\\uc73c\\ub85c\\ubd80\\ud130 \\uadf8\\uc640 \\uac19\\uc740 \\ubc29\\ubc95\\uc73c\\ub85c \\uad8c\\uc720\\ubc1b\\ub294 \\uc790\\uc758 \\uc218\\uac00 50\\uc778 \\uc774\\uc0c1\\uc774\\uac70\\ub098 \\uc801\\uc5b4\\ub3c4 \\uadf8\\uc640 \\uac19\\uc740 \\ubc29\\ubc95\\uc73c\\ub85c \\uccad\\uc57d\\uc758 \\uad8c\\uc720\\ub97c \\ud558\\ub294 \\ub0a0\\ubd80\\ud130 \\uacfc\\uac70 6\\uc6d4 \\uc774\\ub0b4\\uc5d0 \\ub2f9\\ud574 \\uc720\\uac00\\uc99d\\uad8c\\uacfc \\ub3d9\\uc77c\\ud55c \\uc885\\ub958\\uc758 \\uc720\\uac00\\uc99d\\uad8c\\uc5d0 \\ub300\\ud558\\uc5ec '\\ubaa8\\uc9d1 \\ub610\\ub294 \\ub9e4\\ucd9c\\uc5d0 \\uc758\\ud558\\uc9c0 \\uc544\\ub2c8\\ud558\\uace0'(\\uc989, \\uc704\\uc5d0\\uc11c \\uc5f4\\uac70\\ub41c \\ubc14\\uc640 \\uac19\\uc740 \\ubc29\\ubc95\\uc5d0 \\uc758\\ud558\\uc9c0 \\uc544\\ub2c8\\ud558\\uace0) \\uccad\\uc57d\\uc758 \\uad8c\\uc720\\ub97c \\ubc1b\\uc740 \\uc790\\uae4c\\uc9c0 \\ud569\\uc0b0(\\ub2e4\\ub9cc, \\ubc1c\\ud589\\uc778\\uc758 \\uc8fc\\uc8fc, \\uc784\\uc6d0 \\ub4f1\\uc740 \\uc77c\\uc815\\ud55c \\uacbd\\uc6b0 \\uadf8 \\ud569\\uc0b0\\uc5d0\\uc11c \\uc81c\\uc678\\ub41c\\ub2e4)\\ud558\\uc5ec \\uadf8 \\uc218\\uac00 50\\uc778 \\uc774\\uc0c1\\uc778 \\ub54c\\uc774\\uc5b4\\uc57c \\ud55c\\ub2e4\\uace0 \\ud560 \\uac83\\uc774\\ub2e4. \\n        (2) \\uadf8\\ub7f0\\ub370 \\uc774 \\uc0ac\\uac74\\uc5d0 \\uad00\\ud558\\uc5ec \\ubcf4\\uba74, \\uc6b0\\uc120 \\uc6d0\\uc2ec\\uc774 \\uc778\\uc815\\ud55c \\ubc94\\uc8c4\\uc0ac\\uc2e4\\uc740 \\ubb3c\\ub860 \\uae30\\ub85d\\uc5d0 \\ub098\\uc628 \\uc99d\\uac70\\uc5d0 \\ube44\\ucd94\\uc5b4 \\ubcf4\\uc544\\ub3c4, \\ud53c\\uace0\\uc778\\uc774 \\n        \\uacf5\\uc18c\\uc678 \\ud68c\\uc0ac\\uc758 \\ub300\\ud45c\\uc774\\uc0ac\\ub85c\\uc11c \\uae40\\uc885\\uad6d \\ub4f1 55\\uba85\\uc774\\ub098 \\uadf8 \\ubc16\\uc758 \\ub2e4\\ub978 \\uc0ac\\ub78c \\ub4f1\\uc744 \\uc0c1\\ub300\\ub85c \\ud558\\uc5ec '\\uc2e0\\ubb38\\u00b7\\ubc29\\uc1a1\\u00b7\\uc7a1\\uc9c0 \\ub4f1\\uc744 \\ud1b5\\ud55c \\uad11\\uace0, \\uc548\\ub0b4\\ubb38\\u00b7\\ud64d\\ubcf4\\uc804\\ub2e8 \\ub4f1 \\uc778\\uc1c4\\ubb3c\\uc758 \\ubc30\\ud3ec, \\ud22c\\uc790\\uc124\\uba85\\ud68c\\uc758 \\uac1c\\ucd5c, \\uc804\\uc790\\ud1b5\\uc2e0 \\ubc0f \\uadf8 \\ubc16\\uc5d0 \\uc774\\uc5d0 \\uc900\\ud558\\uac70\\ub098 \\uc774\\uc640 \\uc720\\uc0ac\\ud55c \\ubc29\\ubc95'\\uc73c\\ub85c \\uccad\\uc57d\\uc758 \\uad8c\\uc720\\ub97c \\ud558\\uc600\\ub2e4\\uace0 \\ubcfc \\ub9cc\\ud55c \\uc790\\ub8cc\\uac00 \\uc5c6\\uc73c\\ubbc0\\ub85c, \\uc6d0\\uc2ec\\uc774 \\uc778\\uc815\\ud55c \\ubc14\\uc640 \\uac19\\uc774 \\ud53c\\uace0\\uc778\\uc774 \\uc9c1\\uc811 \\ub610\\ub294 \\uc21c\\ucc28\\ub85c \\uc774 \\uc0ac\\uac74 \\uc8fc\\uc2dd\\uc5d0 \\ub300\\ud55c \\uccad\\uc57d\\uc744 \\uad8c\\uc720\\ud558\\uc5ec \\uadf8\\uc5d0 \\uc751\\ud558\\uc5ec \\uc8fc\\uae08\\uc744 \\ub0a9\\uc785\\ud558\\uace0 \\uc8fc\\uad8c\\uc744 \\uad50\\ubd80\\ubc1b\\uc740 \\uc790\\uac00 55\\uba85\\uc5d0 \\uc774\\ub974\\ub800\\ub2e4\\ub294 \\uc0ac\\uc2e4\\ub9cc\\uc73c\\ub85c \\uc774\\ub97c \\uc99d\\uad8c\\uac70\\ub798\\ubc95\\ub839\\uc0c1\\uc758 \\uc720\\uac00\\uc99d\\uad8c\\uc758 '\\ubaa8\\uc9d1'\\uc5d0 \\ud574\\ub2f9\\ub41c\\ub2e4\\uace0 \\ubcfc \\uc218 \\uc5c6\\ub2e4\\uace0 \\ud560 \\uac83\\uc774\\ub2e4.\\n        \\ub2e4\\ub9cc, \\uae30\\ub85d(2003\\ub144 \\ud615\\uc81c26509 \\uc0ac\\uac74\\uc758 \\uc218\\uc0ac\\uae30\\ub85d 112\\uba74)\\uc5d0 \\uc758\\ud558\\uba74, \\ud53c\\uace0\\uc778\\uc740 \\uac80\\ucc30\\uc5d0\\uc11c \\\"\\ubca4\\ucc98\\ube44\\uc988\\ub2c8\\uc2a4\\ub77c\\ub294 \\ud68c\\uc0ac\\uac00 \\ucd5c\\ucd08 \\ubaa8\\uc9d1\\uc2dc 120\\ub9cc \\uc8fc\\ub97c \\ubaa8\\uc9d1\\ud558\\uaca0\\ub2e4\\uace0 \\uc57d\\uc815\\ud55c \\ud6c4 120\\ub9cc \\uc8fc\\uc758 \\ud1b5\\uc77c\\uc99d\\uad8c\\uc774 \\uc800\\ud76c \\ud68c\\uc0ac\\ub85c \\ub098\\uc654\\ub294\\ub370, \\uc8fc\\ub2f9 500\\uc6d0\\uc529 \\uacc4\\uc0b0\\ud558\\uc5ec \\ucd1d 6\\uc5b5 \\uc6d0\\uc744 \\uc800\\ud76c \\ud68c\\uc0ac\\uc5d0 \\uc785\\uae08\\ud558\\uba74, \\uc800\\uc758 LG\\ud22c\\uc790\\uc99d\\uad8c \\uc0c1\\uacc4\\ub3d9\\uc9c0\\uc810\\uc5d0\\uc11c \\uc704 \\ubca4\\ucc98\\ube44\\uc988\\ub2c8\\uc2a4\\ub85c \\uc99d\\uad8c\\uc744 \\uacc4\\uc88c\\uc774\\uccb4\\uc2dc\\ucf1c \\uc8fc\\uac8c \\ub41c\\ub2e4. \\uadf8\\ub7f0\\ub370 \\ucd5c\\ucd08 \\uc57d\\uc815\\ud55c \\ub300\\ub85c \\ubca4\\ucc98\\ube44\\uc988\\ub2c8\\uc2a4\\uac00 120\\ub9cc \\uc8fc\\uc5d0 \\ub300\\ud55c 6\\uc5b5 \\uc6d0\\uc744 \\uc785\\uae08\\uce58 \\uc544\\ub2c8\\ud558\\uba74, \\uc800\\ud76c \\ud68c\\uc0ac\\uc5d0\\uc11c \\uac00\\uc9c0\\uace0 \\uc788\\ub294 \\ubca4\\ucc98\\ube44\\uc988\\ub2c8\\uc2a4 \\uba85\\uc758\\ub85c \\ub418\\uc5b4 \\uc788\\ub294 \\ud1b5\\uc77c\\uc99d\\uad8c\\uc740 \\ubca4\\ucc98\\ube44\\uc988\\ub2c8\\uc2a4\\uc5d0\\uc11c \\ud3ec\\uae30\\ub97c \\ud558\\uc9c0 \\uc54a\\uc73c\\uba74 \\uc800\\ud76c \\ud68c\\uc0ac\\uc5d0\\uc11c \\uc784\\uc758\\ub85c \\ub2e4\\ub978 \\uc0ac\\ub78c\\uc5d0\\uac8c \\ud314\\uc9c0\\ub294 \\ubabb\\ud55c\\ub2e4. \\ub2e4\\ub9cc, \\ubca4\\ucc98\\ube44\\uc988\\ub2c8\\uc2a4\\uc5d0\\uc11c \\uc9c0\\uc815\\ud558\\ub294 \\uc0ac\\ub78c\\uc5d0\\uac8c \\uc800\\ud76c\\uac00 \\ub3c8\\uc744 \\ubc1b\\uace0, \\uc704 \\uc9c0\\uc815\\ud558\\ub294 \\uc0ac\\ub78c\\uc5d0\\uac8c \\uc99d\\uad8c\\uc744 \\uacc4\\uc88c\\uc774\\uccb4\\ud558\\uc5ec \\uc8fc\\uac8c \\ub41c\\ub2e4. \\uc774\\ub7f0 \\ubc29\\uc2dd\\uc73c\\ub85c \\ub2e4\\ub978 \\uc0ac\\ub78c\\ub4e4\\uc5d0\\uac8c \\uc99d\\uad8c\\uc744 \\ub9e4\\ub3c4\\ud558\\uc600\\uae30 \\ub54c\\ubb38\\uc5d0 \\uc81c\\uac00 \\ub9d0\\ud55c \\ubaa8\\uc9d1\\uc778 \\uc22b\\uc790\\uc778 39\\uba85\\uc744 \\ud6e8\\uc52c \\ub118\\uac8c \\ub418\\ub294 \\uac83\\uc774\\ub2e4. 2002. 12. 31.\\uc790\\ub85c \\uad6d\\ubbfc\\uc740\\ud589\\uc5d0\\uc11c \\ubc1c\\ud589\\ud55c \\uc8fc\\uc8fc\\uba85\\ubd80\\ub97c \\ubcf4\\uba74 2,000\\uba85 \\uac00\\ub7c9\\uc73c\\ub85c \\uc8fc\\uc8fc\\uac00 \\ubd88\\uc5b4\\ub098\\uac8c \\ub41c\\ub2e4. \\uc774\\uac83\\uc740 \\ucd5c\\ucd08 \\uc8fc\\uc2dd\\uc744 \\uc0b0 \\uc0ac\\ub78c\\uc774 \\uc0ac\\uace0 \\ud314\\uace0 \\ud574\\uc11c \\uadf8\\ub807\\uac8c \\ub41c \\uac83\\uc774\\ub2e4.\\\"\\ub294 \\ub4f1\\uc73c\\ub85c \\uc9c4\\uc220\\ud55c \\ubc14 \\uc788\\uc73c\\ubbc0\\ub85c, \\uc774\\uc640 \\uad00\\ub828\\ud558\\uc5ec, \\uc6d0\\uc2ec\\uc73c\\ub85c\\uc11c\\ub294 \\uc6b0\\uc120, \\ud53c\\uace0\\uc778\\uc774 \\uc8fc\\uc2dd\\ud68c\\uc0ac \\ubca4\\ucc98\\ube44\\uc988\\ub2c8\\uc2a4(\\uc774\\ud558 '\\ubca4\\ucc98\\ube44\\uc988\\ub2c8\\uc2a4'\\ub77c\\uace0 \\ud55c\\ub2e4)\\ub97c \\uc0c1\\ub300\\ub85c \\n        \\uacf5\\uc18c\\uc678 \\ud68c\\uc0ac\\uc5d0 \\uc2e4\\uc81c\\ub85c \\uc8fc\\uc2dd \\uc778\\uc218\\ub97c \\uccad\\uc57d\\ud558\\uace0 \\uadf8 \\ub300\\uae08\\uc744 \\ub0a9\\uc785\\ud558\\ub3c4\\ub85d \\uad8c\\uc720\\ud558\\uc600\\uace0, \\uc774\\uc5d0 \\ub530\\ub77c \\ubca4\\ucc98\\ube44\\uc988\\ub2c8\\uc2a4\\uac00 \\uadf8 \\ub300\\uae08\\uc744 \\ub0a9\\uc785\\ud558\\uae30\\ub85c \\ud558\\uace0 \\uc8fc\\uc2dd \\uc778\\uc218\\ub97c \\uccad\\uc57d\\ud558\\uc600\\ub294\\uc9c0(\\uc774\\ub7ec\\ud55c \\uacbd\\uc6b0\\ub77c\\uba74, \\ubca4\\ucc98\\ube44\\uc988\\ub2c8\\uc2a4\\uac00 \\uadf8 \\ud6c4 \\uc2a4\\uc2a4\\ub85c \\uc8fc\\uc2dd \\ub300\\uae08\\uc744 \\ub0a9\\uc785\\ud558\\uc9c0 \\ubabb\\ud558\\uc5ec \\ub2e4\\ub978 \\ud22c\\uc790\\uc790\\ub4e4\\uc5d0\\uac8c \\uc608\\ucee8\\ub300 '\\uc8fc\\uc2dd\\uad50\\ubd80\\uc99d'\\uc744 \\uc591\\ub3c4\\ud558\\uba74\\uc11c \\uadf8\\ub4e4\\ub85c \\ud558\\uc5ec\\uae08 \\ubca4\\ucc98\\ube44\\uc988\\ub2c8\\uc2a4\\ub97c \\ub300\\uc2e0\\ud558\\uc5ec \\n        \\uacf5\\uc18c\\uc678 \\ud68c\\uc0ac\\uc5d0 \\uc8fc\\uc2dd \\ub300\\uae08\\uc744 \\ub0a9\\uc785\\ud558\\ub3c4\\ub85d \\ud558\\ub294 \\ubc29\\ubc95\\uc73c\\ub85c \\uc790\\uc2e0\\uc758 \\uc8fc\\uc2dd\\uc744 \\uc591\\ub3c4\\ud558\\uace0, \\uc774\\uc5d0 \\ub530\\ub77c \\uadf8 \\ud22c\\uc790\\uc790\\ub4e4\\uc774 \\n        \\uacf5\\uc18c\\uc678 \\ud68c\\uc0ac\\uc5d0 \\uc8fc\\uc2dd \\ub300\\uae08\\uc744 \\ub0a9\\uc785\\ud558\\uace0 \\uc8fc\\uad8c\\uc744 \\uad50\\ubd80\\ubc1b\\uc558\\ub2e4\\uace0 \\ud558\\ub354\\ub77c\\ub3c4, \\ud53c\\uace0\\uc778\\uc774 \\ubca4\\ucc98\\ube44\\uc988\\ub2c8\\uc2a4\\ub97c \\ud1b5\\ud558\\uc5ec \\uadf8 \\ud22c\\uc790\\uc790\\ub4e4\\uc5d0\\uac8c \\uccad\\uc57d\\uc758 \\uad8c\\uc720\\ub97c \\ud558\\uc600\\ub2e4\\uace0 \\ubcf4\\uae30\\ub294 \\uc5b4\\ub824\\uc6b8 \\uac83\\uc774\\ub2e4), \\uc544\\ub2c8\\uba74 \\ubca4\\ucc98\\ube44\\uc988\\ub2c8\\uc2a4\\uac00 \\n        \\uacf5\\uc18c\\uc678 \\ud68c\\uc0ac\\ub97c \\uc2e4\\uc9c8\\uc801\\uc73c\\ub85c \\ub300\\ud589\\ud558\\uc5ec \\ubd88\\ud2b9\\uc815\\u00b7\\ub2e4\\uc218\\uc758 \\ud22c\\uc790\\uc790\\ub4e4\\uc5d0\\uac8c \\uccad\\uc57d\\uc758 \\uad8c\\uc720\\ub97c \\ud558\\uace0, \\uadf8 \\ud22c\\uc790\\uc790\\ub4e4\\ub85c \\ud558\\uc5ec\\uae08 \\n        \\uacf5\\uc18c\\uc678 \\ud68c\\uc0ac\\uc5d0 \\uccad\\uc57d\\uc744 \\ud558\\uace0 \\uadf8 \\ub300\\uae08\\uc744 \\ub0a9\\uc785\\ud558\\ub3c4\\ub85d \\ud558\\uc5ec, \\uadf8\\ub4e4\\uc774 \\uc8fc\\uc2dd \\uc778\\uc218\\ub97c \\ud55c \\uc790\\ub85c\\uc11c \\uc8fc\\uc8fc\\uac00 \\ub41c \\uac83\\uc778\\uc9c0, \\uadf8\\ub9ac\\uace0 \\ub9cc\\uc57d \\ud6c4\\uc790\\ub77c\\uba74, \\ubca4\\ucc98\\ube44\\uc988\\ub2c8\\uc2a4\\uac00 \\n        \\uacf5\\uc18c\\uc678 \\ud68c\\uc0ac\\ub97c \\uc2e4\\uc9c8\\uc801\\uc73c\\ub85c \\ub300\\ud589\\ud558\\uc5ec \\ud22c\\uc790\\uc790\\ub4e4\\uc5d0\\uac8c \\uccad\\uc57d\\uc758 \\uad8c\\uc720\\ub97c \\ud55c \\ubc29\\ubc95\\uc774 \\uc55e\\uc5d0\\uc11c \\n        \\ubcf8 \\uc2dc\\ud589\\ub839 \\uc81c2\\uc870\\uc7584 \\uc81c5\\ud56d\\uc5d0 \\uaddc\\uc815\\ub41c \\uac83\\uc774\\uc5c8\\ub294\\uc9c0 \\uc5ec\\ubd80 \\ubc0f \\ud53c\\uace0\\uc778\\uc774 \\uc774 \\uc810\\uc744 \\uc778\\uc2dd\\ud558\\uace0 \\uc788\\uc5c8\\ub294\\uc9c0 \\uc5ec\\ubd80\\ub97c \\uc2ec\\ub9ac\\ud560 \\ud544\\uc694\\uac00 \\uc788\\ub2e4\\uace0 \\ud560 \\uac83\\uc774\\ub2e4.\\n        (3) \\uadf8\\ub7fc\\uc5d0\\ub3c4 \\ubd88\\uad6c\\ud558\\uace0, \\uc6d0\\uc2ec\\uc740 \\uadf8 \\ud310\\uc2dc\\uc640 \\uac19\\uc740 \\uc774\\uc720\\ub9cc\\uc73c\\ub85c \\ud53c\\uace0\\uc778\\uc774 \\uae40\\uc885\\uad6d \\ub4f1 \\ucd5c\\uc18c 55\\uba85\\uc744 \\ub300\\uc0c1\\uc73c\\ub85c \\uccad\\uc57d\\uc744 \\uad8c\\uc720\\ud558\\uc5ec \\ucd5c\\uc18c \\ubaa8\\uc9d1\\uac00\\uc561 23\\uc5b5 \\uc6d0\\uc758 \\uc720\\uac00\\uc99d\\uad8c\\uc744 \\ubaa8\\uc9d1\\ud558\\uc600\\ub2e4\\uace0 \\uc778\\uc815\\ud558\\uace0 \\uc774 \\ubd80\\ubd84 \\uacf5\\uc18c\\uc0ac\\uc2e4\\uc744 \\uc720\\uc8c4\\ub85c \\ud310\\ub2e8\\ud558\\uc600\\uc73c\\ub2c8, \\uac70\\uae30\\uc5d0\\ub294 \\uc99d\\uad8c\\uac70\\ub798\\ubc95\\ub839\\uc0c1\\uc758 \\uc720\\uac00\\uc99d\\uad8c\\uc758 '\\ubaa8\\uc9d1'\\uc5d0 \\uad00\\ud55c \\ubc95\\ub9ac\\ub97c \\uc624\\ud574\\ud558\\uace0, \\ud544\\uc694\\ud55c \\uc2ec\\ub9ac\\ub97c \\ub2e4\\ud558\\uc9c0 \\uc544\\ub2c8\\ud558\\uc5ec \\uc0ac\\uc2e4\\uc744 \\uc624\\uc778\\ud55c \\uc704\\ubc95\\uc774 \\uc788\\uace0, \\uc774\\ub294 \\ud310\\uacb0\\uc5d0 \\uc601\\ud5a5\\uc744 \\ubbf8\\ucce4\\uc74c\\uc774 \\ubd84\\uba85\\ud558\\ub2e4.  2. \\ub098\\uba38\\uc9c0 \\uc8c4\\uc5d0 \\ub300\\ud55c \\ud310\\ub2e8  \\uac00. \\ud53c\\uace0\\uc778\\uc5d0\\uac8c \\uc9d5\\uc5ed 10\\ub144 \\ubbf8\\ub9cc\\uc758 \\ud615\\uc774 \\uc120\\uace0\\ub41c \\uc774 \\uc0ac\\uac74\\uc5d0\\uc11c \\uc6d0\\uc2ec\\uc758 \\ud615\\uc774 \\ub108\\ubb34 \\ubb34\\uac70\\uc6cc\\uc11c \\ubd80\\ub2f9\\ud558\\ub2e4\\ub294 \\uc0ac\\uc720\\ub294 \\uc801\\ubc95\\ud55c \\uc0c1\\uace0\\uc774\\uc720\\uac00 \\ub418\\uc9c0 \\uc544\\ub2c8\\ud55c\\ub2e4.  \\ub098. \\uadf8\\ub7ec\\ub098 \\uc9c1\\uad8c\\uc73c\\ub85c \\uc0b4\\ud53c\\uac74\\ub300, \\uc6d0\\uc2ec\\uc740, \\ud53c\\uace0\\uc778\\uc774 2001. 6. 30. \\uc11c\\uc6b8\\uc9c0\\ubc29\\ubc95\\uc6d0 \\ub3d9\\ubd80\\uc9c0\\uc6d0\\uc73c\\ub85c\\ubd80\\ud130 \\uc790\\ub3d9\\ucc28\\uad00\\ub9ac\\ubc95\\uc704\\ubc18\\uc8c4\\ub85c \\ubc8c\\uae08 300,000\\uc6d0\\uc744 \\uc120\\uace0\\ubc1b\\uace0 2001. 10. 5. \\uc704 \\ud310\\uacb0\\uc774 \\ud655\\uc815\\ub418\\uace0, 2002. 6. 20. \\uac19\\uc740 \\ubc95\\uc6d0\\uc73c\\ub85c\\ubd80\\ud130 \\uadfc\\ub85c\\uae30\\uc900\\ubc95\\uc704\\ubc18\\uc8c4\\ub85c \\ubc8c\\uae08 1,500,000\\uc6d0\\uc744 \\uc120\\uace0\\ubc1b\\uace0 2002. 10. 6. \\uc704 \\ud310\\uacb0\\uc774 \\ud655\\uc815\\ub418\\uc5c8\\uc74c\\uc744 \\uc774\\uc720\\ub85c, \\ud310\\uc2dc \\uc81c1, 2\\uc758 \\uc8c4\\uc640 \\uc81c5\\uc758 \\uc8c4\\uc5d0 \\ub300\\ud558\\uc5ec \\uac01\\uac01 \\ub530\\ub85c \\ud615\\uc744 \\uc120\\uace0\\ud558\\uc600\\ub2e4.  \\uadf8\\ub7ec\\ub098 2004. 1. 20. \\ubc95\\ub960 \\uc81c7077\\ud638\\ub85c \\uacf5\\ud3ec\\u00b7\\uc2dc\\ud589\\ub41c \\n        \\ud615\\ubc95 \\uc81c37\\uc870 \\ud6c4\\ub2e8\\uc740 \\uc885\\uc804\\uc758 '\\ud310\\uacb0\\uc774 \\ud655\\uc815\\ub41c \\uc8c4'\\ub97c '\\uae08\\uace0 \\uc774\\uc0c1\\uc758 \\ud615\\uc5d0 \\ucc98\\ud55c \\ud310\\uacb0\\uc774 \\ud655\\uc815\\ub41c \\uc8c4'\\ub85c \\uac1c\\uc815\\ud558\\uc5ec \\uaddc\\uc815\\ud558\\uace0 \\uc788\\ub294\\ubc14, \\uc704 \\uac1c\\uc815\\ubc95\\ub960\\uc740 \\ud2b9\\ubcc4\\ud55c \\uacbd\\uacfc\\uaddc\\uc815\\uc744 \\ub450\\uace0 \\uc788\\uc9c0 \\uc54a\\uc73c\\ub098, \\n        \\ud615\\ubc95 \\uc81c37\\uc870\\ub294 \\uacbd\\ud569\\ubc94\\uc758 \\ucc98\\ubc8c\\uc5d0 \\uad00\\ud55c \\uaddc\\uc815\\uc73c\\ub85c\\uc11c \\uc77c\\ubc18\\uc801\\uc73c\\ub85c\\ub294 \\ub450 \\uac1c\\uc758 \\ud615\\uc744 \\uc120\\uace0\\ud558\\ub294 \\uac83\\ubcf4\\ub2e4\\ub294 \\ud558\\ub098\\uc758 \\ud615\\uc744 \\uc120\\uace0\\ud558\\ub294 \\uac83\\uc774 \\ud53c\\uace0\\uc778\\uc5d0\\uac8c \\uc720\\ub9ac\\ud558\\ubbc0\\ub85c, \\uc704 \\uac1c\\uc815\\ubc95\\ub960\\uc744 \\uc801\\uc6a9\\ud558\\ub294 \\uac83\\uc774 \\uc624\\ud788\\ub824 \\ud53c\\uace0\\uc778\\uc5d0\\uac8c \\ubd88\\ub9ac\\ud558\\uac8c \\ub418\\ub294 \\ub4f1\\uc758 \\ud2b9\\ubcc4\\ud55c \\uc0ac\\uc815\\uc774 \\uc5c6\\ub294 \\ud55c \\n        \\ud615\\ubc95 \\uc81c1\\uc870 \\uc81c2\\ud56d\\uc744 \\uc720\\ucd94\\uc801\\uc6a9\\ud558\\uc5ec \\uc704 \\uac1c\\uc815\\ubc95\\ub960 \\uc2dc\\ud589 \\uc804\\uc5d0 \\ubc8c\\uae08\\ud615 \\ubc0f \\uadf8\\ubcf4\\ub2e4 \\uac00\\ubcbc\\uc6b4 \\ud615\\uc5d0 \\ucc98\\ud55c \\ud310\\uacb0\\uc774 \\ud655\\uc815\\ub41c \\uacbd\\uc6b0\\uc5d0\\ub3c4 \\uc801\\uc6a9\\ub418\\ub294 \\uac83\\uc73c\\ub85c \\ubcf4\\uc544\\uc57c \\ud560 \\uac83\\uc774\\ub2e4.\\n        \\uc774 \\uc0ac\\uac74\\uc5d0\\uc11c \\uc704 \\uac1c\\uc815\\ubc95\\ub960\\uc744 \\uc801\\uc6a9\\ud558\\ub294 \\uac83\\uc774 \\ud53c\\uace0\\uc778\\uc5d0\\uac8c \\uc624\\ud788\\ub824 \\ubd88\\ub9ac\\ud558\\uac8c \\ub41c\\ub2e4\\uace0 \\ubcfc \\ub9cc\\ud55c \\uc0ac\\uc815\\uc740 \\ucc3e\\uc544\\ubcfc \\uc218 \\uc5c6\\uc73c\\ubbc0\\ub85c \\ud53c\\uace0\\uc778\\uc5d0\\uac8c\\ub294 \\uc704 \\uac1c\\uc815\\ubc95\\ub960\\uc744 \\uc801\\uc6a9\\ud558\\uc5ec\\uc57c \\ud560 \\uac83\\uc774\\uace0, \\ub530\\ub77c\\uc11c \\ud53c\\uace0\\uc778\\uc774 \\uac01 \\ubc8c\\uae08\\ud615\\uc758 \\ud655\\uc815 \\uc804\\ud6c4\\uc5d0 \\ubc94\\ud55c \\uac01 \\uc8c4\\ub294 \\n        \\ud615\\ubc95 \\uc81c37\\uc870 \\uc804\\ub2e8\\uc758 \\uacbd\\ud569\\ubc94 \\uad00\\uacc4\\uc5d0 \\uc788\\uc73c\\ubbc0\\ub85c \\uadf8\\uc5d0 \\ub300\\ud558\\uc5ec \\ud558\\ub098\\uc758 \\ud615\\uc744 \\uc120\\uace0\\ud558\\uc5ec\\uc57c \\ud560 \\uac83\\uc774\\ub2e4.\\n        3. \\uacb0 \\ub860  \\uadf8\\ub807\\ub2e4\\uba74 \\uc6d0\\uc2ec\\ud310\\uacb0 \\uc911 \\ud310\\uc2dc \\uc81c3, 4\\uc758 \\uc8c4 \\ubd80\\ubd84\\uc5d0 \\uad00\\ud558\\uc5ec\\ub294, \\ud310\\uc2dc \\uc81c3\\uc758 \\uc8c4\\uc5d0 \\ub300\\ud55c \\uc0c1\\uace0\\uc774\\uc720 \\uc81c1\\uc810\\uc758 \\uc8fc\\uc7a5\\uc774 \\uc774\\uc720 \\uc788\\uc73c\\ubbc0\\ub85c \\ub098\\uba38\\uc9c0 \\uc0c1\\uace0\\uc774\\uc720\\uc5d0 \\ub300\\ud55c \\ud310\\ub2e8\\uc744 \\uc0dd\\ub7b5\\ud55c \\ucc44, \\uc774 \\uc8c4\\uc640 \\ud310\\uc2dc \\uc81c4\\uc758 \\uc8c4\\uc5d0 \\ub300\\ud558\\uc5ec \\n        \\ud615\\ubc95 \\uc81c37\\uc870 \\uc804\\ub2e8\\uc758 \\uacbd\\ud569\\ubc94\\uc73c\\ub85c \\ubcf4\\uc544 \\ud558\\ub098\\uc758 \\ud615\\uc744 \\uc120\\uace0\\ud55c \\uc6d0\\uc2ec\\ud310\\uacb0\\uc744 \\ud30c\\uae30\\ud558\\uace0, \\ud310\\uc2dc \\uc81c1, 2, 5\\uc758 \\uc8c4 \\ubd80\\ubd84\\uc5d0 \\ub300\\ud558\\uc5ec\\ub294 \\uc6d0\\uc2ec\\ud310\\uacb0 \\ud6c4\\uc5d0 \\ud615\\uc758 \\ubcc0\\uacbd\\uc774 \\uc788\\ub294 \\ub54c\\uc5d0 \\ud574\\ub2f9\\ud558\\ubbc0\\ub85c \\uc774 \\ubd80\\ubd84 \\uc6d0\\uc2ec\\ud310\\uacb0\\uc744 \\ud30c\\uae30\\ud558\\uba70, \\uc774 \\uc0ac\\uac74\\uc744 \\ub2e4\\uc2dc \\uc2ec\\ub9ac\\u00b7\\ud310\\ub2e8\\ud558\\uac8c \\ud558\\uae30 \\uc704\\ud558\\uc5ec \\uc6d0\\uc2ec\\ubc95\\uc6d0\\uc5d0 \\ud658\\uc1a1\\ud558\\uae30\\ub85c \\ud558\\uc5ec \\uad00\\uc5ec \\ubc95\\uad00\\uc758 \\uc77c\\uce58\\ub41c \\uc758\\uacac\\uc73c\\ub85c \\uc8fc\\ubb38\\uacfc \\uac19\\uc774 \\ud310\\uacb0\\ud55c\\ub2e4. \\n      \\ub300\\ubc95\\uad00 \\uc724\\uc7ac\\uc2dd(\\uc7ac\\ud310\\uc7a5) \\ubcc0\\uc7ac\\uc2b9 \\uac15\\uc2e0\\uc6b1 \\uace0\\ud604\\ucca0(\\uc8fc\\uc2ec) \",\n          \"\\u3010\\ud53c \\uace0 \\uc778\\u3011 \\ud53c\\uace0\\uc778\\u3010\\uc6d0\\uc2ec\\ud310\\uacb0\\u3011 \\uc81c1\\uc2ec \\uc804\\uc8fc\\uc9c0\\ubc29, \\uc81c2\\uc2ec                 \\uc804\\uc8fc\\uc9c0\\ubc29 1968. 10. 17. \\uc120\\uace0 68\\ub178459 \\ud310\\uacb0\\u3010\\uc8fc    \\ubb38\\u3011   \\uc6d0\\ud310\\uacb0\\uc744 \\ud30c\\uae30\\ud55c\\ub2e4.   \\uc0ac\\uac74\\uc744 \\uc804\\uc8fc\\uc9c0\\ubc29\\ubc95\\uc6d0 \\ud569\\uc758\\ubd80\\uc5d0 \\ud658\\uc1a1\\ud55c\\ub2e4.\\u3010\\uc774    \\uc720\\u3011  \\ud53c\\uace0\\uc778\\uc758 \\uc0c1\\uace0\\uc774\\uc720\\ub97c \\uac80\\ud1a0\\ud55c\\ub2e4.  \\uc6d0\\uc2ec\\uc774 \\uc720\\uc9c0\\ud558\\ub294 \\uc81c1\\uc2ec \\ud310\\uacb0\\uc5d0 \\uc0ac\\uae30\\ubc94\\uc8c4 \\uc0ac\\uc2e4\\uc774\\ub77c\\ud558\\uc5ec \\uc801\\uc2dc\\ud55c \\uc0ac\\uc2e4\\uc740 \\ud53c\\uace0\\uc778\\uc774 \\uacf5\\uc18c\\uc678                 1\\ub85c\\ubd80\\ud130 \\ucc28\\uc6a9\\ud55c \\ubc31\\ubbf87\\uac00\\ub9c8 5\\ub418\\ub97c \\ubcc0\\uc81c\\uae30(1967.12.30)\\uae4c\\uc9c0 \\ubcc0\\uc81c\\uce58 \\ubabb\\ud558\\uba74, \\ud53c\\uace0\\uc778 \\uc18c\\uc720\\uc758 \\uc644\\uc8fc\\uad70                 (\\uc0c1\\uc138 \\uc9c0\\ubc88 \\uc0dd\\ub7b5) \\ubc2d 345\\ud3c9\\uc744 \\ub9e4\\uac01\\ucc98\\ubd84\\ud558\\uc5ec\\ub3c4 \\uc774\\uc758\\uc5c6\\ub2e4\\ub294 \\ub0b4\\uc6a9\\uc758 \\ubcf4\\uad00\\uc99d\\uc744 \\ucc44\\uad8c\\uc790                 \\uacf5\\uc18c\\uc678 1\\uc5d0\\uac8c \\ucc28\\uc785\\ud558\\uc600\\ub294 \\ubc14, \\ud53c\\uace0\\uc778\\uc774 \\uc704 \\ucc44\\ubb34\\ub97c \\ubcc0\\uc81c\\ud558\\uae30 \\uc804\\uc5d0\\ub294 \\uc704 \\ud1a0\\uc9c0\\ub97c \\ucc98\\ubd84\\ud560 \\uad8c\\ud55c\\uc774 \\uc5c6\\uc74c\\uc5d0\\ub3c4 \\ubd88\\uad6c\\ud558\\uace0, \\ucc98\\ubd84\\uad8c\\ud55c \\uc788\\ub294 \\uac83 \\uac19\\uc774 \\uac70\\uc9d3\\ub9d0\\uc744 \\ud558\\uc5ec                 \\uacf5\\uc18c\\uc678 2\\ub97c \\uae30\\ub9dd\\ud558\\uc5ec \\uc704 \\ubc2d \\uc911 100\\ud3c9\\uc744 \\ub9e4\\ub3c4\\ud558\\uc5ec \\uadf8 \\ub9e4\\ub9e4\\ub300\\uae08 \\uba85\\ubaa9\\uc73c\\ub85c 12,800\\uc6d0\\uc744 \\uad50\\ubd80\\ubc1b\\uc544 \\ud3b8\\ucde8\\ud558\\uc600\\ub2e4\\ub294 \\uc0ac\\uc2e4\\uc778 \\ubc14, \\ud53c\\uace0\\uc778\\uc774 \\uc704 \\ucc44\\uad8c\\ub2f4\\ubcf4\\uc758 \\ucde8\\uc9c0\\ub85c\\uc11c \\ucc44\\uad8c\\uc790\\uc5d0\\uac8c \\uc704\\ud1a0\\uc9c0\\uc758 \\uc18c\\uc720\\uad8c \\uc774\\uc804\\ub4f1\\uae30\\ub97c \\uacbd\\ub8cc\\ud558\\uc600\\ub2e4\\uba74 \\ud53c\\uace0\\uc778\\uc774 \\uadf8 \\ud1a0\\uc9c0\\uc5d0 \\ub300\\ud55c \\ucc98\\ubd84\\uad8c\\uc744 \\uc783\\uc5c8\\ub2e4 \\ud560\\uc9c0 \\ubaa8\\ub974\\ub098, \\ud53c\\uace0\\uc778\\uc774 \\ub2e8\\uc21c\\ud788 \\ubcc0\\uc81c\\uae30\\uc5d0 \\ubcc0\\uc81c\\uce58 \\ubabb\\ud558\\uc600\\uc744 \\ub54c\\uc5d0 \\ucc44\\uad8c\\uc790\\uc5d0\\uac8c \\ub9e4\\uac01\\ucc98\\ubd84\\uad8c\\uc744 \\uc900\\ub2e4\\ub294 \\ubcf4\\uad00\\uc99d\\uc744 \\ucc28\\uc785\\ud558\\uc600\\ub2e4\\ub294 \\uc0ac\\uc2e4\\ub9cc\\uc73c\\ub85c\\ub294 \\uadf8 \\ud1a0\\uc9c0\\ub97c \\ucc98\\ubd84\\ud560 \\uad8c\\ud55c\\uc774 \\uc0c1\\uc2e4\\ub418\\ub294 \\uac83\\uc774\\ub77c\\uace0 \\ubcfc \\uc218 \\uc5c6\\uc73c\\ubbc0\\ub85c \\uc6d0\\uc2ec\\uc73c\\ub85c\\uc11c\\ub294 \\ubcf8\\uac74 \\ud1a0\\uc9c0 \\uc18c\\uc720\\uad8c\\uc5d0 \\ub300\\ud55c \\uc18c\\uc720 \\uba85\\uc758\\ub97c \\ucc44\\uad8c\\uc790\\uc5d0\\uac8c \\uc774\\uc804\\ud558\\uc600\\ub294\\uac00\\uc758 \\uc5ec\\ubd80\\ub97c \\uc2ec\\ub9ac\\ud558\\uc5ec \\ud53c\\uace0\\uc778\\uc774 \\ubcf8\\uac74 \\ud1a0\\uc9c0\\uc5d0 \\ub300\\ud55c \\ucc98\\ubd84\\uad8c\\uc774 \\uc788\\ub294 \\uac00\\ub97c \\uac00\\ub824\\uc11c \\uc0ac\\uae30\\uc8c4\\uc758 \\uc131\\ubd80\\ub97c \\uacb0\\uc815\\ud588\\uc5b4\\uc57c \\ud560 \\uac83\\uc774\\uc5c8\\uc74c\\uc5d0\\ub3c4 \\ubd88\\uad6c\\ud558\\uace0, \\uc6d0\\uc2ec\\uc774 \\uc774\\uc5d0 \\uc774\\ub974\\uc9c0 \\uc54a\\uace0 \\uc704\\uc640 \\uac19\\uc740 \\uc0ac\\uc2e4 \\uc778\\uc815\\ub9cc\\uc73c\\ub85c \\ud53c\\uace0\\uc778\\uc758 \\uae30\\ub9dd\\ud589\\uc704\\ub97c \\uc778\\uc815\\ud558\\uc600\\uc74c\\uc740 \\uc774\\uc720\\uc5d0 \\ubd88\\ube44 \\uc788\\uc74c\\uc774 \\uc544\\ub2c8\\uba74 \\uc2ec\\ub9ac\\ub97c \\ub2e4\\ud558\\uc9c0 \\ubabb\\ud55c \\uc704\\ubc95\\uc774 \\uc788\\ub2e4 \\ud560 \\uac83\\uc774\\ub2e4.              \\uc6d0\\ud310\\uacb0\\uc740 \\uc774\\uc810\\uc5d0\\uc11c \\ud30c\\uae30\\ub420 \\uc218 \\ubc16\\uc5d0 \\uc5c6\\ub2e4.  \\uadf8\\ub7ec\\ubbc0\\ub85c         \\ud615\\uc0ac\\uc18c\\uc1a1\\ubc95 \\uc81c390\\uc870\\uc5d0 \\uc758\\ud558\\uc5ec \\uad00\\uc5ec\\ud55c \\ubc95\\uad00 \\uc804\\uc6d0\\uc758 \\uc77c\\uce58\\ub41c \\uc758\\uacac\\uc73c\\ub85c \\uc8fc\\ubb38\\uacfc \\uac19\\uc774 \\ud310\\uacb0\\ud55c\\ub2e4.      \\ub300\\ubc95\\uc6d0\\ud310\\uc0ac \\uc720\\uc7ac\\ubc29(\\uc7ac\\ud310\\uc7a5) \\uc190\\ub3d9\\uc6b1 \\ubc29\\uc21c\\uc6d0 \\ub098\\ud56d\\uc724 \"\n        ],\n        \"semantic_type\": \"\",\n        \"description\": \"\"\n      }\n    }\n  ]\n}"
            }
          },
          "metadata": {},
          "execution_count": 62
        }
      ],
      "source": [
        "case_fraud = pd.read_csv('./Data/case_fraud.csv')\n",
        "case_fraud.head(1)"
      ]
    },
    {
      "cell_type": "markdown",
      "metadata": {
        "id": "-pUa8y4775Xu"
      },
      "source": [
        "# 0. 사건 Input"
      ]
    },
    {
      "cell_type": "code",
      "execution_count": 63,
      "metadata": {
        "id": "TrwQ4JVc75Xv"
      },
      "outputs": [],
      "source": [
        "user_input = \"저는 3대 독자인 남편과 혼인하여 3명의 딸을 두고 있어 아들 낳기를 고심하던 중 갑이 운영하는 병원에서 시술을 받으면\\\n",
        "    아들을 낳을 수 있다는 소문을 들었습니다. 저는 甲의 병원에 찾아가 갑에게 “아들을 낳고 싶다.”라고 하면서 甲으로부터 \\\n",
        "    일련의 시술과 처방을 받고 의료수가 및 약값 명목으로 금원을 지불하였으나 아무런 효과가 없었습니다. \\\n",
        "    이 경우 甲에게 형사상 죄책을 물을 수 있는지요?\""
      ]
    },
    {
      "cell_type": "code",
      "source": [
        "import re\n",
        "from nltk import sent_tokenize\n",
        "\n",
        "\n",
        "def prep(sent):\n",
        "    sent = re.sub(r'\\?', '.', sent)\n",
        "    sent = re.sub('[^가-힣. ]', '', sent)\n",
        "\n",
        "    return sent\n",
        "\n",
        "def tokenize(sent):\n",
        "    sent_tokened = sent_tokenize(sent)\n",
        "\n",
        "    return sent_tokened"
      ],
      "metadata": {
        "id": "dzOp5bhCBXXt"
      },
      "execution_count": 64,
      "outputs": []
    },
    {
      "cell_type": "code",
      "execution_count": 65,
      "metadata": {
        "colab": {
          "base_uri": "https://localhost:8080/"
        },
        "id": "LIYnNVEx75Xw",
        "outputId": "c362627a-e47b-4e86-824b-bdde6b7f7caf"
      },
      "outputs": [
        {
          "output_type": "execute_result",
          "data": {
            "text/plain": [
              "['저는 대 독자인 남편과 혼인하여 명의 딸을 두고 있어 아들 낳기를 고심하던 중 갑이 운영하는 병원에서 시술을 받으면    아들을 낳을 수 있다는 소문을 들었습니다.',\n",
              " '저는 의 병원에 찾아가 갑에게 아들을 낳고 싶다.라고 하면서 으로부터     일련의 시술과 처방을 받고 의료수가 및 약값 명목으로 금원을 지불하였으나 아무런 효과가 없었습니다.',\n",
              " '이 경우 에게 형사상 죄책을 물을 수 있는지요.']"
            ]
          },
          "metadata": {},
          "execution_count": 65
        }
      ],
      "source": [
        "input_prep = prep(user_input)\n",
        "input_tokened = tokenize(input_prep)\n",
        "input_tokened"
      ]
    },
    {
      "cell_type": "markdown",
      "metadata": {
        "id": "dGviS-iH75Xx"
      },
      "source": [
        "# 2. SBERT"
      ]
    },
    {
      "cell_type": "markdown",
      "metadata": {
        "id": "7fw-Hp6575Xx"
      },
      "source": [
        "### 1.1 모델 & 임베딩 로드"
      ]
    },
    {
      "cell_type": "code",
      "execution_count": 66,
      "metadata": {
        "id": "js2sflKh75Xx"
      },
      "outputs": [],
      "source": [
        "with tf.device(\"/device:GPU:0\"):\n",
        "    sbert = SentenceTransformer('jhgan/ko-sbert-sts')"
      ]
    },
    {
      "cell_type": "code",
      "source": [
        "# 임베딩 값 로드\n",
        "with open(\"./Modeling/model/sbert_emb.pickle\", 'rb') as fr:\n",
        "    sbert_embedding = pk.load(fr)"
      ],
      "metadata": {
        "id": "wsEYrQt2OwqQ"
      },
      "execution_count": 67,
      "outputs": []
    },
    {
      "cell_type": "markdown",
      "metadata": {
        "id": "CVXjbRPa75Xy"
      },
      "source": [
        "### 1.2 사용자 입력 임베딩"
      ]
    },
    {
      "cell_type": "code",
      "source": [
        "embedding = None\n",
        "count = 0\n",
        "for sentence in input_tokened:\n",
        "    if embedding is None:\n",
        "        embedding = sbert.encode(sentence)\n",
        "    else:\n",
        "        embedding += sbert.encode(sentence)\n",
        "    count += 1\n",
        "\n",
        "f_embedding = embedding / count"
      ],
      "metadata": {
        "id": "0kHtNp7uOi-V"
      },
      "execution_count": 68,
      "outputs": []
    },
    {
      "cell_type": "markdown",
      "metadata": {
        "id": "Gdhkb5kL75Xz"
      },
      "source": [
        "### 1.3 코사인 유사도 계산"
      ]
    },
    {
      "cell_type": "code",
      "execution_count": 69,
      "metadata": {
        "id": "LthmEVvp75Xz"
      },
      "outputs": [],
      "source": [
        "from sklearn.metrics.pairwise import cosine_similarity\n",
        "\n",
        "f_similarity = cosine_similarity([f_embedding], sbert_embedding)\n",
        "f_similarity = list(enumerate(f_similarity[0]))\n",
        "f_similarity = sorted(f_similarity, key=lambda x : x[1], reverse = True)"
      ]
    },
    {
      "cell_type": "markdown",
      "metadata": {
        "id": "2H6IX3qH75Xz"
      },
      "source": [
        "### 1.4 유사 판례 추출"
      ]
    },
    {
      "cell_type": "code",
      "execution_count": 70,
      "metadata": {
        "id": "SXqnPhiy75X0"
      },
      "outputs": [],
      "source": [
        "precidents = []\n",
        "\n",
        "for i in range(5):\n",
        "    idx = f_similarity[i][0]\n",
        "    sim = round(f_similarity[i][1] * 100, 2)\n",
        "\n",
        "    precidents.append([case_fraud['판례일련번호'][idx], case_fraud['사건명'][idx], case_fraud['판례내용'][idx], sim])"
      ]
    },
    {
      "cell_type": "code",
      "execution_count": 71,
      "metadata": {
        "id": "-Y4EgdkW75X0",
        "colab": {
          "base_uri": "https://localhost:8080/",
          "height": 204
        },
        "outputId": "47c95d2f-41a6-494f-b9c0-92d6044bf647"
      },
      "outputs": [
        {
          "output_type": "execute_result",
          "data": {
            "text/plain": [
              "   판례일련번호                                                사건명  \\\n",
              "0  178184                                   사기·사문서위조·위조사문서행사   \n",
              "1  177835                                                 사기   \n",
              "2  237943  의료법위반·특정경제범죄가중처벌등에관한법률위반(사기)방조·의료법위반방조[적법하게 개설...   \n",
              "3  213717  사기ㆍ횡령[부동산 실권리자명의 등기에 관한 법률에 위반한 이른바 양자간 명의신탁에서...   \n",
              "4  184943                                              사기·배임   \n",
              "\n",
              "                                                판례내용    유사도  \n",
              "0  【피 고 인】 【상 고 인】 피고인들【변 호 인】 법무법인 서산 담당변호사 유진범【...  61.91  \n",
              "1  【피 고 인】 【상 고 인】 피고인【변 호 인】 변호사 이용명【원심판결】 부산지법 ...  61.69  \n",
              "2  【피 고 인】 피고인 1 외 5인【상 고 인】 피고인들【변 호 인】 법무법인 우리하...  61.59  \n",
              "3  [피고인] 피고인[상고인] 피고인 및 검사[변호인] 변호사 권종무[원심판결] 부산지...  61.58  \n",
              "4  【피 고 인】 【상 고 인】 피고인 및 검사【변 호 인】 변호사 조기제【원심판결】 ...  61.12  "
            ],
            "text/html": [
              "\n",
              "  <div id=\"df-f5c344fd-4588-404e-9fca-a222b157638c\" class=\"colab-df-container\">\n",
              "    <div>\n",
              "<style scoped>\n",
              "    .dataframe tbody tr th:only-of-type {\n",
              "        vertical-align: middle;\n",
              "    }\n",
              "\n",
              "    .dataframe tbody tr th {\n",
              "        vertical-align: top;\n",
              "    }\n",
              "\n",
              "    .dataframe thead th {\n",
              "        text-align: right;\n",
              "    }\n",
              "</style>\n",
              "<table border=\"1\" class=\"dataframe\">\n",
              "  <thead>\n",
              "    <tr style=\"text-align: right;\">\n",
              "      <th></th>\n",
              "      <th>판례일련번호</th>\n",
              "      <th>사건명</th>\n",
              "      <th>판례내용</th>\n",
              "      <th>유사도</th>\n",
              "    </tr>\n",
              "  </thead>\n",
              "  <tbody>\n",
              "    <tr>\n",
              "      <th>0</th>\n",
              "      <td>178184</td>\n",
              "      <td>사기·사문서위조·위조사문서행사</td>\n",
              "      <td>【피 고 인】 【상 고 인】 피고인들【변 호 인】 법무법인 서산 담당변호사 유진범【...</td>\n",
              "      <td>61.91</td>\n",
              "    </tr>\n",
              "    <tr>\n",
              "      <th>1</th>\n",
              "      <td>177835</td>\n",
              "      <td>사기</td>\n",
              "      <td>【피 고 인】 【상 고 인】 피고인【변 호 인】 변호사 이용명【원심판결】 부산지법 ...</td>\n",
              "      <td>61.69</td>\n",
              "    </tr>\n",
              "    <tr>\n",
              "      <th>2</th>\n",
              "      <td>237943</td>\n",
              "      <td>의료법위반·특정경제범죄가중처벌등에관한법률위반(사기)방조·의료법위반방조[적법하게 개설...</td>\n",
              "      <td>【피 고 인】 피고인 1 외 5인【상 고 인】 피고인들【변 호 인】 법무법인 우리하...</td>\n",
              "      <td>61.59</td>\n",
              "    </tr>\n",
              "    <tr>\n",
              "      <th>3</th>\n",
              "      <td>213717</td>\n",
              "      <td>사기ㆍ횡령[부동산 실권리자명의 등기에 관한 법률에 위반한 이른바 양자간 명의신탁에서...</td>\n",
              "      <td>[피고인] 피고인[상고인] 피고인 및 검사[변호인] 변호사 권종무[원심판결] 부산지...</td>\n",
              "      <td>61.58</td>\n",
              "    </tr>\n",
              "    <tr>\n",
              "      <th>4</th>\n",
              "      <td>184943</td>\n",
              "      <td>사기·배임</td>\n",
              "      <td>【피 고 인】 【상 고 인】 피고인 및 검사【변 호 인】 변호사 조기제【원심판결】 ...</td>\n",
              "      <td>61.12</td>\n",
              "    </tr>\n",
              "  </tbody>\n",
              "</table>\n",
              "</div>\n",
              "    <div class=\"colab-df-buttons\">\n",
              "\n",
              "  <div class=\"colab-df-container\">\n",
              "    <button class=\"colab-df-convert\" onclick=\"convertToInteractive('df-f5c344fd-4588-404e-9fca-a222b157638c')\"\n",
              "            title=\"Convert this dataframe to an interactive table.\"\n",
              "            style=\"display:none;\">\n",
              "\n",
              "  <svg xmlns=\"http://www.w3.org/2000/svg\" height=\"24px\" viewBox=\"0 -960 960 960\">\n",
              "    <path d=\"M120-120v-720h720v720H120Zm60-500h600v-160H180v160Zm220 220h160v-160H400v160Zm0 220h160v-160H400v160ZM180-400h160v-160H180v160Zm440 0h160v-160H620v160ZM180-180h160v-160H180v160Zm440 0h160v-160H620v160Z\"/>\n",
              "  </svg>\n",
              "    </button>\n",
              "\n",
              "  <style>\n",
              "    .colab-df-container {\n",
              "      display:flex;\n",
              "      gap: 12px;\n",
              "    }\n",
              "\n",
              "    .colab-df-convert {\n",
              "      background-color: #E8F0FE;\n",
              "      border: none;\n",
              "      border-radius: 50%;\n",
              "      cursor: pointer;\n",
              "      display: none;\n",
              "      fill: #1967D2;\n",
              "      height: 32px;\n",
              "      padding: 0 0 0 0;\n",
              "      width: 32px;\n",
              "    }\n",
              "\n",
              "    .colab-df-convert:hover {\n",
              "      background-color: #E2EBFA;\n",
              "      box-shadow: 0px 1px 2px rgba(60, 64, 67, 0.3), 0px 1px 3px 1px rgba(60, 64, 67, 0.15);\n",
              "      fill: #174EA6;\n",
              "    }\n",
              "\n",
              "    .colab-df-buttons div {\n",
              "      margin-bottom: 4px;\n",
              "    }\n",
              "\n",
              "    [theme=dark] .colab-df-convert {\n",
              "      background-color: #3B4455;\n",
              "      fill: #D2E3FC;\n",
              "    }\n",
              "\n",
              "    [theme=dark] .colab-df-convert:hover {\n",
              "      background-color: #434B5C;\n",
              "      box-shadow: 0px 1px 3px 1px rgba(0, 0, 0, 0.15);\n",
              "      filter: drop-shadow(0px 1px 2px rgba(0, 0, 0, 0.3));\n",
              "      fill: #FFFFFF;\n",
              "    }\n",
              "  </style>\n",
              "\n",
              "    <script>\n",
              "      const buttonEl =\n",
              "        document.querySelector('#df-f5c344fd-4588-404e-9fca-a222b157638c button.colab-df-convert');\n",
              "      buttonEl.style.display =\n",
              "        google.colab.kernel.accessAllowed ? 'block' : 'none';\n",
              "\n",
              "      async function convertToInteractive(key) {\n",
              "        const element = document.querySelector('#df-f5c344fd-4588-404e-9fca-a222b157638c');\n",
              "        const dataTable =\n",
              "          await google.colab.kernel.invokeFunction('convertToInteractive',\n",
              "                                                    [key], {});\n",
              "        if (!dataTable) return;\n",
              "\n",
              "        const docLinkHtml = 'Like what you see? Visit the ' +\n",
              "          '<a target=\"_blank\" href=https://colab.research.google.com/notebooks/data_table.ipynb>data table notebook</a>'\n",
              "          + ' to learn more about interactive tables.';\n",
              "        element.innerHTML = '';\n",
              "        dataTable['output_type'] = 'display_data';\n",
              "        await google.colab.output.renderOutput(dataTable, element);\n",
              "        const docLink = document.createElement('div');\n",
              "        docLink.innerHTML = docLinkHtml;\n",
              "        element.appendChild(docLink);\n",
              "      }\n",
              "    </script>\n",
              "  </div>\n",
              "\n",
              "\n",
              "<div id=\"df-236207fb-24ac-4d34-bc3e-0c56e6a43976\">\n",
              "  <button class=\"colab-df-quickchart\" onclick=\"quickchart('df-236207fb-24ac-4d34-bc3e-0c56e6a43976')\"\n",
              "            title=\"Suggest charts\"\n",
              "            style=\"display:none;\">\n",
              "\n",
              "<svg xmlns=\"http://www.w3.org/2000/svg\" height=\"24px\"viewBox=\"0 0 24 24\"\n",
              "     width=\"24px\">\n",
              "    <g>\n",
              "        <path d=\"M19 3H5c-1.1 0-2 .9-2 2v14c0 1.1.9 2 2 2h14c1.1 0 2-.9 2-2V5c0-1.1-.9-2-2-2zM9 17H7v-7h2v7zm4 0h-2V7h2v10zm4 0h-2v-4h2v4z\"/>\n",
              "    </g>\n",
              "</svg>\n",
              "  </button>\n",
              "\n",
              "<style>\n",
              "  .colab-df-quickchart {\n",
              "      --bg-color: #E8F0FE;\n",
              "      --fill-color: #1967D2;\n",
              "      --hover-bg-color: #E2EBFA;\n",
              "      --hover-fill-color: #174EA6;\n",
              "      --disabled-fill-color: #AAA;\n",
              "      --disabled-bg-color: #DDD;\n",
              "  }\n",
              "\n",
              "  [theme=dark] .colab-df-quickchart {\n",
              "      --bg-color: #3B4455;\n",
              "      --fill-color: #D2E3FC;\n",
              "      --hover-bg-color: #434B5C;\n",
              "      --hover-fill-color: #FFFFFF;\n",
              "      --disabled-bg-color: #3B4455;\n",
              "      --disabled-fill-color: #666;\n",
              "  }\n",
              "\n",
              "  .colab-df-quickchart {\n",
              "    background-color: var(--bg-color);\n",
              "    border: none;\n",
              "    border-radius: 50%;\n",
              "    cursor: pointer;\n",
              "    display: none;\n",
              "    fill: var(--fill-color);\n",
              "    height: 32px;\n",
              "    padding: 0;\n",
              "    width: 32px;\n",
              "  }\n",
              "\n",
              "  .colab-df-quickchart:hover {\n",
              "    background-color: var(--hover-bg-color);\n",
              "    box-shadow: 0 1px 2px rgba(60, 64, 67, 0.3), 0 1px 3px 1px rgba(60, 64, 67, 0.15);\n",
              "    fill: var(--button-hover-fill-color);\n",
              "  }\n",
              "\n",
              "  .colab-df-quickchart-complete:disabled,\n",
              "  .colab-df-quickchart-complete:disabled:hover {\n",
              "    background-color: var(--disabled-bg-color);\n",
              "    fill: var(--disabled-fill-color);\n",
              "    box-shadow: none;\n",
              "  }\n",
              "\n",
              "  .colab-df-spinner {\n",
              "    border: 2px solid var(--fill-color);\n",
              "    border-color: transparent;\n",
              "    border-bottom-color: var(--fill-color);\n",
              "    animation:\n",
              "      spin 1s steps(1) infinite;\n",
              "  }\n",
              "\n",
              "  @keyframes spin {\n",
              "    0% {\n",
              "      border-color: transparent;\n",
              "      border-bottom-color: var(--fill-color);\n",
              "      border-left-color: var(--fill-color);\n",
              "    }\n",
              "    20% {\n",
              "      border-color: transparent;\n",
              "      border-left-color: var(--fill-color);\n",
              "      border-top-color: var(--fill-color);\n",
              "    }\n",
              "    30% {\n",
              "      border-color: transparent;\n",
              "      border-left-color: var(--fill-color);\n",
              "      border-top-color: var(--fill-color);\n",
              "      border-right-color: var(--fill-color);\n",
              "    }\n",
              "    40% {\n",
              "      border-color: transparent;\n",
              "      border-right-color: var(--fill-color);\n",
              "      border-top-color: var(--fill-color);\n",
              "    }\n",
              "    60% {\n",
              "      border-color: transparent;\n",
              "      border-right-color: var(--fill-color);\n",
              "    }\n",
              "    80% {\n",
              "      border-color: transparent;\n",
              "      border-right-color: var(--fill-color);\n",
              "      border-bottom-color: var(--fill-color);\n",
              "    }\n",
              "    90% {\n",
              "      border-color: transparent;\n",
              "      border-bottom-color: var(--fill-color);\n",
              "    }\n",
              "  }\n",
              "</style>\n",
              "\n",
              "  <script>\n",
              "    async function quickchart(key) {\n",
              "      const quickchartButtonEl =\n",
              "        document.querySelector('#' + key + ' button');\n",
              "      quickchartButtonEl.disabled = true;  // To prevent multiple clicks.\n",
              "      quickchartButtonEl.classList.add('colab-df-spinner');\n",
              "      try {\n",
              "        const charts = await google.colab.kernel.invokeFunction(\n",
              "            'suggestCharts', [key], {});\n",
              "      } catch (error) {\n",
              "        console.error('Error during call to suggestCharts:', error);\n",
              "      }\n",
              "      quickchartButtonEl.classList.remove('colab-df-spinner');\n",
              "      quickchartButtonEl.classList.add('colab-df-quickchart-complete');\n",
              "    }\n",
              "    (() => {\n",
              "      let quickchartButtonEl =\n",
              "        document.querySelector('#df-236207fb-24ac-4d34-bc3e-0c56e6a43976 button');\n",
              "      quickchartButtonEl.style.display =\n",
              "        google.colab.kernel.accessAllowed ? 'block' : 'none';\n",
              "    })();\n",
              "  </script>\n",
              "</div>\n",
              "\n",
              "  <div id=\"id_4718eb79-4485-46e9-b9ed-838504908485\">\n",
              "    <style>\n",
              "      .colab-df-generate {\n",
              "        background-color: #E8F0FE;\n",
              "        border: none;\n",
              "        border-radius: 50%;\n",
              "        cursor: pointer;\n",
              "        display: none;\n",
              "        fill: #1967D2;\n",
              "        height: 32px;\n",
              "        padding: 0 0 0 0;\n",
              "        width: 32px;\n",
              "      }\n",
              "\n",
              "      .colab-df-generate:hover {\n",
              "        background-color: #E2EBFA;\n",
              "        box-shadow: 0px 1px 2px rgba(60, 64, 67, 0.3), 0px 1px 3px 1px rgba(60, 64, 67, 0.15);\n",
              "        fill: #174EA6;\n",
              "      }\n",
              "\n",
              "      [theme=dark] .colab-df-generate {\n",
              "        background-color: #3B4455;\n",
              "        fill: #D2E3FC;\n",
              "      }\n",
              "\n",
              "      [theme=dark] .colab-df-generate:hover {\n",
              "        background-color: #434B5C;\n",
              "        box-shadow: 0px 1px 3px 1px rgba(0, 0, 0, 0.15);\n",
              "        filter: drop-shadow(0px 1px 2px rgba(0, 0, 0, 0.3));\n",
              "        fill: #FFFFFF;\n",
              "      }\n",
              "    </style>\n",
              "    <button class=\"colab-df-generate\" onclick=\"generateWithVariable('f_result')\"\n",
              "            title=\"Generate code using this dataframe.\"\n",
              "            style=\"display:none;\">\n",
              "\n",
              "  <svg xmlns=\"http://www.w3.org/2000/svg\" height=\"24px\"viewBox=\"0 0 24 24\"\n",
              "       width=\"24px\">\n",
              "    <path d=\"M7,19H8.4L18.45,9,17,7.55,7,17.6ZM5,21V16.75L18.45,3.32a2,2,0,0,1,2.83,0l1.4,1.43a1.91,1.91,0,0,1,.58,1.4,1.91,1.91,0,0,1-.58,1.4L9.25,21ZM18.45,9,17,7.55Zm-12,3A5.31,5.31,0,0,0,4.9,8.1,5.31,5.31,0,0,0,1,6.5,5.31,5.31,0,0,0,4.9,4.9,5.31,5.31,0,0,0,6.5,1,5.31,5.31,0,0,0,8.1,4.9,5.31,5.31,0,0,0,12,6.5,5.46,5.46,0,0,0,6.5,12Z\"/>\n",
              "  </svg>\n",
              "    </button>\n",
              "    <script>\n",
              "      (() => {\n",
              "      const buttonEl =\n",
              "        document.querySelector('#id_4718eb79-4485-46e9-b9ed-838504908485 button.colab-df-generate');\n",
              "      buttonEl.style.display =\n",
              "        google.colab.kernel.accessAllowed ? 'block' : 'none';\n",
              "\n",
              "      buttonEl.onclick = () => {\n",
              "        google.colab.notebook.generateWithVariable('f_result');\n",
              "      }\n",
              "      })();\n",
              "    </script>\n",
              "  </div>\n",
              "\n",
              "    </div>\n",
              "  </div>\n"
            ],
            "application/vnd.google.colaboratory.intrinsic+json": {
              "type": "dataframe",
              "variable_name": "f_result",
              "summary": "{\n  \"name\": \"f_result\",\n  \"rows\": 5,\n  \"fields\": [\n    {\n      \"column\": \"\\ud310\\ub840\\uc77c\\ub828\\ubc88\\ud638\",\n      \"properties\": {\n        \"dtype\": \"number\",\n        \"std\": 26508,\n        \"min\": 177835,\n        \"max\": 237943,\n        \"num_unique_values\": 5,\n        \"samples\": [\n          177835,\n          184943,\n          237943\n        ],\n        \"semantic_type\": \"\",\n        \"description\": \"\"\n      }\n    },\n    {\n      \"column\": \"\\uc0ac\\uac74\\uba85\",\n      \"properties\": {\n        \"dtype\": \"string\",\n        \"num_unique_values\": 5,\n        \"samples\": [\n          \"\\uc0ac\\uae30\",\n          \"\\uc0ac\\uae30\\u00b7\\ubc30\\uc784\",\n          \"\\uc758\\ub8cc\\ubc95\\uc704\\ubc18\\u00b7\\ud2b9\\uc815\\uacbd\\uc81c\\ubc94\\uc8c4\\uac00\\uc911\\ucc98\\ubc8c\\ub4f1\\uc5d0\\uad00\\ud55c\\ubc95\\ub960\\uc704\\ubc18(\\uc0ac\\uae30)\\ubc29\\uc870\\u00b7\\uc758\\ub8cc\\ubc95\\uc704\\ubc18\\ubc29\\uc870[\\uc801\\ubc95\\ud558\\uac8c \\uac1c\\uc124\\ub418\\uc9c0 \\uc54a\\uc740 \\uc758\\ub8cc\\uae30\\uad00\\uc758 \\uc2e4\\uc9c8 \\uac1c\\uc124\\u00b7\\uc6b4\\uc601\\uc790\\uac00 \\uc758\\ub8cc\\uae09\\uc5ec\\ube44\\uc6a9 \\uba85\\ubaa9\\uc758 \\uae08\\uc6d0\\uc744 \\ud3b8\\ucde8\\ud55c \\uc0ac\\uac74]\"\n        ],\n        \"semantic_type\": \"\",\n        \"description\": \"\"\n      }\n    },\n    {\n      \"column\": \"\\ud310\\ub840\\ub0b4\\uc6a9\",\n      \"properties\": {\n        \"dtype\": \"string\",\n        \"num_unique_values\": 5,\n        \"samples\": [\n          \"\\u3010\\ud53c \\uace0 \\uc778\\u3011 \\u3010\\uc0c1 \\uace0 \\uc778\\u3011 \\ud53c\\uace0\\uc778\\u3010\\ubcc0 \\ud638 \\uc778\\u3011 \\ubcc0\\ud638\\uc0ac \\uc774\\uc6a9\\uba85\\u3010\\uc6d0\\uc2ec\\ud310\\uacb0\\u3011 \\ubd80\\uc0b0\\uc9c0\\ubc95 2014. 6. 26. \\uc120\\uace0 2014\\ub1781336 \\ud310\\uacb0\\u3010\\uc8fc    \\ubb38\\u3011  \\uc0c1\\uace0\\ub97c \\uae30\\uac01\\ud55c\\ub2e4.\\u3010\\uc774    \\uc720\\u3011  \\uc0c1\\uace0\\uc774\\uc720\\ub97c \\ud310\\ub2e8\\ud55c\\ub2e4.  1. \\uc0ac\\uae30\\uc8c4\\uc758 \\uc694\\uac74\\uc73c\\ub85c\\uc11c\\uc758 \\uae30\\ub9dd\\uc740 \\ub110\\ub9ac \\uc7ac\\uc0b0\\uc0c1\\uc758 \\uac70\\ub798\\uad00\\uacc4\\uc5d0\\uc11c \\uc11c\\ub85c \\uc9c0\\ucf1c\\uc57c \\ud560 \\uc2e0\\uc758\\uc640 \\uc131\\uc2e4\\uc758 \\uc758\\ubb34\\ub97c \\uc800\\ubc84\\ub9ac\\ub294 \\ubaa8\\ub4e0 \\uc801\\uadf9\\uc801 \\ub610\\ub294 \\uc18c\\uadf9\\uc801 \\ud589\\uc704\\ub97c \\ub9d0\\ud558\\ub294 \\uac83\\uc73c\\ub85c\\uc11c, \\ubc18\\ub4dc\\uc2dc \\ubc95\\ub960\\ud589\\uc704\\uc758 \\uc911\\uc694 \\ubd80\\ubd84\\uc5d0 \\uad00\\ud55c \\ud5c8\\uc704\\ud45c\\uc2dc\\uc784\\uc744 \\uc694\\ud558\\uc9c0 \\uc544\\ub2c8\\ud558\\uace0, \\uc0c1\\ub300\\ubc29\\uc744 \\ucc29\\uc624\\uc5d0 \\ube60\\uc9c0\\uac8c \\ud558\\uc5ec \\ud589\\uc704\\uc790\\uac00 \\ud76c\\ub9dd\\ud558\\ub294 \\uc7ac\\uc0b0\\uc801 \\ucc98\\ubd84\\ud589\\uc704\\ub97c \\ud558\\ub3c4\\ub85d \\ud558\\uae30 \\uc704\\ud55c \\ud310\\ub2e8\\uc758 \\uae30\\ucd08\\uac00 \\ub418\\ub294 \\uc0ac\\uc2e4\\uc5d0 \\uad00\\ud55c \\uac83\\uc774\\uba74 \\ucda9\\ubd84\\ud558\\ubbc0\\ub85c, \\uac70\\ub798\\uc758 \\uc0c1\\ub300\\ubc29\\uc774 \\uc77c\\uc815\\ud55c \\uc0ac\\uc815\\uc5d0 \\uad00\\ud55c \\uace0\\uc9c0\\ub97c \\ubc1b\\uc558\\ub354\\ub77c\\uba74 \\ub2f9\\ud574 \\uac70\\ub798\\uc5d0 \\uc784\\ud558\\uc9c0 \\uc544\\ub2c8\\ud558\\uc600\\uc744 \\uac83\\uc774\\ub77c\\ub294 \\uad00\\uacc4\\uac00 \\uc778\\uc815\\ub418\\ub294 \\uacbd\\uc6b0\\uc5d0\\ub294 \\uadf8 \\uac70\\ub798\\ub85c \\uc778\\ud558\\uc5ec \\uc7ac\\ubb3c\\uc744 \\uc218\\ucde8\\ud558\\uac70\\ub098 \\uc7ac\\uc0b0\\uc0c1 \\uc774\\uc775\\uc744 \\ucde8\\ub4dd\\ud558\\ub294 \\uc790\\uc5d0\\uac8c\\ub294 \\uc2e0\\uc758\\uc131\\uc2e4\\uc758 \\uc6d0\\uce59\\uc0c1 \\uc0ac\\uc804\\uc5d0 \\uc0c1\\ub300\\ubc29\\uc5d0\\uac8c \\uadf8\\uc640 \\uac19\\uc740 \\uc0ac\\uc815\\uc744 \\uace0\\uc9c0\\ud560 \\uc758\\ubb34\\uac00 \\uc788\\ub2e4 \\ud560 \\uac83\\uc774\\uace0, \\uadf8\\ub7fc\\uc5d0\\ub3c4 \\ubd88\\uad6c\\ud558\\uace0 \\uc774\\ub97c \\uace0\\uc9c0\\ud558\\uc9c0 \\uc544\\ub2c8\\ud55c \\uac83\\uc740 \\uace0\\uc9c0\\ud560 \\uc0ac\\uc2e4\\uc744 \\ubb35\\ube44\\ud568\\uc73c\\ub85c\\uc368 \\uc0c1\\ub300\\ubc29\\uc744 \\uae30\\ub9dd\\ud55c \\uac83\\uc774 \\ub418\\uc5b4 \\uc0ac\\uae30\\uc8c4\\ub97c \\uad6c\\uc131\\ud55c\\ub2e4.  \\ub610\\ud55c \\uc0ac\\uae30\\uc8c4\\ub294 \\ud0c0\\uc778\\uc744 \\uae30\\ub9dd\\ud558\\uc5ec \\uadf8\\ub85c \\uc778\\ud55c \\ud558\\uc790 \\uc788\\ub294 \\uc758\\uc0ac\\uc5d0 \\uae30\\ud558\\uc5ec \\uc7ac\\ubb3c\\uc758 \\uad50\\ubd80\\ub97c \\ubc1b\\uac70\\ub098 \\uc7ac\\uc0b0\\uc0c1\\uc758 \\uc774\\uc775\\uc744 \\ucde8\\ub4dd\\ud568\\uc73c\\ub85c\\uc368 \\uc131\\ub9bd\\ud558\\ub294 \\ubc94\\uc8c4\\ub85c\\uc11c \\uadf8 \\ubcf8\\uc9c8\\uc740 \\uae30\\ub9dd\\uc5d0 \\uc758\\ud55c \\uc7ac\\ubb3c\\uc774\\ub098 \\uc7ac\\uc0b0\\uc0c1 \\uc774\\uc775\\uc758 \\ucde8\\ub4dd\\uc5d0 \\uc788\\ub294 \\uac83\\uc774\\uace0 \\uc0c1\\ub300\\ubc29\\uc5d0\\uac8c \\ud604\\uc2e4\\uc801\\uc73c\\ub85c \\uc7ac\\uc0b0\\uc0c1 \\uc190\\ud574\\uac00 \\ubc1c\\uc0dd\\ud560 \\ud544\\uc694\\ub294 \\uc5c6\\ub2e4(\\ub300\\ubc95\\uc6d0 2004. 4. 9. \\uc120\\uace0 2003\\ub3c47828 \\ud310\\uacb0 \\ub4f1 \\ucc38\\uc870).  2. \\uc6d0\\uc2ec\\ud310\\uacb0 \\uc774\\uc720 \\ubc0f \\uc801\\ubc95\\ud558\\uac8c \\ucc44\\ud0dd\\ub41c \\uc99d\\uac70\\ub4e4\\uc5d0 \\uc758\\ud558\\uba74 \\ub2e4\\uc74c\\uacfc \\uac19\\uc740 \\uc0ac\\uc2e4\\uc744 \\uc54c \\uc218 \\uc788\\ub2e4.  \\uac00. \\ud53c\\uace0\\uc778\\uc774 \\uc6b4\\uc601\\ud558\\ub294 \\uc778\\ud130\\ub137 \\uacbd\\ub9e4\\uc0ac\\uc774\\ud2b8\\uc758 \\ud68c\\uc6d0\\uc774 \\uc704 \\uc0ac\\uc774\\ud2b8\\uc5d0\\uc11c \\uc2e4\\uc2dc\\ud558\\ub294 \\uacbd\\ub9e4\\uc808\\ucc28\\uc5d0 \\ucc38\\uc5ec\\ud558\\uae30 \\uc704\\ud574\\uc11c\\ub294 \\uc704 \\uc0ac\\uc774\\ud2b8\\uc5d0\\uc11c \\uac1c\\ub2f9 500\\uc6d0\\uc5d0 \\ud310\\ub9e4\\ub418\\ub294 \\uc544\\uc774\\ud15c\\uc778 \\u25cb\\u25cb\\ubcfc\\uc744 \\ubcf4\\uc720\\ud558\\uace0 \\uc788\\uc5b4\\uc57c \\ud558\\ub294\\ub370, \\ud2b9\\uc815 \\uc0c1\\ud488\\uc5d0 \\ub300\\ud558\\uc5ec \\ucd5c\\uc800\\uc785\\ucc30\\uac00\\ub97c 10\\uc6d0\\uc73c\\ub85c \\ud558\\ub294 \\uacbd\\ub9e4\\uac00 \\uac1c\\uc2dc\\ub418\\uba74 \\uc785\\ucc30\\uc744 \\uc6d0\\ud558\\ub294 \\ud68c\\uc6d0\\ub4e4\\uc774 \\uc785\\ucc30\\ud558\\uae30 \\ubc84\\ud2bc\\uc744 \\ud074\\ub9ad\\ud560 \\ub54c\\ub9c8\\ub2e4 1\\uac1c\\uc758 \\u25cb\\u25cb\\ubcfc\\uc774 \\uc18c\\uc9c4\\ub418\\uba74\\uc11c \\uc785\\ucc30\\uac00\\uac00 10\\uc6d0\\uc529 \\uc790\\ub3d9\\uc73c\\ub85c \\uc62c\\ub77c\\uac00\\uac8c \\ub418\\uace0, \\ud604\\uc7ac\\uc758 \\ucd5c\\uace0 \\uc785\\ucc30\\uac00\\uc640 \\uc785\\ucc30\\uc790\\uac00 \\uc2e4\\uc2dc\\uac04\\uc73c\\ub85c \\uacf5\\uac1c\\ub418\\uc5b4 \\uadf8\\ubcf4\\ub2e4 \\ub192\\uc740 \\uac00\\uaca9\\uc5d0 \\uc785\\ucc30\\uc744 \\uc6d0\\ud558\\ub294 \\ud68c\\uc6d0\\ub4e4\\uc740 \\ubbf8\\ub9ac \\uacf5\\uc9c0\\ub41c \\ub9c8\\uac10\\uc2dc\\uac01 \\uc804\\uae4c\\uc9c0 \\uc785\\ucc30\\uc5d0 \\ucc38\\uac00\\ud560 \\uc218 \\uc788\\ub2e4.  \\ub098. \\uacbd\\ub9e4\\uc5d0 \\ucc38\\uac00\\ud55c \\ud68c\\uc6d0\\uc774 \\ub9c8\\uac10\\uc2dc\\uac01 \\uc804 10\\ucd08 \\uc774\\ub0b4\\uc5d0 \\uc785\\ucc30\\ud558\\uae30 \\ubc84\\ud2bc\\uc744 \\ud074\\ub9ad\\ud558\\uba74 \\ub9c8\\uac10\\uc2dc\\uac01\\uc774 10\\ucd08\\uac04 \\uc5f0\\uc7a5\\ub418\\uba70, \\uacb0\\uad6d \\uc774\\ub7ec\\ud55c \\ub9c8\\uac10\\uc2dc\\uac01\\uc774 \\uc9c0\\ub09c \\ub2e4\\uc74c \\ucd5c\\uc885 \\uc785\\ucc30\\uc790 1\\uba85\\uc774 \\ub099\\ucc30\\uc790\\ub85c \\uacb0\\uc815\\ub418\\uc5b4 \\ub099\\ucc30 \\ud6c4 \\uc77c\\uc815\\ud55c \\uae30\\uac04 \\ub0b4\\uc5d0 \\uadf8 \\ub099\\ucc30\\uac00\\uc5d0 \\ubc30\\uc1a1\\ube44\\ub97c \\ub354\\ud55c \\uae08\\uc561\\uc744 \\uacb0\\uc81c\\ud568\\uc73c\\ub85c\\uc368 \\ud574\\ub2f9 \\uc0c1\\ud488\\uc744 \\uad6c\\ub9e4\\ud560 \\uc218 \\uc788\\ub2e4.  \\ub2e4. \\uacbd\\ub9e4\\uc5d0 \\ucc38\\uac00\\ud558\\uc600\\ub2e4\\uac00 \\ub099\\ucc30\\ubc1b\\uc9c0 \\ubabb\\ud55c \\ud68c\\uc6d0\\ub4e4\\uc740 \\uacbd\\ub9e4 \\ub9c8\\uac10\\uc2dc\\uac01\\uc774 \\uc9c0\\ub09c \\ud6c4 \\uc77c\\uc815\\ud55c \\uae30\\uac04 \\ub0b4\\uc5d0 \\ud574\\ub2f9 \\uc0c1\\ud488\\uc758 \\uc989\\uc2dc\\uad6c\\ub9e4\\uac00\\uaca9(\\uc0ac\\uc804\\uc5d0 \\uacbd\\ub9e4\\uc0ac\\uc774\\ud2b8\\uc5d0 \\ud45c\\uc2dc\\ub41c \\uac00\\uaca9\\uc73c\\ub85c\\uc11c \\ub2e4\\ub978 \\uc778\\ud130\\ub137 \\ud310\\ub9e4\\uc810\\ubcf4\\ub2e4 \\ube44\\uc2fc \\uac00\\uaca9\\uc774\\ub2e4)\\uc5d0\\uc11c \\uc704\\uc640 \\uac19\\uc774 \\uc785\\ucc30\\uc5d0 \\uc0ac\\uc6a9\\ud55c \\u25cb\\u25cb\\ubcfc \\uac00\\uc561\\uc758 80%\\uc5d0\\uc11c 100%\\uae4c\\uc9c0\\uc5d0 \\ud574\\ub2f9\\ud558\\ub294 \\uae08\\uc561\\uc744 \\uacf5\\uc81c\\ud55c \\uc794\\uc561\\uc744 \\uc9c0\\uae09\\ud558\\uace0 \\uadf8 \\uc0c1\\ud488\\uc744 \\uad6c\\uc785\\ud560 \\uc218 \\uc788\\ub2e4.  \\ub77c. \\ud68c\\uc6d0\\ub4e4\\uc774 \\uad6c\\ub9e4\\ud55c \\u25cb\\u25cb\\ubcfc\\uc740 \\uc704 \\uc0ac\\uc774\\ud2b8\\uc5d0\\uc11c \\uc2e4\\uc2dc\\ub418\\ub294 \\uacbd\\ub9e4\\uc5d0 \\ucc38\\uac00\\ud558\\uc5ec \\uc785\\ucc30\\ud558\\ub294 \\uc6a9\\ub3c4\\ub97c \\uc81c\\uc678\\ud55c \\ub2e4\\ub978 \\uc6a9\\ub3c4\\ub85c\\ub294 \\uc0ac\\uc6a9\\ud560 \\uc218 \\uc5c6\\uace0, \\ud68c\\uc6d0\\ub4e4\\uc774 \\ud658\\ubd88\\uc744 \\uc6d0\\ud560 \\uacbd\\uc6b0 \\uad6c\\ub9e4\\ub300\\uae08\\uc5d0 \\ud574\\ub2f9\\ud558\\ub294 \\uc804\\uc561\\uc744 \\ud658\\ubd88\\ubc1b\\uc744 \\uc218 \\uc788\\uc73c\\ub098, \\uacbd\\ub9e4\\uc5d0\\uc11c \\ub099\\ucc30\\ubc1b\\uc9c0 \\ubabb\\ud55c \\ud68c\\uc6d0\\ub4e4\\uc774 \\uadf8 \\uc785\\ucc30\\uacfc\\uc815\\uc5d0\\uc11c \\uc0ac\\uc6a9\\ud55c \\u25cb\\u25cb\\ubcfc\\uc740 \\uc704\\uc640 \\uac19\\uc774 \\uc989\\uc2dc\\uad6c\\ub9e4\\ub97c \\ud558\\uc9c0 \\uc54a\\ub294 \\ud55c \\uadf8\\ub300\\ub85c \\uc18c\\uba78\\ud558\\uac8c \\ub41c\\ub2e4.  \\ub9c8. \\ud53c\\uace0\\uc778\\uc740 \\uc81c1\\uc2ec\\uacf5\\ub3d9\\ud53c\\uace0\\uc778 \\uacf5\\uc18c\\uc678 1 \\ub4f1\\uacfc \\ud568\\uaed8 \\uad00\\ub9ac\\uc790 \\ud398\\uc774\\uc9c0\\uc5d0\\uc11c \\ud5c8\\ubb34\\uc778 \\uba85\\uc758\\ub85c 809\\uac1c\\uc758 \\ud68c\\uc6d0 \\uacc4\\uc815\\uc744 \\ub9cc\\ub4e4\\uc5b4 \\uadf8 \\uacc4\\uc815\\ub4e4\\uc5d0 \\uc784\\uc758\\ub85c \\u25cb\\u25cb\\ubcfc\\uc744 \\ubd80\\uc815\\ud558\\uac8c \\ubc30\\uc815\\ud55c \\ub2e4\\uc74c, \\ubb3c\\ud488\\uc744 \\ub099\\ucc30\\ubc1b\\ub354\\ub77c\\ub3c4 \\uc2e4\\uc81c\\ub85c \\uad6c\\ub9e4\\ud560 \\uc758\\uc0ac\\uac00 \\uc5c6\\uc74c\\uc5d0\\ub3c4, \\uc774\\ub97c \\ubaa8\\ub974\\ub294 \\ud68c\\uc6d0\\ub4e4\\uc774 \\ucc38\\uac00\\ud55c \\ucd1d 2,046\\ud68c\\uc758 \\uacbd\\ub9e4\\uc808\\ucc28\\uc5d0 \\ud5c8\\ubb34\\uc778 \\uba85\\uc758\\uc758 \\uc704 \\uacc4\\uc815\\ub4e4\\uc744 \\uc774\\uc6a9\\ud558\\uc5ec \\ud568\\uaed8 \\ucc38\\uac00\\ud558\\uc5ec \\ub099\\ucc30\\uac00\\ub97c \\ub04c\\uc5b4\\uc62c\\ub9bc\\uc73c\\ub85c\\uc368 \\ub2e4\\ub978 \\uc785\\ucc30 \\ud68c\\uc6d0\\ub4e4\\uc758 \\u25cb\\u25cb\\ubcfc \\uc0ac\\uc6a9 \\ud69f\\uc218\\ub97c \\ub298\\ub9ac\\uace0 \\uacbd\\uc6b0\\uc5d0 \\ub530\\ub77c\\uc11c\\ub294 \\ucd5c\\uc885 \\ub099\\ucc30\\uc744 \\ubc1b\\uc74c\\uc73c\\ub85c\\uc368 \\ub2e4\\ub978 \\uc785\\ucc30 \\ud68c\\uc6d0\\ub4e4\\uc774 \\u25cb\\u25cb\\ubcfc\\uc744 \\uc783\\ub3c4\\ub85d \\ud558\\uc600\\ub2e4.  \\ubc14. \\uc704 \\uc0ac\\uc774\\ud2b8\\uc758 \\ud68c\\uc6d0\\uc778 \\uacf5\\uc18c\\uc678 2 \\ub4f1 10\\uba85\\uc758 \\ud53c\\ud574\\uc790\\ub4e4\\uc740 \\uacbd\\ucc30\\uc5d0\\uc11c, \\ub099\\ucc30\\ubc1b\\uc9c0 \\ubabb\\ud55c \\ud574\\ub2f9 \\uc0c1\\ud488\\uc758 \\uc989\\uc2dc\\uad6c\\ub9e4\\uac00\\uaca9\\uc774 \\ub2e4\\ub978 \\uc778\\ud130\\ub137 \\ud310\\ub9e4\\uc810\\ubcf4\\ub2e4 \\ube44\\uc2f8\\uc9c0\\ub9cc \\uc785\\ucc30\\uc5d0 \\uc0ac\\uc6a9\\ud558\\uc5ec \\ud658\\ubd88\\ubc1b\\uc9c0 \\ubabb\\ud558\\uac8c \\ub418\\ub294 \\u25cb\\u25cb\\ubcfc\\uc774 \\ub9ce\\uc740 \\uacbd\\uc6b0\\uc5d0\\ub294 \\uc5b4\\uca54 \\uc218 \\uc5c6\\uc774 \\uc989\\uc2dc\\uad6c\\ub9e4\\ub97c \\ud558\\uac8c \\ub41c\\ub2e4\\ub294 \\ucde8\\uc9c0\\ub85c \\uc9c4\\uc220\\ud558\\uc600\\ub2e4.  3. \\uc774\\ub7ec\\ud55c \\uc0ac\\uc2e4\\uad00\\uacc4\\ub97c \\uc55e\\uc11c \\ubcf8 \\ubc95\\ub9ac\\uc5d0 \\ube44\\ucd94\\uc5b4 \\uc0b4\\ud3b4\\ubcf8\\ub2e4.  \\uac00. \\ud53c\\uace0\\uc778\\uc774 \\uc6b4\\uc601\\ud558\\ub294 \\uc778\\ud130\\ub137 \\uacbd\\ub9e4\\uc5d0 \\ucc38\\uac00\\ud55c \\ud68c\\uc6d0\\ub4e4\\uc774 \\uacbd\\ub9e4\\uc0c1\\ud488\\uc744 \\ub099\\ucc30\\ubc1b\\uc9c0 \\ubabb\\ud558\\uba74 \\uc785\\ucc30\\uc744 \\uc704\\ud558\\uc5ec \\uc0ac\\uc6a9\\ud55c \\u25cb\\u25cb\\ubcfc\\uc744 \\ud658\\ubd88\\ubc1b\\uc744 \\uc218 \\uc5c6\\ub294 \\uc0c1\\ud669\\uc5d0\\uc11c, \\ud53c\\uace0\\uc778\\uc774 \\ud5c8\\uc704\\uc758 \\ud68c\\uc6d0\\uacc4\\uc815\\uc744 \\ub9cc\\ub4e4\\uc5b4 \\uc2a4\\uc2a4\\ub85c \\uacbd\\ub9e4\\uc5d0 \\ucc38\\uac00\\ud558\\uc5ec \\ub099\\ucc30\\ubc1b\\ub294 \\ubc29\\ubc95\\uc73c\\ub85c \\ud68c\\uc6d0\\ub4e4\\uc744 \\uae30\\ub9dd\\ud558\\uc5ec \\uc815\\uc0c1\\uc801\\uc778 \\uacbd\\ub9e4\\uac00 \\uc9c4\\ud589\\ub418\\ub294 \\uac83\\uc73c\\ub85c \\ubbff\\uc740 \\ud68c\\uc6d0\\ub4e4\\ub85c \\ud558\\uc5ec\\uae08 \\uadf8 \\uacbd\\ub9e4\\uc808\\ucc28\\uc5d0 \\ucc38\\uac00\\ud558\\uae30 \\uc704\\ud558\\uc5ec \\u25cb\\u25cb\\ubcfc\\uc744 \\uc0ac\\uc6a9\\ud558\\uac8c \\ud568\\uc73c\\ub85c\\uc368 \\uc774\\ub97c \\ubaa8\\ub450 \\uc783\\uac8c \\ud558\\uc600\\ub2e4\\uba74, \\ud53c\\uace0\\uc778\\uc740 \\uadf8\\ub85c \\uc778\\ud55c \\uc7ac\\uc0b0\\uc0c1\\uc758 \\uc774\\uc775\\uc73c\\ub85c\\uc11c \\ud68c\\uc6d0\\ub4e4\\uc774 \\uc0ac\\uc6a9\\ud55c \\u25cb\\u25cb\\ubcfc\\uc5d0 \\ud574\\ub2f9\\ud558\\ub294 \\uae08\\uc561 \\uc0c1\\ub2f9\\uc758 \\uc774\\uc775\\uc744 \\ucde8\\ub4dd\\ud55c\\ub2e4\\uace0 \\ubcfc \\uc218 \\uc788\\ub2e4.  \\uadf8\\ub9ac\\uace0 \\ub099\\ucc30\\ubc1b\\uc9c0 \\ubabb\\ud55c \\uc77c\\ubd80 \\ud68c\\uc6d0\\uc774 \\uadf8 \\uacbd\\ub9e4\\uc808\\ucc28\\uc5d0\\uc11c \\uc0ac\\uc6a9\\ud55c \\u25cb\\u25cb\\ubcfc\\uc758 \\uc18c\\uba78\\ub85c \\uc785\\uac8c \\ub418\\ub294 \\ud53c\\ud574\\ub97c \\uc904\\uc774\\uae30 \\uc704\\ud558\\uc5ec \\uacbd\\ub9e4 \\uc885\\ub8cc \\ud6c4\\uc5d0 \\ud574\\ub2f9 \\uc0c1\\ud488\\uc744 \\uc989\\uc2dc\\uad6c\\ub9e4\\ud568\\uc73c\\ub85c\\uc368 \\uc0ac\\uc6a9\\ud55c \\u25cb\\u25cb\\ubcfc \\uc0c1\\ub2f9\\uc758 \\uac00\\uc561\\uc744 \\uadf8 \\uc989\\uc2dc\\uad6c\\ub9e4 \\ub300\\uae08\\uc758 \\uc77c\\ubd80\\ub85c \\ucda9\\ub2f9\\ud558\\uc5ec \\ud65c\\uc6a9\\ud560 \\uc218 \\uc788\\ub2e4\\uace0 \\ud558\\ub354\\ub77c\\ub3c4, \\uc774\\ub7ec\\ud55c \\uc0ac\\uc815\\uc740 \\uc774\\ubbf8 \\uae30\\ub9dd\\ud589\\uc704\\uc5d0 \\uc758\\ud55c \\ud3b8\\ucde8\\ud589\\uc704\\uac00 \\uc885\\ub8cc\\ub41c \\ud6c4\\uc758 \\uac83\\uc73c\\ub85c\\uc11c \\uc0ac\\uae30\\uc8c4\\uc758 \\uc131\\ub9bd\\uc5d0 \\uc601\\ud5a5\\uc744 \\uc904 \\uc218 \\uc5c6\\ub2e4\\uace0 \\ubcf4\\uc778\\ub2e4. \\uadf8\\ubfd0 \\uc544\\ub2c8\\ub77c, \\uc704 \\uc989\\uc2dc\\uad6c\\ub9e4\\ub294 \\ud574\\ub2f9 \\uacbd\\ub9e4\\uac00 \\uc815\\uc0c1\\uc801\\uc73c\\ub85c \\uc9c4\\ud589\\ub418\\uc5c8\\ub2e4\\ub294 \\uae30\\ub9dd\\uc5d0 \\uc758\\ud558\\uc5ec \\ud68c\\uc6d0\\uc774 \\uc5ec\\uc804\\ud788 \\ucc29\\uc624\\uc5d0 \\ube60\\uc9c4 \\uc0c1\\ud0dc\\uc5d0\\uc11c \\uc774\\ub8e8\\uc5b4\\uc9c4 \\uac83\\uc73c\\ub85c\\uc11c, \\ud53c\\uace0\\uc778\\uc73c\\ub85c\\uc11c\\ub294 \\ud1b5\\uc0c1\\uc758 \\uac00\\uaca9\\ubcf4\\ub2e4 \\ub192\\uc740 \\uc989\\uc2dc\\uad6c\\ub9e4\\uac00\\uaca9\\uc5d0 \\ud574\\ub2f9 \\uc0c1\\ud488\\uc744 \\ucd94\\uac00\\ub85c \\ud310\\ub9e4\\ud568\\uc73c\\ub85c\\uc368 \\uc989\\uc2dc\\uad6c\\ub9e4 \\ud68c\\uc6d0\\uc73c\\ub85c\\ubd80\\ud130 \\uadf8\\uc5d0 \\ub530\\ub978 \\uc218\\uc775 \\ub0b4\\uc9c0 \\uc774\\uc724\\uc5d0 \\ud574\\ub2f9\\ud558\\ub294 \\uc7ac\\uc0b0\\uc0c1\\uc758 \\uc774\\uc775\\uc744 \\ubcc4\\ub3c4\\ub85c \\ucde8\\ub4dd\\ud55c \\uac83\\uc73c\\ub85c \\ubd04\\uc774 \\ud0c0\\ub2f9\\ud558\\ub2e4.  \\ub098. \\ub098\\uc544\\uac00 \\uc815\\uc0c1\\uc801\\uc778 \\uacbd\\ub9e4\\uc808\\ucc28\\uc758 \\uacbd\\uc6b0\\uc5d0\\ub3c4 \\uc0c1\\ud488\\uc744 \\ub099\\ucc30\\ubc1b\\uc9c0 \\ubabb\\ud55c \\ud68c\\uc6d0\\ub4e4\\uc774 \\uc0ac\\uc6a9\\ud55c \\u25cb\\u25cb\\ubcfc\\uc740 \\ubaa8\\ub450 \\ud658\\ubd88\\ubc1b\\uc9c0 \\ubabb\\ud558\\ub294 \\uc0ac\\uc815\\uc744 \\ucc38\\uc791\\ud55c\\ub2e4 \\ud558\\ub354\\ub77c\\ub3c4, \\ubd80\\uc815\\ud558\\uac8c \\uc9c4\\ud589\\ub41c \\uacbd\\ub9e4\\uc808\\ucc28\\uc758 \\uacbd\\uc6b0\\uc5d0 \\ud68c\\uc6d0\\ub4e4\\ub85c\\uc11c\\ub294 \\uc778\\ud130\\ub137 \\uacbd\\ub9e4\\uc0ac\\uc774\\ud2b8\\uc758 \\uc6b4\\uc601\\uc790\\uc778 \\ud53c\\uace0\\uc778\\uc774 \\uc2e4\\uc81c\\ub85c \\uad6c\\ub9e4\\ud560 \\uc758\\uc0ac \\uc5c6\\uc774 \\ud5c8\\uc704\\uc758 \\uacc4\\uc815\\uc73c\\ub85c \\ubd80\\uc815\\ud558\\uac8c \\ucc38\\uac00\\ud55c\\ub2e4\\ub294 \\uc0ac\\uc815\\uc744 \\uc54c\\uc558\\ub354\\ub77c\\uba74 \\uadf8 \\uacbd\\ub9e4\\uc808\\ucc28\\uc5d0 \\ucc38\\uac00\\ud558\\uc9c0 \\uc54a\\uc558\\uc744 \\uac83\\uc774\\ubbc0\\ub85c, \\ud53c\\uace0\\uc778\\uc774 \\uacbd\\ub9e4\\uc808\\ucc28\\uc5d0 \\ucc38\\uac00\\ud55c\\ub2e4\\ub294 \\uc0ac\\uc2e4\\uc744 \\ud68c\\uc6d0\\ub4e4\\uc5d0\\uac8c \\uace0\\uc9c0\\ud558\\uc9c0 \\uc54a\\uace0 \\ubb35\\ube44\\ud568\\uc73c\\ub85c \\uc778\\ud558\\uc5ec \\uc815\\uc0c1\\uc801\\uc778 \\uacbd\\ub9e4\\uac00 \\uc9c4\\ud589\\ub418\\ub294 \\uac83\\uc73c\\ub85c \\ubbff\\uace0 \\uacbd\\ub9e4\\uc808\\ucc28\\uc5d0 \\ucc38\\uac00\\ud55c \\ud68c\\uc6d0\\ub4e4\\uc774 \\uadf8 \\uacbd\\ub9e4\\uc808\\ucc28\\uc5d0\\uc11c \\u25cb\\u25cb\\ubcfc\\uc744 \\uc0ac\\uc6a9\\ud558\\uae30\\uc5d0 \\uc774\\ub978 \\uc774\\uc0c1, \\ud53c\\uace0\\uc778\\uc73c\\ub85c\\uc11c\\ub294 \\ud68c\\uc6d0\\ub4e4\\uc744 \\uae30\\ub9dd\\ud558\\uc5ec \\ud68c\\uc6d0\\ub4e4\\uc774 \\uc0ac\\uc6a9\\ud55c \\u25cb\\u25cb\\ubcfc\\uc5d0 \\ud574\\ub2f9\\ud558\\ub294 \\uae08\\uc561 \\uc0c1\\ub2f9\\uc758 \\uc774\\uc775\\uc744 \\ucde8\\ub4dd\\ud55c \\uac83\\uc73c\\ub85c \\ubd04\\uc774 \\ud0c0\\ub2f9\\ud558\\uace0, \\uc0c1\\ud488\\uc744 \\ub099\\ucc30\\ubc1b\\uc740 \\ud68c\\uc6d0\\uc758 \\uacbd\\uc6b0\\uc5d0 \\uc2e4\\uc81c\\ub85c \\uadf8 \\ud68c\\uc6d0\\uc5d0\\uac8c \\ud574\\ub2f9 \\uc0c1\\ud488\\uc774 \\uc81c\\uacf5\\ub418\\uc5c8\\ub2e4\\uace0 \\ud558\\uc5ec \\ub2ec\\ub9ac \\ubcfc \\uac83\\uc740 \\uc544\\ub2c8\\ub2e4.  \\ub2e4. \\ub530\\ub77c\\uc11c \\uc6d0\\uc2ec\\uc774 \\uc81c1\\uc2ec\\ud310\\uacb0 \\uc774\\uc720\\ub97c \\uc778\\uc6a9\\ud558\\uc5ec, \\ud53c\\uace0\\uc778\\uc774 \\uc81c1\\uc2ec\\ud310\\uacb0 \\ubcc4\\uc9c0 \\ubc94\\uc8c4\\uc77c\\ub78c\\ud45c \\uae30\\uc7ac \\ubaa8\\ub4e0 \\uacbd\\ub9e4\\uc808\\ucc28\\uc5d0\\uc11c \\uacbd\\ub9e4\\ubb3c\\uac74\\uc744 \\ub099\\ucc30\\ubc1b\\uc558\\uc74c\\uc744 \\uc804\\uc81c\\ub85c \\ud310\\ub2e8\\ud55c \\ubd80\\ubd84\\uc740 \\uc801\\uc808\\ud558\\uc9c0 \\uc54a\\uc9c0\\ub9cc, \\ud5c8\\uc704\\uc758 \\uacc4\\uc815\\uc744 \\uc0ac\\uc6a9\\ud558\\uc5ec \\uacbd\\ub9e4\\uc808\\ucc28\\uc5d0 \\ucc38\\uac00\\ud568\\uc73c\\ub85c\\uc368 \\uc774\\uc5d0 \\uc18d\\uc740 \\ud53c\\ud574\\uc790\\ub4e4\\ub85c \\ud558\\uc5ec\\uae08 \\u25cb\\u25cb\\ubcfc \\uc544\\uc774\\ud15c\\uc744 \\uc0ac\\uc6a9\\ud558\\uac8c \\ud558\\uc5ec \\uadf8 \\uae08\\uc561 \\uc0c1\\ub2f9\\uc758 \\uc7ac\\uc0b0\\uc0c1 \\uc774\\uc775\\uc744 \\ucde8\\ub4dd\\ud558\\uc600\\ub2e4\\uace0 \\ubcf4\\uc544 \\ud53c\\ud574\\uc790\\ub4e4\\uc5d0 \\ub300\\ud55c \\uc0ac\\uae30\\uc8c4\\ub97c \\ubaa8\\ub450 \\uc720\\uc8c4\\ub85c \\uc778\\uc815\\ud55c \\uc6d0\\uc2ec\\uc758 \\uacb0\\ub860\\uc740 \\uc815\\ub2f9\\ud558\\uba70, \\uac70\\uae30\\uc5d0 \\uc0c1\\uace0\\uc774\\uc720 \\uc8fc\\uc7a5\\uacfc \\uac19\\uc774 \\uc0ac\\uae30\\uc8c4\\uc5d0 \\uad00\\ud55c \\ubc95\\ub9ac\\ub97c \\uc624\\ud574\\ud558\\uac70\\ub098 \\ud544\\uc694\\ud55c \\uc2ec\\ub9ac\\ub97c \\ub2e4\\ud558\\uc9c0 \\uc544\\ub2c8\\ud558\\uc5ec \\ud310\\uacb0\\uc5d0 \\uc601\\ud5a5\\uc744 \\ubbf8\\uce5c \\uc704\\ubc95\\uc774 \\uc788\\ub2e4\\uace0 \\ud560 \\uc218 \\uc5c6\\ub2e4.  4. \\uadf8\\ub7ec\\ubbc0\\ub85c \\uc0c1\\uace0\\ub97c \\uae30\\uac01\\ud558\\uae30\\ub85c \\ud558\\uc5ec, \\uad00\\uc5ec \\ub300\\ubc95\\uad00\\uc758 \\uc77c\\uce58\\ub41c \\uc758\\uacac\\uc73c\\ub85c \\uc8fc\\ubb38\\uacfc \\uac19\\uc774 \\ud310\\uacb0\\ud55c\\ub2e4.\\ub300\\ubc95\\uad00 \\uace0\\uc601\\ud55c(\\uc7ac\\ud310\\uc7a5) \\uae40\\uc6a9\\ub355(\\uc8fc\\uc2ec) \\uae40\\uc18c\\uc601 \",\n          \"\\u3010\\ud53c \\uace0 \\uc778\\u3011 \\u3010\\uc0c1 \\uace0 \\uc778\\u3011 \\ud53c\\uace0\\uc778 \\ubc0f \\uac80\\uc0ac\\u3010\\ubcc0 \\ud638 \\uc778\\u3011 \\ubcc0\\ud638\\uc0ac \\uc870\\uae30\\uc81c\\u3010\\uc6d0\\uc2ec\\ud310\\uacb0\\u3011 \\uc11c\\uc6b8\\ubd81\\ubd80\\uc9c0\\ubc95 2016. 9. 2. \\uc120\\uace0 2016\\ub178862 \\ud310\\uacb0\\u3010\\uc8fc    \\ubb38\\u3011  \\uc0c1\\uace0\\ub97c \\ubaa8\\ub450 \\uae30\\uac01\\ud55c\\ub2e4.\\u3010\\uc774    \\uc720\\u3011  \\uc0c1\\uace0\\uc774\\uc720\\ub97c \\ud310\\ub2e8\\ud55c\\ub2e4.  1. \\uac80\\uc0ac\\uc758 \\uc0c1\\uace0\\uc774\\uc720\\uc5d0 \\ub300\\ud558\\uc5ec  \\uac00. \\uc678\\ud615\\uc0c1\\uc73c\\ub85c\\ub294 \\uacf5\\uc18c\\uc0ac\\uc2e4\\uc758 \\uae30\\ucd08\\uac00 \\ub418\\ub294 \\ud53c\\uace0\\uc778\\uc758 \\uc77c\\ub828\\uc758 \\ud589\\uc704\\uac00 \\uc5ec\\ub7ec \\uac1c\\uc758 \\ubc94\\uc8c4\\uc5d0 \\ud574\\ub2f9\\ub418\\ub294 \\uac83 \\uac19\\uc9c0\\ub9cc \\uadf8 \\uc77c\\ub828\\uc758 \\ud589\\uc704\\uac00 \\ud569\\uccd0\\uc838\\uc11c \\ud558\\ub098\\uc758 \\uc0ac\\ud68c\\uc801 \\uc0ac\\uc2e4\\uad00\\uacc4\\ub97c \\uad6c\\uc131\\ud558\\ub294 \\uacbd\\uc6b0\\uc5d0 \\uadf8\\uc5d0 \\ub300\\ud55c \\ubc95\\ub960\\uc801 \\ud3c9\\uac00\\ub294 \\ud558\\ub098\\ubc16\\uc5d0 \\uc131\\ub9bd\\ub418\\uc9c0 \\uc54a\\ub294 \\uad00\\uacc4, \\uc989 \\uc77c\\ubc29\\uc758 \\ubc94\\uc8c4\\uac00 \\uc131\\ub9bd\\ub418\\ub294 \\ub54c\\uc5d0\\ub294 \\ud0c0\\ubc29\\uc758 \\ubc94\\uc8c4\\ub294 \\uc131\\ub9bd\\ud560 \\uc218 \\uc5c6\\uace0, \\uc77c\\ubc29\\uc758 \\ubc94\\uc8c4\\uac00 \\ubb34\\uc8c4\\ub85c \\ub420 \\uacbd\\uc6b0\\uc5d0\\ub9cc \\ud0c0\\ubc29\\uc758 \\ubc94\\uc8c4\\uac00 \\uc131\\ub9bd\\ud560 \\uc218 \\uc788\\ub294 \\ube44\\uc591\\ub9bd\\uc801\\uc778 \\uad00\\uacc4\\uac00 \\uc788\\uc744 \\uc218 \\uc788\\ub2e4(\\ub300\\ubc95\\uc6d0 2011. 5. 13. \\uc120\\uace0 2011\\ub3c41442 \\ud310\\uacb0 \\ucc38\\uc870).  \\ub098. (1) \\uc774 \\uc0ac\\uac74 \\uacf5\\uc18c\\uc0ac\\uc2e4 \\uc911 \\uc6d0\\uc2ec \\ud310\\uc2dc \\u25cb\\u25cb\\uc544\\ud30c\\ud2b8\\uc640 \\uad00\\ub828\\ub41c \\ubd80\\ubd84\\uc740, \\u2460 \\ud53c\\uace0\\uc778\\uc740 \\uc704 \\uc544\\ud30c\\ud2b8\\uc5d0 \\uad00\\ud55c \\uc18c\\uc720\\uad8c\\uc774\\uc804\\uccad\\uad6c\\uad8c\\uac00\\ub4f1\\uae30\\ub97c \\ub9d0\\uc18c\\ud574 \\uc8fc\\uba74 \\uae08\\ub9ac\\uac00 \\ub0ae\\uc740 \\uacf3\\uc73c\\ub85c \\ub300\\ucd9c\\uc740\\ud589\\uc744 \\ubcc0\\uacbd\\ud55c \\ub2e4\\uc74c \\uace7\\ubc14\\ub85c \\ub2e4\\uc2dc \\uac00\\ub4f1\\uae30\\ub97c \\uc124\\uc815\\ud574 \\uc8fc\\uaca0\\ub2e4\\uace0 \\uacf5\\uc18c\\uc678 1\\uc744 \\uae30\\ub9dd\\ud558\\uc5ec \\uacf5\\uc18c\\uc678 1\\ub85c \\ud558\\uc5ec\\uae08 \\uac00\\ub4f1\\uae30\\ub97c \\ub9d0\\uc18c\\ud558\\uac8c \\ud558\\uc5ec \\uadf8\\uc5d0 \\uc0c1\\ub2f9\\ud55c \\uc7ac\\uc0b0\\uc0c1 \\uc774\\uc775\\uc744 \\ud3b8\\ucde8\\ud558\\uace0, \\u2461 \\uc704\\uc640 \\uac19\\uc774 \\ub300\\ucd9c\\uc740\\ud589\\uc744 \\ubcc0\\uacbd\\ud55c \\ud6c4 \\uc18c\\uc720\\uad8c\\uc774\\uc804\\uccad\\uad6c\\uad8c\\uac00\\ub4f1\\uae30 \\uc808\\ucc28\\ub97c \\uc774\\ud589\\ud574 \\uc904 \\uc784\\ubb34\\uc5d0 \\uc704\\ubc30\\ud558\\uc5ec, 2009. 11. 2.\\uc790, 2010. 7. 5.\\uc790, 2011. 7. 26.\\uc790, 2011. 7. 28.\\uc790\\ub85c \\uc704 \\uc544\\ud30c\\ud2b8\\uc5d0 \\uad00\\ud558\\uc5ec \\uc81c3\\uc790 \\uba85\\uc758\\ub85c \\uac01 \\uadfc\\uc800\\ub2f9\\uad8c \\ubc0f \\uc804\\uc138\\uad8c\\uc124\\uc815\\ub4f1\\uae30\\ub97c \\ub9c8\\uce68\\uc73c\\ub85c\\uc368 \\uac01 \\ucc44\\uad8c\\ucd5c\\uace0\\uc561 \\ubc0f \\uc804\\uc138\\uae08 \\uc0c1\\ub2f9\\uc758 \\uc7ac\\uc0b0\\uc0c1 \\uc774\\uc775\\uc744 \\ucde8\\ub4dd\\ud558\\uace0 \\uacf5\\uc18c\\uc678 1\\uc5d0\\uac8c \\uac19\\uc740 \\uae08\\uc561 \\uc0c1\\ub2f9\\uc758 \\uc7ac\\uc0b0\\uc0c1 \\uc190\\ud574\\ub97c \\uac00\\ud558\\uc600\\ub2e4\\ub294 \\uac83\\uc774\\ub2e4. \\uc774\\uc5d0 \\ub300\\ud558\\uc5ec \\uc6d0\\uc2ec\\uc740 \\uc704 \\u2460\\uc758 \\uc0ac\\uae30\\uc8c4\\ub294 \\uc720\\uc8c4\\ub85c \\uc778\\uc815\\ud558\\uace0, \\u2461\\uc758 \\uac01 \\ubc30\\uc784\\uc8c4\\uc758 \\uacf5\\uc18c\\uc0ac\\uc2e4\\uc5d0 \\ub300\\ud558\\uc5ec\\ub294, \\ud53c\\uace0\\uc778\\uc774 \\uc57d\\uc18d\\ub300\\ub85c \\uac00\\ub4f1\\uae30\\ub97c \\ud68c\\ubcf5\\ud574\\uc8fc\\uc9c0 \\uc54a\\uace0 \\uc81c3\\uc790\\uc5d0\\uac8c \\uadfc\\uc800\\ub2f9\\uad8c\\uc124\\uc815\\ub4f1\\uae30 \\ub4f1\\uc744 \\ub9c8\\uccd0\\uc900 \\ud589\\uc704\\ub294 \\ucc98\\uc74c\\ubd80\\ud130 \\uac00\\ub4f1\\uae30\\ub97c \\ub9d0\\uc18c\\uc2dc\\ucf1c \\uc774\\uc775\\uc744 \\ucde8\\ud558\\ub824\\ub294 \\uc0ac\\uae30\\ubc94\\ud589\\uc5d0 \\ub2f9\\uc5f0\\ud788 \\uc608\\uc815\\ub41c \\uacb0\\uacfc\\uc5d0 \\ubd88\\uacfc\\ud558\\uc5ec \\uadf8 \\uc0ac\\uae30\\ubc94\\ud589\\uc758 \\uc2e4\\ud589\\ud589\\uc704\\uc5d0 \\ud3ec\\ud568\\ub41c \\uac83\\uc77c \\ubfd0\\uc774\\ubbc0\\ub85c \\uc0ac\\uae30\\uc8c4\\uc640 \\ube44\\uc591\\ub9bd\\uc801 \\uad00\\uacc4\\uc5d0 \\uc788\\ub294 \\uac01 \\ubc30\\uc784\\uc8c4\\ub294 \\uc131\\ub9bd\\ud558\\uc9c0 \\uc54a\\ub294\\ub2e4\\ub294 \\ub4f1 \\uadf8 \\ud310\\uc2dc\\uc640 \\uac19\\uc740 \\uc774\\uc720\\ub97c \\ub4e4\\uc5b4, \\ubcc4\\ub3c4\\uc758 \\ubc30\\uc784\\uc8c4\\ub97c \\uc720\\uc8c4\\ub85c \\uc778\\uc815\\ud55c \\uc81c1\\uc2ec\\ud310\\uacb0\\uc744 \\ud30c\\uae30\\ud558\\uace0 \\uadf8 \\ubd80\\ubd84\\uc740 \\ubb34\\uc8c4\\ub77c\\uace0 \\ud310\\ub2e8\\ud558\\uc600\\ub2e4.  \\ub610\\ud55c \\uc774 \\uc0ac\\uac74 \\uacf5\\uc18c\\uc0ac\\uc2e4 \\uc911 \\uc6d0\\uc2ec \\ud310\\uc2dc \\uc784\\uc57c\\uc5d0 \\uad00\\ud55c \\ubd80\\ubd84\\uc740, \\u2462 \\ud53c\\uace0\\uc778\\uc740 \\ubcf4\\uc874\\uc0b0\\uc9c0\\ub85c \\uc9c0\\uc815\\ub418\\uc5b4 \\uc788\\uc5b4 \\uc804\\uc6d0\\uc8fc\\ud0dd \\ub4f1\\uc744 \\uc2e0\\ucd95\\ud560 \\uc218 \\uc5c6\\ub294 \\uc784\\uc57c\\uc5d0 \\uc804\\uc6d0\\uc8fc\\ud0dd\\uc744 \\uc9c0\\uc744 \\uc218 \\uc788\\ub3c4\\ub85d \\uc9c4\\uc785\\ub85c \\ub4f1 \\uc81c\\ubc18 \\uc2dc\\uc124\\uc744 \\uc124\\uce58\\ud574 \\uc8fc\\uaca0\\ub2e4\\uace0 \\uacf5\\uc18c\\uc678 2 \\ub4f1 11\\uba85\\uc744 \\uae30\\ub9dd\\ud558\\uc5ec \\uc784\\uc57c 11\\ud544\\uc9c0\\uc5d0 \\uad00\\ud55c \\ub9e4\\ub9e4\\uacc4\\uc57d\\uc744 \\uccb4\\uacb0\\ud558\\uace0 \\uc704 11\\uba85\\uc73c\\ub85c\\ubd80\\ud130 \\uacc4\\uc57d\\uae08 \\ubc0f \\uc911\\ub3c4\\uae08\\uc744 \\uad50\\ubd80\\ubc1b\\uc544 \\ud3b8\\ucde8\\ud558\\uace0, \\u2463 \\uc704 \\uac01 \\ub9e4\\ub9e4\\uacc4\\uc57d\\uc5d0 \\uae30\\ud558\\uc5ec \\uc704\\uc640 \\uac19\\uc740 \\uc18c\\uc720\\uad8c\\uc774\\uc804\\ub4f1\\uae30\\uc808\\ucc28\\ub97c \\uc774\\ud589\\ud560 \\uc784\\ubb34\\uc5d0 \\uc704\\ubc30\\ud558\\uc5ec, \\uc704 \\uac01 \\uc784\\uc57c\\uc5d0 \\uad00\\ud558\\uc5ec \\uc81c3\\uc790 \\uba85\\uc758 \\uadfc\\uc800\\ub2f9\\uad8c\\uc124\\uc815\\ub4f1\\uae30\\ub97c \\ub9c8\\uccd0\\uc90c\\uc73c\\ub85c\\uc368 \\uac01 \\ucc44\\uad8c\\ucd5c\\uace0\\uc561 \\uc0c1\\ub2f9\\uc758 \\uc7ac\\uc0b0\\uc0c1 \\uc774\\uc775\\uc744 \\ucde8\\ub4dd\\ud558\\uace0 \\uc704 11\\uba85\\uc5d0\\uac8c \\uac19\\uc740 \\uae08\\uc561 \\uc0c1\\ub2f9\\uc758 \\uc7ac\\uc0b0\\uc0c1 \\uc190\\ud574\\ub97c \\uac00\\ud558\\uc600\\ub2e4\\ub294 \\uac83\\uc774\\ub2e4. \\uc6d0\\uc2ec\\uc740 \\uc704 \\u2462\\uc758 \\uc0ac\\uae30\\uc8c4\\ub294 \\uc720\\uc8c4\\ub85c \\uc778\\uc815\\ud558\\uace0, \\u2463\\uc758 \\uac01 \\ubc30\\uc784\\uc8c4\\uc758 \\uacf5\\uc18c\\uc0ac\\uc2e4\\uc5d0 \\ub300\\ud558\\uc5ec\\ub294, \\ud53c\\uace0\\uc778\\uc740 \\uc704 11\\uba85\\uc5d0\\uac8c \\uc784\\uc57c\\uc5d0 \\uad00\\ud558\\uc5ec \\uc18c\\uc720\\uad8c\\uc774\\uc804\\ub4f1\\uae30\\uc808\\ucc28\\ub97c \\uc774\\ud589\\ud560 \\uc758\\uc0ac\\uac00 \\uc5c6\\uc5c8\\uace0 \\uc774\\ud6c4 \\uc81c3\\uc790\\ub4e4\\uc5d0\\uac8c \\uadfc\\uc800\\ub2f9\\uad8c\\uc124\\uc815\\ub4f1\\uae30\\ub97c \\ub9c8\\uccd0\\uc900 \\ud589\\uc704\\ub294 \\uae30\\ub9dd\\uc744 \\ud1b5\\ud558\\uc5ec \\ub9e4\\ub9e4\\uacc4\\uc57d\\uc744 \\uccb4\\uacb0\\ud558\\uc5ec \\uacc4\\uc57d\\uae08\\uacfc \\uc911\\ub3c4\\uae08\\uc744 \\ud3b8\\ucde8\\ud55c \\uc0ac\\uae30\\ubc94\\ud589\\uc5d0 \\ud3ec\\ud568\\ub41c \\uac83\\uc77c \\ubfd0\\uc774\\ub77c\\ub294 \\ub4f1 \\uadf8 \\ud310\\uc2dc\\uc640 \\uac19\\uc740 \\uc774\\uc720\\ub97c \\ub4e4\\uc5b4, \\ubcc4\\ub3c4\\uc758 \\ubc30\\uc784\\uc8c4\\ub97c \\uc720\\uc8c4\\ub85c \\uc778\\uc815\\ud55c \\uc81c1\\uc2ec\\ud310\\uacb0\\uc744 \\ud30c\\uae30\\ud558\\uace0 \\uadf8 \\ubd80\\ubd84\\uc740 \\ubb34\\uc8c4\\ub77c\\uace0 \\ud310\\ub2e8\\ud558\\uc600\\ub2e4.  (2) \\uc55e\\uc5d0\\uc11c \\ubcf8 \\ubc95\\ub9ac\\uc640 \\uae30\\ub85d\\uc5d0 \\ube44\\ucd94\\uc5b4 \\uc0b4\\ud3b4\\ubcf4\\uba74, \\uc704 \\u2460\\uc758 \\uc0ac\\uae30\\uc8c4\\uc640 \\u2461\\uc758 \\ubc30\\uc784\\uc8c4, \\uc704 \\u2462\\uc758 \\uc0ac\\uae30\\uc8c4\\uc640 \\u2463\\uc758 \\ubc30\\uc784\\uc8c4\\ub294 \\uac01\\uac01 \\uc77c\\ubc29\\uc774 \\ubc94\\uc8c4\\ub85c \\uc131\\ub9bd\\ud558\\ub294 \\ub54c\\uc5d0\\ub294 \\ud0c0\\ubc29\\uc740 \\ubc94\\uc8c4\\ub85c \\uc131\\ub9bd\\ud560 \\uc218 \\uc5c6\\uace0, \\uc77c\\ubc29\\uc774 \\ubb34\\uc8c4\\ub85c \\ub418\\ub294 \\uacbd\\uc6b0\\uc5d0\\ub9cc \\ud0c0\\ubc29\\uc774 \\ubc94\\uc8c4\\ub85c \\uc131\\ub9bd\\ud560 \\uc218 \\uc788\\ub294 \\ube44\\uc591\\ub9bd\\uc801\\uc778 \\uad00\\uacc4\\uc5d0 \\uc788\\ub2e4. \\uadf8\\ub7ec\\ubbc0\\ub85c \\u2460, \\u2462\\uc758 \\uc0ac\\uae30\\uc8c4\\ub97c \\uc720\\uc8c4\\ub85c \\uc778\\uc815\\ud560 \\uc218 \\uc788\\ub294 \\uc774\\uc0c1 \\u2461, \\u2463\\uac00 \\ubcc4\\ub3c4\\uc758 \\ubc30\\uc784\\uc8c4\\ub85c \\uc131\\ub9bd\\ud560 \\uc218 \\uc5c6\\ub2e4\\uace0 \\ubcf8 \\uc6d0\\uc2ec\\uc758 \\ud310\\ub2e8\\uc740 \\uc815\\ub2f9\\ud558\\uace0, \\uac70\\uae30\\uc5d0 \\uc0c1\\uace0\\uc774\\uc720 \\uc8fc\\uc7a5\\uacfc \\uac19\\uc774 \\uc0ac\\uae30\\uc8c4 \\ubc0f \\ubc30\\uc784\\uc8c4\\uc758 \\uad6c\\uc131\\uc694\\uac74 \\ud574\\uc11d\\uc5d0 \\uad00\\ud55c \\ubc95\\ub9ac\\ub97c \\uc624\\ud574\\ud55c \\uc798\\ubabb\\uc774 \\uc5c6\\ub2e4.  \\uc0c1\\uace0\\uc774\\uc720\\uac00 \\ub4e4\\uace0 \\uc788\\ub294 \\ub300\\ubc95\\uc6d0 \\ud310\\uacb0\\ub4e4\\uc740 \\uc774 \\uc0ac\\uac74\\uacfc\\ub294 \\uc0ac\\uc548\\uc774 \\ub2e4\\ub974\\uac70\\ub098 \\ud6c4\\ud589\\ud589\\uc704\\uac00 \\uc120\\ud589\\ud589\\uc704\\uc5d0 \\ub300\\ud55c \\uad00\\uacc4\\uc5d0\\uc11c \\ubd88\\uac00\\ubc8c\\uc801 \\uc0ac\\ud6c4\\ud589\\uc704\\uc5d0 \\ud574\\ub2f9\\ud558\\ub294\\uc9c0\\uc5d0 \\uad00\\ud558\\uc5ec\\ub9cc \\ud310\\ub2e8\\ud55c \\uc0ac\\uc548\\uc77c \\ubfd0\\uc774\\ubbc0\\ub85c, \\uc774 \\uc0ac\\uac74\\uc5d0 \\uc6d0\\uc6a9\\ud558\\uae30\\uc5d0 \\uc801\\uc808\\ud558\\uc9c0 \\uc544\\ub2c8\\ud558\\ub2e4.  \\ub2e4. \\uadf8\\ub9ac\\uace0 \\uac80\\uc0ac\\ub294 \\uc6d0\\uc2ec\\ud310\\uacb0 \\uc804\\ubd80\\uc5d0 \\ub300\\ud558\\uc5ec \\uc0c1\\uace0\\ud558\\uc600\\uc73c\\ub098, \\uc0c1\\uace0\\uc7a5\\uc774\\ub098 \\uc0c1\\uace0\\uc774\\uc720\\uc11c\\uc5d0\\uc11c \\ub098\\uba38\\uc9c0 \\ubd80\\ubd84\\uc5d0 \\uad00\\ud55c \\ubd88\\ubcf5\\uc774\\uc720\\uc758 \\uae30\\uc7ac\\ub97c \\ucc3e\\uc544\\ubcfc \\uc218 \\uc5c6\\ub2e4.  2. \\ud53c\\uace0\\uc778\\uc758 \\uc0c1\\uace0\\uc774\\uc720\\uc5d0 \\ub300\\ud558\\uc5ec  \\uc6d0\\uc2ec\\ud310\\uacb0\\uc5d0 \\uc591\\ud615\\uc5d0 \\uad00\\ud55c \\uc2ec\\ub9ac\\ubbf8\\uc9c4\\uc758 \\uc704\\ubc95\\uc774 \\uc788\\ub2e4\\ub294 \\ucde8\\uc9c0\\uc758 \\uc8fc\\uc7a5\\uc740 \\uacb0\\uad6d \\uc591\\ud615\\ubd80\\ub2f9 \\uc8fc\\uc7a5\\uc5d0 \\ud574\\ub2f9\\ud55c\\ub2e4. \\uadf8\\ub7ec\\ub098 \\ud615\\uc0ac\\uc18c\\uc1a1\\ubc95 \\uc81c383\\uc870 \\uc81c4\\ud638\\uc5d0 \\uc758\\ud558\\uba74 \\uc591\\ud615\\ubd80\\ub2f9\\uc744 \\uc0ac\\uc720\\ub85c \\ud55c \\uc0c1\\uace0\\ub294 \\uc0ac\\ud615, \\ubb34\\uae30 \\ub610\\ub294 10\\ub144 \\uc774\\uc0c1\\uc758 \\uc9d5\\uc5ed\\uc774\\ub098 \\uae08\\uace0\\uac00 \\uc120\\uace0\\ub41c \\uc0ac\\uac74\\uc5d0\\uc11c\\ub9cc \\ud5c8\\uc6a9\\ub41c\\ub2e4. \\ud53c\\uace0\\uc778\\uc5d0 \\ub300\\ud558\\uc5ec \\uadf8\\ubcf4\\ub2e4 \\uac00\\ubcbc\\uc6b4 \\ud615\\uc774 \\uc120\\uace0\\ub41c \\uc774 \\uc0ac\\uac74\\uc5d0\\uc11c \\ud615\\uc758 \\uc591\\uc815\\uc774 \\ubd80\\ub2f9\\ud558\\ub2e4\\ub294 \\ucde8\\uc9c0\\uc758 \\uc8fc\\uc7a5\\uc740 \\uc801\\ubc95\\ud55c \\uc0c1\\uace0\\uc774\\uc720\\uac00 \\ub418\\uc9c0 \\ubabb\\ud55c\\ub2e4.  3. \\uacb0\\ub860  \\uadf8\\ub7ec\\ubbc0\\ub85c \\uc0c1\\uace0\\ub97c \\ubaa8\\ub450 \\uae30\\uac01\\ud558\\uae30\\ub85c \\ud558\\uc5ec, \\uad00\\uc5ec \\ub300\\ubc95\\uad00\\uc758 \\uc77c\\uce58\\ub41c \\uc758\\uacac\\uc73c\\ub85c \\uc8fc\\ubb38\\uacfc \\uac19\\uc774 \\ud310\\uacb0\\ud55c\\ub2e4.\\ub300\\ubc95\\uad00 \\uad8c\\uc21c\\uc77c(\\uc7ac\\ud310\\uc7a5) \\ubc15\\ubcd1\\ub300(\\uc8fc\\uc2ec) \\ubc15\\ubcf4\\uc601 \\uae40\\uc7ac\\ud615 \",\n          \"\\u3010\\ud53c \\uace0 \\uc778\\u3011 \\ud53c\\uace0\\uc778 1 \\uc678 5\\uc778\\u3010\\uc0c1 \\uace0 \\uc778\\u3011 \\ud53c\\uace0\\uc778\\ub4e4\\u3010\\ubcc0 \\ud638 \\uc778\\u3011 \\ubc95\\ubb34\\ubc95\\uc778 \\uc6b0\\ub9ac\\ud558\\ub098\\ub85c \\uc678 1\\uc778\\u3010\\uc6d0\\uc2ec\\ud310\\uacb0\\u3011 \\ub300\\uad6c\\uace0\\ubc95 2021. 12. 15. \\uc120\\uace0 2021\\ub178115 \\ud310\\uacb0\\u3010\\uc8fc    \\ubb38\\u3011  \\uc0c1\\uace0\\ub97c \\ubaa8\\ub450 \\uae30\\uac01\\ud55c\\ub2e4. \\u3010\\uc774    \\uc720\\u3011  \\uc0c1\\uace0\\uc774\\uc720\\ub97c \\ud310\\ub2e8\\ud55c\\ub2e4.   1. \\ud53c\\uace0\\uc778 1, \\ud53c\\uace0\\uc778 2, \\ud53c\\uace0\\uc778 3, \\ud53c\\uace0\\uc778 4, \\ud53c\\uace0\\uc778 5\\uc5d0 \\ub300\\ud55c \\uc758\\ub8cc\\ubc95 \\uc704\\ubc18 \\ubc29\\uc870 \\ubd80\\ubd84, \\ud53c\\uace0\\uc778 \\uc758\\ub8cc\\ubc95\\uc778 \\ud638\\uc554\\uc758\\ub8cc\\uc7ac\\ub2e8 \\ubd80\\ubd84  \\uac00. \\uad00\\ub828 \\ubc95\\ub9ac\\uc758\\ub8cc\\ubc95\\uc778 \\uba85\\uc758\\ub85c \\uac1c\\uc124\\ub41c \\uc758\\ub8cc\\uae30\\uad00\\uc744 \\uc2e4\\uc9c8\\uc801\\uc73c\\ub85c \\ube44\\uc758\\ub8cc\\uc778\\uc774 \\uac1c\\uc124\\u00b7\\uc6b4\\uc601\\ud558\\uc600\\ub2e4\\uace0 \\ud310\\ub2e8\\ud558\\ub824\\uba74, \\ube44\\uc758\\ub8cc\\uc778\\uc774 \\uc758\\ub8cc\\ubc95\\uc778 \\uba85\\uc758 \\uc758\\ub8cc\\uae30\\uad00\\uc758 \\uac1c\\uc124\\u00b7\\uc6b4\\uc601\\uc5d0 \\uc8fc\\ub3c4\\uc801\\uc73c\\ub85c \\uad00\\uc5ec\\ud558\\uc600\\ub2e4\\ub294 \\uc810\\uc744 \\uae30\\ubcf8\\uc73c\\ub85c \\ud558\\uc5ec, \\ube44\\uc758\\ub8cc\\uc778\\uc774 \\uc678\\ud615\\uc0c1 \\ud615\\ud0dc\\ub9cc\\uc744 \\uac16\\ucd94\\uace0 \\uc788\\ub294 \\uc758\\ub8cc\\ubc95\\uc778\\uc744 \\ud0c8\\ubc95\\uc801\\uc778 \\uc218\\ub2e8\\uc73c\\ub85c \\uc545\\uc6a9\\ud558\\uc5ec \\uc801\\ubc95\\ud55c \\uc758\\ub8cc\\uae30\\uad00 \\uac1c\\uc124\\u00b7\\uc6b4\\uc601\\uc73c\\ub85c \\uac00\\uc7a5\\ud558\\uc600\\ub2e4\\ub294 \\uc0ac\\uc815\\uc774 \\uc778\\uc815\\ub418\\uc5b4\\uc57c \\ud55c\\ub2e4. \\uc774\\ub7ec\\ud55c \\uc0ac\\uc815\\uc740 \\ube44\\uc758\\ub8cc\\uc778\\uc774 \\uc2e4\\uc9c8\\uc801\\uc73c\\ub85c \\uc7ac\\uc0b0\\ucd9c\\uc5f0\\uc774 \\uc774\\ub8e8\\uc5b4\\uc9c0\\uc9c0 \\uc54a\\uc544 \\uc2e4\\uccb4\\uac00 \\uc778\\uc815\\ub418\\uc9c0 \\uc544\\ub2c8\\ud558\\ub294 \\uc758\\ub8cc\\ubc95\\uc778\\uc744 \\uc758\\ub8cc\\uae30\\uad00 \\uac1c\\uc124\\u00b7\\uc6b4\\uc601\\uc744 \\uc704\\ud55c \\uc218\\ub2e8\\uc73c\\ub85c \\uc545\\uc6a9\\ud55c \\uacbd\\uc6b0, \\uc758\\ub8cc\\ubc95\\uc778\\uc758 \\uc7ac\\uc0b0\\uc744 \\ubd80\\ub2f9\\ud558\\uac8c \\uc720\\ucd9c\\ud558\\uc5ec \\uc758\\ub8cc\\ubc95\\uc778\\uc758 \\uacf5\\uacf5\\uc131, \\ube44\\uc601\\ub9ac\\uc131\\uc744 \\uc77c\\ud0c8\\ud55c \\uacbd\\uc6b0\\uc5d0 \\ud574\\ub2f9\\ub418\\uba74 \\uc778\\uc815\\ub420 \\uc218 \\uc788\\ub2e4(\\ub300\\ubc95\\uc6d0 2023. 7. 17. \\uc120\\uace0 2017\\ub3c41807 \\uc804\\uc6d0\\ud569\\uc758\\uccb4 \\ud310\\uacb0 \\ucc38\\uc870).   \\ub098. \\ud310\\ub2e8  1) \\uc6d0\\uc2ec\\uc740 \\ub2e4\\uc74c\\uacfc \\uac19\\uc740 \\uc774\\uc720 \\ub4f1\\uc73c\\ub85c \\ud53c\\uace0\\uc778 \\uc758\\ub8cc\\ubc95\\uc778 \\ud638\\uc554\\uc758\\ub8cc\\uc7ac\\ub2e8\\uc758 \\uc774\\uc0ac\\uc7a5\\uc778 \\uc6d0\\uc2ec \\uacf5\\ub3d9\\ud53c\\uace0\\uc778 1\\uc774 \\uc774 \\uc0ac\\uac74 \\uc758\\ub8cc\\uae30\\uad00\\uc744 \\uc2e4\\uc9c8\\uc801\\uc73c\\ub85c \\uac1c\\uc124\\u00b7\\uc6b4\\uc601\\ud558\\uace0 \\ud53c\\uace0\\uc778 1, \\ud53c\\uace0\\uc778 2, \\ud53c\\uace0\\uc778 3, \\ud53c\\uace0\\uc778 4, \\ud53c\\uace0\\uc778 5\\uac00 \\uc774\\ub97c \\uc6a9\\uc774\\ud558\\uac8c \\ud558\\uc600\\ub2e4\\uace0 \\ubcf4\\uc544 \\uc774 \\ubd80\\ubd84 \\uacf5\\uc18c\\uc0ac\\uc2e4\\uc744 \\uc720\\uc8c4\\ub85c \\ud310\\ub2e8\\ud55c \\uc81c1\\uc2ec\\ud310\\uacb0\\uc744 \\uadf8\\ub300\\ub85c \\uc720\\uc9c0\\ud558\\uc600\\ub2e4.   \\uac00) \\uc6d0\\uc2ec \\uacf5\\ub3d9\\ud53c\\uace0\\uc778 1\\uc740 \\uc774 \\uc0ac\\uac74 \\uc758\\ub8cc\\uae30\\uad00\\uc758 \\uac1c\\uc124\\u00b7\\uc6b4\\uc601\\uc5d0 \\ud544\\uc694\\ud55c \\uc790\\uae08 \\ub300\\ubd80\\ubd84\\uc744 \\uc870\\ub2ec\\ud558\\uace0, \\ud53c\\uace0\\uc778 \\uc758\\ub8cc\\ubc95\\uc778 \\ud638\\uc554\\uc758\\ub8cc\\uc7ac\\ub2e8(\\uc774\\ud558 \\u2018\\uc774 \\uc0ac\\uac74 \\uc758\\ub8cc\\ubc95\\uc778\\u2019\\uc774\\ub77c \\ud55c\\ub2e4)\\uc758 \\uc774\\uc0ac\\uc7a5\\uc5d0 \\ucde8\\uc784\\ud558\\uc5ec \\uc7ac\\uc815, \\uc778\\uc0ac, \\uc5c5\\ubb34\\uc9d1\\ud589 \\ub4f1 \\uc774 \\uc0ac\\uac74 \\uc758\\ub8cc\\uae30\\uad00\\uc758 \\uac1c\\uc124\\u00b7\\uc6b4\\uc601\\uc5d0 \\uad00\\ud55c \\uc8fc\\uc694 \\uc0ac\\ud56d\\uc744 \\uc8fc\\ub3c4\\uc801 \\uc785\\uc7a5\\uc5d0\\uc11c \\ucc98\\ub9ac\\ud558\\uc600\\ub2e4.   \\ub098) \\uc6d0\\uc2ec \\uacf5\\ub3d9\\ud53c\\uace0\\uc778 1\\uc740 \\uc774 \\uc0ac\\uac74 \\uc758\\ub8cc\\ubc95\\uc778 \\uc124\\ub9bd \\ub2f9\\uc2dc \\uae30\\ubcf8\\uc7ac\\uc0b0\\uc73c\\ub85c \\uac00\\uc561 \\ud569\\uacc4 \\uc57d 35\\uc5b5 \\uc6d0\\uc758 \\ubd80\\ub3d9\\uc0b0\\uc744, \\ubcf4\\ud1b5\\uc7ac\\uc0b0\\uc73c\\ub85c \\ud604\\uae08 5\\uc5b5 5,000\\ub9cc \\uc6d0\\uc744 \\ucd9c\\uc5f0\\ud558\\uc5ec \\u2018\\uacbd\\uc0c1\\ubd81\\ub3c4 \\uc758\\ub8cc\\ubc95\\uc778 \\uc124\\ub9bd \\ubc0f \\uc6b4\\uc601\\uc9c0\\uce68\\u2019\\uc758 \\uc758\\ub8cc\\ubc95\\uc778 \\uc124\\ub9bd\\ud5c8\\uac00 \\ucd9c\\uc5f0\\uae08 \\uae30\\uc900(40\\uc5b5 \\uc6d0)\\uc744 \\ucda9\\uc871\\ud558\\ub294 \\uac83\\ucc98\\ub7fc \\uc124\\ub9bd\\ud5c8\\uac00 \\uc2e0\\uccad\\uc744 \\ud558\\uc600\\uc73c\\ub098, \\uc2e4\\uc81c\\ub85c\\ub294 \\ud5c8\\uc704\\uc758 \\uacf5\\uc0ac\\uacc4\\uc57d\\uc11c\\ub97c \\uc81c\\ucd9c\\ud558\\ub294 \\ubc29\\ubc95 \\ub4f1\\uc73c\\ub85c \\ubd80\\ub3d9\\uc0b0 \\uac00\\uc561\\uc744 \\ubd80\\ud480\\ub9ac\\uace0 \\ud604\\uae08 5\\uc5b5 5,000\\ub9cc \\uc6d0\\uc740 \\ucd9c\\uc5f0\\ud558\\uc9c0 \\uc54a\\uc544 \\ucd9c\\uc5f0\\uae08 \\uae30\\uc900(40\\uc5b5 \\uc6d0)\\uc744 \\ucda9\\uc871\\ud558\\ub294 \\uc7ac\\uc0b0\\uc744 \\ucd9c\\uc5f0\\ud558\\uc9c0 \\uc54a\\uc558\\ub2e4. \\uc774\\ub294 \\uc758\\ub8cc\\ubc95\\uc778 \\uc124\\ub9bd\\ud5c8\\uac00\\uc5d0 \\uc601\\ud5a5\\uc744 \\ubbf8\\uce60 \\uc815\\ub3c4\\uc5d0 \\uc774\\ub974\\ub294 \\uc758\\ub8cc\\ubc95\\uc778 \\uc124\\ub9bd \\uacfc\\uc815\\uc758 \\ud558\\uc790\\ub85c \\ubcfc \\uc218 \\uc788\\ub2e4.   \\ub2e4) \\uc6d0\\uc2ec \\uacf5\\ub3d9\\ud53c\\uace0\\uc778 1\\uc740 \\uc774 \\uc0ac\\uac74 \\uc758\\ub8cc\\ubc95\\uc778 \\uc124\\ub9bd \\uacfc\\uc815\\uc5d0\\uc11c \\ud53c\\uace0\\uc778 2, \\ud53c\\uace0\\uc778 3, \\ud53c\\uace0\\uc778 4, \\ud53c\\uace0\\uc778 5\\ub85c\\ubd80\\ud130 1\\uc5b5 6,000\\ub9cc \\uc6d0\\uc529\\uc744 \\ud22c\\uc790\\ubc1b\\uc558\\ub294\\ub370, \\uc774 \\uc0ac\\uac74 \\uc758\\ub8cc\\ubc95\\uc778 \\uc124\\ub9bd \\uc9c1\\ud6c4 \\uac1c\\ucd5c\\ub41c \\uc774\\uc0ac\\ud68c\\uc5d0\\uc11c \\uc704\\uc640 \\uac19\\uc774 \\uc790\\uae08\\uc744 \\ud22c\\uc790\\ud55c \\ud53c\\uace0\\uc778 2 \\ub4f1\\uc5d0\\uac8c 22\\ub144 \\ub3d9\\uc548 \\ub9e4\\uc6d4 500\\ub9cc \\uc6d0\\uc529\\uc758 \\uae09\\uc5ec\\ub97c \\uc9c0\\uae09\\ud558\\uae30\\ub85c \\ud558\\ub294 \\ub4f1 \\uc218\\uc775\\ubd84\\ubc30 \\uc57d\\uc815 \\ucde8\\uc9c0\\uc758 \\uc758\\uacb0\\uc744 \\ud558\\uc600\\uace0, \\uc2e4\\uc81c \\uadf8 \\uc774\\uc0ac\\ud68c \\uc758\\uacb0 \\ub0b4\\uc6a9\\uacfc \\uac19\\uc774 \\uc774\\uc0ac \\ub610\\ub294 \\uac10\\uc0ac\\ub85c\\uc11c \\ubcc4\\ub2e4\\ub978 \\uc5c5\\ubb34\\ub97c \\uc218\\ud589\\ud558\\uc9c0 \\uc54a\\uc740 \\ud53c\\uace0\\uc778 2 \\ub4f1\\uc774\\ub098 \\uadf8 \\uac00\\uc871\\ub4e4\\uc5d0\\uac8c \\uc218\\ub144 \\ub3d9\\uc548 \\uc6d4 500\\ub9cc \\uc6d0\\uc529 \\ud569\\uacc4 \\uc57d 6\\uc5b5 9,000\\ub9cc \\uc6d0\\uc774 \\uc9c0\\uae09\\ub418\\uc5c8\\ub2e4. \\ub098\\uc544\\uac00, \\uc6d0\\uc2ec \\uacf5\\ub3d9\\ud53c\\uace0\\uc778 1\\uc740 2015. 3.\\uacbd\\ubd80\\ud130 2016. 2.\\uacbd\\uae4c\\uc9c0 \\uc784\\uc6d0\\ub4e4\\uc5d0 \\ub300\\ud55c \\uae09\\uc5ec \\uc9c0\\uae09\\uc758 \\ud615\\uc2dd\\uc744 \\uac16\\ucd94\\uc5b4 \\uc758\\ub8cc\\ubc95\\uc778\\uc758 \\uc7ac\\uc0b0 \\ud569\\uacc4 \\uc57d 3\\uc5b5 6,000\\ub9cc \\uc6d0\\uc744 \\uc720\\ucd9c\\ud55c \\ud6c4 \\uc774\\ub97c \\uc790\\uc2e0\\uc758 \\uacc4\\uc88c\\ub85c \\ub418\\ub3cc\\ub824 \\ubc1b\\uae30\\ub3c4 \\ud558\\uc600\\uace0, \\uc758\\ub8cc\\ubc95\\uc778\\uc758 \\uc7ac\\uc0b0\\uc73c\\ub85c \\uc790\\uc2e0\\uc758 \\uc790\\ub140, \\uc870\\uce74\\uc5d0\\uac8c \\ubcc4\\ub2e4\\ub978 \\uadfc\\uac70 \\uc5c6\\uc774 \\ud559\\uc790\\uae08 \\uc57d 2\\uc5b5 5,000\\ub9cc \\uc6d0\\uc744 \\uc9c0\\uae09\\ud558\\uae30\\ub3c4 \\ud558\\uc600\\ub2e4. \\uc704\\uc640 \\uac19\\uc774 \\uc6d0\\uc2ec \\uacf5\\ub3d9\\ud53c\\uace0\\uc778 1\\uc740 \\uc7a5\\uae30\\uac04\\uc5d0 \\uac78\\uccd0 \\uc774 \\uc0ac\\uac74 \\uc758\\ub8cc\\ubc95\\uc778\\uc758 \\uc7ac\\uc0b0 \\uc911 \\uc0c1\\ub2f9 \\ubd80\\ubd84\\uc744 \\ubd80\\ub2f9\\ud558\\uac8c \\uc720\\ucd9c\\ud558\\uc600\\ub2e4.   \\ub77c) \\ud53c\\uace0\\uc778 1, \\ud53c\\uace0\\uc778 2, \\ud53c\\uace0\\uc778 3, \\ud53c\\uace0\\uc778 4, \\ud53c\\uace0\\uc778 5\\ub294 \\uc6d0\\uc2ec \\uacf5\\ub3d9\\ud53c\\uace0\\uc778 1\\uc774 \\uc774 \\uc0ac\\uac74 \\uc758\\ub8cc\\uae30\\uad00\\uc744 \\uac1c\\uc124\\ud558\\ub294 \\ub370\\uc5d0 \\uc790\\uae08\\uc744 \\ud22c\\uc790\\ud558\\uac70\\ub098 \\ubcc4\\ub2e4\\ub978 \\uc5c5\\ubb34 \\uc218\\ud589 \\uc5c6\\uc774 \\uae09\\uc5ec \\uba85\\ubaa9\\uc73c\\ub85c \\uae09\\uc5ec\\ub97c \\uc9c0\\uae09\\ubc1b\\ub294 \\ub4f1\\uc758 \\ubc29\\ubc95\\uc73c\\ub85c \\uc6d0\\uc2ec \\uacf5\\ub3d9\\ud53c\\uace0\\uc778 1\\uc774 \\uc8fc\\ub3c4\\uc801 \\uc9c0\\uc704\\uc5d0\\uc11c \\uc774 \\uc0ac\\uac74 \\uc758\\ub8cc\\uae30\\uad00\\uc744 \\uac1c\\uc124\\u00b7\\uc6b4\\uc601\\ud558\\uace0 \\uc7ac\\uc0b0 \\uc911 \\uc0c1\\ub2f9 \\ubd80\\ubd84\\uc744 \\ubd80\\ub2f9\\ud558\\uac8c \\uc720\\ucd9c\\ud558\\ub294 \\uac83\\uc744 \\uc6a9\\uc774\\ud558\\uac8c \\ud558\\uc600\\ub2e4.   2) \\uc6d0\\uc2ec\\ud310\\uacb0 \\uc774\\uc720\\ub97c \\uc55e\\uc11c \\ubcf8 \\ubc95\\ub9ac\\uc640 \\uc801\\ubc95\\ud558\\uac8c \\ucc44\\ud0dd\\ub41c \\uc99d\\uac70\\uc5d0 \\ube44\\ucd94\\uc5b4 \\uc0b4\\ud3b4\\ubcf4\\uba74, \\uc6d0\\uc2ec\\uc758 \\ud310\\ub2e8\\uc5d0 \\ub17c\\ub9ac\\uc640 \\uacbd\\ud5d8\\uc758 \\ubc95\\uce59\\uc744 \\uc704\\ubc18\\ud558\\uc5ec \\uc790\\uc720\\uc2ec\\uc99d\\uc8fc\\uc758\\uc758 \\ud55c\\uacc4\\ub97c \\ubc97\\uc5b4\\ub098\\uac70\\ub098 \\uac1c\\uc124\\uc790\\uaca9 \\uc704\\ubc18 \\uc758\\ub8cc\\uae30\\uad00 \\uac1c\\uc124\\ub85c \\uc778\\ud55c \\uc758\\ub8cc\\ubc95 \\uc704\\ubc18\\uc8c4\\uc758 \\uc131\\ub9bd, \\ubc29\\uc870\\ubc94\\uc758 \\uc131\\ub9bd\\uc5d0 \\uad00\\ud55c \\ubc95\\ub9ac\\ub97c \\uc624\\ud574\\ud55c \\uc798\\ubabb\\uc774 \\uc5c6\\ub2e4.   2. \\ud53c\\uace0\\uc778 1, \\ud53c\\uace0\\uc778 2, \\ud53c\\uace0\\uc778 3, \\ud53c\\uace0\\uc778 4, \\ud53c\\uace0\\uc778 5\\uc5d0 \\ub300\\ud55c \\u300c\\ud2b9\\uc815\\uacbd\\uc81c\\ubc94\\uc8c4 \\uac00\\uc911\\ucc98\\ubc8c \\ub4f1\\uc5d0 \\uad00\\ud55c \\ubc95\\ub960\\u300d\\uc704\\ubc18(\\uc0ac\\uae30) \\ubc29\\uc870 \\ubd80\\ubd84  \\uac00. \\uad00\\ub828 \\ubc95\\ub9ac\\uc801\\ubc95\\ud558\\uac8c \\uac1c\\uc124\\ub418\\uc9c0 \\uc544\\ub2c8\\ud55c \\uc758\\ub8cc\\uae30\\uad00\\uc758 \\uc2e4\\uc9c8 \\uac1c\\uc124\\u00b7\\uc6b4\\uc601\\uc790\\uac00 \\uc801\\ubc95\\ud558\\uac8c \\uac1c\\uc124\\ub41c \\uc758\\ub8cc\\uae30\\uad00\\uc778 \\uac83\\ucc98\\ub7fc \\uc758\\ub8cc\\uae09\\uc5ec\\ube44\\uc6a9\\uc758 \\uc9c0\\uae09\\uc744 \\uccad\\uad6c\\ud558\\uc5ec \\uc774\\uc5d0 \\uc18d\\uc740 \\uad6d\\ubbfc\\uac74\\uac15\\ubcf4\\ud5d8\\uacf5\\ub2e8\\uc73c\\ub85c\\ubd80\\ud130 \\uc758\\ub8cc\\uae09\\uc5ec\\ube44\\uc6a9 \\uba85\\ubaa9\\uc758 \\uae08\\uc6d0\\uc744 \\uc9c0\\uae09\\ubc1b\\uc544 \\ud3b8\\ucde8\\ud55c \\uacbd\\uc6b0, \\uad6d\\ubbfc\\uac74\\uac15\\ubcf4\\ud5d8\\uacf5\\ub2e8\\uc744 \\ud53c\\ud574\\uc790\\ub85c \\ubcf4\\uc544\\uc57c \\ud55c\\ub2e4.   1) \\uc758\\ub8cc\\uae09\\uc5ec\\ubc95 \\ubc0f \\uadf8 \\uc2dc\\ud589\\ub839, \\uc2dc\\ud589\\uaddc\\uce59\\uc740, \\uc758\\ub8cc\\uae09\\uc5ec\\uc5d0 \\uad00\\ud55c \\uc5c5\\ubb34\\ub294 \\uc218\\uae09\\uad8c\\uc790\\uc758 \\uac70\\uc8fc\\uc9c0\\ub97c \\uad00\\ud560\\ud558\\ub294 \\ud2b9\\ubcc4\\uc2dc\\uc7a5\\u00b7\\uad11\\uc5ed\\uc2dc\\uc7a5\\u00b7\\ub3c4\\uc9c0\\uc0ac\\uc640 \\uc2dc\\uc7a5\\u00b7\\uad70\\uc218\\u00b7\\uad6c\\uccad\\uc7a5\\uc774 \\ud558\\uace0(\\ubc95 \\uc81c5\\uc870 \\uc81c1\\ud56d), \\uc758\\ub8cc\\uae09\\uc5ec\\ube44\\uc6a9\\uc740 \\uc2dc\\u00b7\\ub3c4\\uc5d0 \\uc124\\uce58\\ub41c \\uc758\\ub8cc\\uae09\\uc5ec\\uae30\\uae08\\uc5d0\\uc11c \\ubd80\\ub2f4\\ud55c\\ub2e4\\uace0 \\uaddc\\uc815\\ud558\\uba74\\uc11c\\ub3c4(\\ubc95 \\uc81c10\\uc870, \\uc81c25\\uc870), \\uc758\\ub8cc\\uae09\\uc5ec\\ube44\\uc6a9\\uc758 \\uc9c0\\uae09 \\uc5c5\\ubb34 \\ub4f1\\uc740 \\uc2dc\\uc7a5\\u00b7\\uad70\\uc218\\u00b7\\uad6c\\uccad\\uc7a5\\uc774 \\uad6d\\ubbfc\\uac74\\uac15\\ubcf4\\ud5d8\\uacf5\\ub2e8\\uc5d0 \\uc704\\ud0c1\\ud55c\\ub2e4\\uace0 \\uaddc\\uc815\\ud558\\uace0(\\ubc95 \\uc81c33\\uc870 \\uc81c2\\ud56d, \\uc2dc\\ud589\\ub839 \\uc81c20\\uc870 \\uc81c2\\ud56d), \\uc2dc\\u00b7\\ub3c4\\uc9c0\\uc0ac\\ub294 \\uc758\\ub8cc\\uae09\\uc5ec\\uae30\\uae08\\uc5d0\\uc11c \\ubcf4\\uac74\\ubcf5\\uc9c0\\ubd80\\uc7a5\\uad00\\uc774 \\uc815\\ud558\\ub294 \\ucd94\\uc815\\uae09\\uc5ec\\ube44\\uc6a9\\uc744 \\ub9e4\\uc6d4 20\\uc77c\\uae4c\\uc9c0 \\uad6d\\ubbfc\\uac74\\uac15\\ubcf4\\ud5d8\\uacf5\\ub2e8\\uc5d0 \\uc608\\ud0c1\\ud558\\uc5ec\\uc57c \\ud55c\\ub2e4\\uace0 \\uaddc\\uc815\\ud55c\\ub2e4(\\ubc95 \\uc81c27\\uc870 \\uc81c1\\ud56d, \\uc2dc\\ud589\\uaddc\\uce59 \\uc81c30\\uc870 \\uc81c1\\ud56d, \\uc81c31\\uc870 \\uc81c1\\ud56d).   2) \\uc704 \\uad00\\ub828 \\uaddc\\uc815\\uc5d0 \\ub530\\ub77c, \\uad6d\\ubbfc\\uac74\\uac15\\ubcf4\\ud5d8\\uacf5\\ub2e8\\uc740 \\ub9e4\\uc6d4 \\uc2dc\\u00b7\\ub3c4\\uc9c0\\uc0ac\\ub85c\\ubd80\\ud130 \\ucd94\\uc815\\uae09\\uc5ec\\ube44\\uc6a9\\uc744 \\uad50\\ubd80\\ubc1b\\uc544 \\uc774\\ub97c \\uc790\\uc2e0 \\uba85\\uc758\\uc758 \\uacc4\\uc88c\\uc5d0 \\ubcf4\\uad00\\u00b7\\uad00\\ub9ac\\ud558\\uba74\\uc11c \\uc758\\ub8cc\\uae09\\uc5ec\\ube44\\uc6a9 \\uc9c0\\uae09\\uc0ac\\uc720\\uac00 \\ubc1c\\uc0dd\\ud558\\uba74 \\uc790\\uc2e0\\uc758 \\uad8c\\ud55c\\uacfc \\ucc45\\uc784\\ud558\\uc5d0\\uc11c \\uc790\\uc2e0\\uc758 \\uba85\\uc758\\ub85c \\uc758\\ub8cc\\uae30\\uad00\\uc5d0 \\uc758\\ub8cc\\uae09\\uc5ec\\ube44\\uc6a9\\uc744 \\uc9c1\\uc811 \\uc9c0\\uae09\\ud55c\\ub2e4. \\uc2dc\\u00b7\\ub3c4\\uc9c0\\uc0ac \\ub0b4\\uc9c0 \\uc2dc\\uc7a5\\u00b7\\uad70\\uc218\\u00b7\\uad6c\\uccad\\uc7a5\\uc740 \\uad6d\\ubbfc\\uac74\\uac15\\ubcf4\\ud5d8\\uacf5\\ub2e8\\uc758 \\uc758\\ub8cc\\uae09\\uc5ec\\ube44\\uc6a9 \\uc9c0\\uae09 \\uc5c5\\ubb34\\uc640 \\uad00\\ub828\\ud558\\uc5ec \\uad6c\\uccb4\\uc801 \\uc9c0\\uc2dc\\ub97c \\ud558\\uac70\\ub098 \\uad00\\ub9ac\\uac10\\ub3c5\\uc744 \\ud558\\uc9c0 \\uc544\\ub2c8\\ud558\\uace0, \\uad6d\\ubbfc\\uac74\\uac15\\ubcf4\\ud5d8\\uacf5\\ub2e8\\uc5d0 \\uc608\\ud0c1\\ud55c \\ucd94\\uc815\\uae09\\uc5ec\\ube44\\uc6a9\\uc744 \\uc0ac\\uc6a9\\uc218\\uc775\\ud558\\uac70\\ub098 \\ucc98\\ubd84\\ud560 \\uc218 \\uc788\\ub294 \\uad8c\\ud55c\\uc774 \\uc5c6\\ub2e4. \\uad6d\\ubbfc\\uac74\\uac15\\ubcf4\\ud5d8\\uacf5\\ub2e8\\uc758 \\uc758\\ub8cc\\uae09\\uc5ec\\ube44\\uc6a9 \\uc9c0\\uae09\\uc73c\\ub85c \\uc778\\ud55c \\ubc95\\ub960\\uc801 \\ud6a8\\uacfc\\ub294 \\ucd94\\uc815\\uae09\\uc5ec\\ube44\\uc6a9\\uc744 \\uc608\\ud0c1\\ud55c \\uc2dc\\u00b7\\ub3c4\\uc9c0\\uc0ac\\ub098 \\uc758\\ub8cc\\uae09\\uc5ec\\ube44\\uc6a9 \\uc9c0\\uae09 \\uc5c5\\ubb34\\ub97c \\uc704\\ud0c1\\ud55c \\uc2dc\\uc7a5\\u00b7\\uad70\\uc218\\u00b7\\uad6c\\uccad\\uc7a5\\uc774 \\uc544\\ub2cc \\uc790\\uc2e0\\uc758 \\uba85\\uc758\\ub85c \\uc758\\ub8cc\\uae09\\uc5ec\\ube44\\uc6a9 \\uc9c0\\uae09 \\uc5c5\\ubb34\\ub97c \\uc218\\ud589\\ud558\\ub294 \\uad6d\\ubbfc\\uac74\\uac15\\ubcf4\\ud5d8\\uacf5\\ub2e8\\uc5d0 \\uadc0\\uc18d\\ub41c\\ub2e4. \\ub530\\ub77c\\uc11c \\ucd94\\uc815\\uae09\\uc5ec\\ube44\\uc6a9\\uc744 \\ubcf4\\uad00\\u00b7\\uad00\\ub9ac\\ud558\\uba74\\uc11c \\uc790\\uc2e0\\uc758 \\uba85\\uc758\\ub85c \\uc758\\ub8cc\\uae09\\uc5ec\\ube44\\uc6a9\\uc744 \\uc9c0\\uae09\\ud558\\ub294 \\uad6d\\ubbfc\\uac74\\uac15\\ubcf4\\ud5d8\\uacf5\\ub2e8\\uc774 \\uc758\\ub8cc\\uae09\\uc5ec\\ube44\\uc6a9 \\ud3b8\\ucde8 \\ubc94\\ud589\\uc758 \\ud53c\\ud574\\uc790\\ub77c\\uace0 \\ubcf4\\uc544\\uc57c \\ud55c\\ub2e4. \\uc758\\ub8cc\\uae09\\uc5ec\\ube44\\uc6a9\\uc774 \\uc2dc\\u00b7\\ub3c4\\uc5d0 \\uc124\\uce58\\ub41c \\uc758\\ub8cc\\uae09\\uc5ec\\uae30\\uae08\\uc744 \\uc7ac\\uc6d0\\uc73c\\ub85c \\uc9c0\\uae09\\ub41c\\ub2e4\\uac70\\ub098, \\uc758\\ub8cc\\uae09\\uc5ec\\ube44\\uc6a9 \\ud3b8\\ucde8 \\ubc94\\ud589\\uc73c\\ub85c \\uc778\\ud55c \\uc7ac\\uc0b0\\uc0c1 \\uc190\\ud574\\uac00 \\ucd5c\\uc885\\uc801\\uc73c\\ub85c \\uad6d\\ubbfc\\uac74\\uac15\\ubcf4\\ud5d8\\uacf5\\ub2e8\\uc5d0 \\uadc0\\uc18d\\ub418\\uc9c0 \\uc54a\\ub294\\ub2e4\\uace0 \\ud558\\uc5ec \\ub2ec\\ub9ac \\ubcfc \\uac83\\uc740 \\uc544\\ub2c8\\ub2e4.   \\ub098. \\ud310\\ub2e8  \\uc6d0\\uc2ec\\uc740 \\ud310\\uc2dc\\uc640 \\uac19\\uc740 \\uc774\\uc720\\ub85c, \\uc774 \\uc0ac\\uac74 \\uc758\\ub8cc\\uae09\\uc5ec\\ube44\\uc6a9 \\ud3b8\\ucde8 \\ubc94\\ud589\\uc758 \\ud53c\\ud574\\uc790\\ub97c \\uac1c\\ubcc4 \\uc9c0\\ubc29\\uc790\\uce58\\ub2e8\\uccb4\\uac00 \\uc544\\ub2cc \\uad6d\\ubbfc\\uac74\\uac15\\ubcf4\\ud5d8\\uacf5\\ub2e8\\uc73c\\ub85c \\ud310\\ub2e8\\ud558\\uc5ec \\uc6d0\\uc2ec \\uacf5\\ub3d9\\ud53c\\uace0\\uc778 1\\uc758 \\uc694\\uc591\\uae09\\uc5ec\\ube44\\uc6a9 \\ubc0f \\uc758\\ub8cc\\uae09\\uc5ec\\ube44\\uc6a9 \\ud3b8\\ucde8 \\ubc94\\ud589 \\uc804\\uccb4\\uac00 \\ud3ec\\uad04\\ud558\\uc5ec \\ud53c\\ud574\\uc790 \\uad6d\\ubbfc\\uac74\\uac15\\ubcf4\\ud5d8\\uacf5\\ub2e8\\uc5d0 \\ub300\\ud55c \\ud558\\ub098\\uc758 \\u300c\\ud2b9\\uc815\\uacbd\\uc81c\\ubc94\\uc8c4 \\uac00\\uc911\\ucc98\\ubc8c \\ub4f1\\uc5d0 \\uad00\\ud55c \\ubc95\\ub960\\u300d\\uc704\\ubc18(\\uc0ac\\uae30)\\uc8c4\\ub97c \\uad6c\\uc131\\ud55c\\ub2e4\\uace0 \\ubcf4\\uc544, \\uc774 \\ubd80\\ubd84 \\uacf5\\uc18c\\uc0ac\\uc2e4\\uc744 \\uc720\\uc8c4\\ub85c \\ud310\\ub2e8\\ud55c \\uc81c1\\uc2ec\\ud310\\uacb0\\uc744 \\uadf8\\ub300\\ub85c \\uc720\\uc9c0\\ud558\\uc600\\ub2e4.   \\uc6d0\\uc2ec\\ud310\\uacb0 \\uc774\\uc720\\ub97c \\uc55e\\uc11c \\ubcf8 \\ubc95\\ub9ac\\uc640 \\uc801\\ubc95\\ud558\\uac8c \\ucc44\\ud0dd\\ub41c \\uc99d\\uac70\\uc5d0 \\ube44\\ucd94\\uc5b4 \\uc0b4\\ud3b4\\ubcf4\\uba74, \\uc6d0\\uc2ec\\uc758 \\ud310\\ub2e8\\uc5d0 \\ub17c\\ub9ac\\uc640 \\uacbd\\ud5d8\\uc758 \\ubc95\\uce59\\uc744 \\uc704\\ubc18\\ud558\\uc5ec \\uc790\\uc720\\uc2ec\\uc99d\\uc8fc\\uc758\\uc758 \\ud55c\\uacc4\\ub97c \\ubc97\\uc5b4\\ub098\\uac70\\ub098 \\uc0ac\\uae30\\uc8c4\\uc758 \\ud53c\\ud574\\uc790, \\ud3b8\\ucde8\\uc561\\uc758 \\ubc94\\uc704, \\uc774\\ub4dd\\uc561 \\uc0b0\\uc815, \\ubc29\\uc870\\ubc94\\uc758 \\uc131\\ub9bd \\ub4f1\\uc5d0 \\uad00\\ud55c \\ubc95\\ub9ac\\ub97c \\uc624\\ud574\\ud55c \\uc798\\ubabb\\uc774 \\uc5c6\\ub2e4.   3. \\uacb0\\ub860   \\uadf8\\ub7ec\\ubbc0\\ub85c \\uc0c1\\uace0\\ub97c \\ubaa8\\ub450 \\uae30\\uac01\\ud558\\uae30\\ub85c \\ud558\\uc5ec, \\uad00\\uc5ec \\ub300\\ubc95\\uad00\\uc758 \\uc77c\\uce58\\ub41c \\uc758\\uacac\\uc73c\\ub85c \\uc8fc\\ubb38\\uacfc \\uac19\\uc774 \\ud310\\uacb0\\ud55c\\ub2e4. \\ub300\\ubc95\\uad00 \\uc624\\uc11d\\uc900(\\uc7ac\\ud310\\uc7a5) \\uc548\\ucca0\\uc0c1 \\ub178\\uc815\\ud76c(\\uc8fc\\uc2ec) \\uc774\\ud765\\uad6c \"\n        ],\n        \"semantic_type\": \"\",\n        \"description\": \"\"\n      }\n    },\n    {\n      \"column\": \"\\uc720\\uc0ac\\ub3c4\",\n      \"properties\": {\n        \"dtype\": \"number\",\n        \"std\": 0.28839209420509415,\n        \"min\": 61.12,\n        \"max\": 61.91,\n        \"num_unique_values\": 5,\n        \"samples\": [\n          61.69,\n          61.12,\n          61.59\n        ],\n        \"semantic_type\": \"\",\n        \"description\": \"\"\n      }\n    }\n  ]\n}"
            }
          },
          "metadata": {},
          "execution_count": 71
        }
      ],
      "source": [
        "f_result = pd.DataFrame(precidents, columns=['판례일련번호', '사건명', '판례내용', '유사도'])\n",
        "f_result"
      ]
    },
    {
      "cell_type": "code",
      "execution_count": 73,
      "metadata": {
        "id": "XfMpg4gk75X0",
        "outputId": "d38f439d-cc80-4013-d1ab-088dbaf3f825",
        "colab": {
          "base_uri": "https://localhost:8080/",
          "height": 171
        }
      },
      "outputs": [
        {
          "output_type": "execute_result",
          "data": {
            "text/plain": [
              "'【피 고 인】 피고인 1 외 5인【상 고 인】 피고인들【변 호 인】 법무법인 우리하나로 외 1인【원심판결】 대구고법 2021. 12. 15. 선고 2021노115 판결【주    문】  상고를 모두 기각한다. 【이    유】  상고이유를 판단한다.   1. 피고인 1, 피고인 2, 피고인 3, 피고인 4, 피고인 5에 대한 의료법 위반 방조 부분, 피고인 의료법인 호암의료재단 부분  가. 관련 법리의료법인 명의로 개설된 의료기관을 실질적으로 비의료인이 개설·운영하였다고 판단하려면, 비의료인이 의료법인 명의 의료기관의 개설·운영에 주도적으로 관여하였다는 점을 기본으로 하여, 비의료인이 외형상 형태만을 갖추고 있는 의료법인을 탈법적인 수단으로 악용하여 적법한 의료기관 개설·운영으로 가장하였다는 사정이 인정되어야 한다. 이러한 사정은 비의료인이 실질적으로 재산출연이 이루어지지 않아 실체가 인정되지 아니하는 의료법인을 의료기관 개설·운영을 위한 수단으로 악용한 경우, 의료법인의 재산을 부당하게 유출하여 의료법인의 공공성, 비영리성을 일탈한 경우에 해당되면 인정될 수 있다(대법원 2023. 7. 17. 선고 2017도1807 전원합의체 판결 참조).   나. 판단  1) 원심은 다음과 같은 이유 등으로 피고인 의료법인 호암의료재단의 이사장인 원심 공동피고인 1이 이 사건 의료기관을 실질적으로 개설·운영하고 피고인 1, 피고인 2, 피고인 3, 피고인 4, 피고인 5가 이를 용이하게 하였다고 보아 이 부분 공소사실을 유죄로 판단한 제1심판결을 그대로 유지하였다.   가) 원심 공동피고인 1은 이 사건 의료기관의 개설·운영에 필요한 자금 대부분을 조달하고, 피고인 의료법인 호암의료재단(이하 ‘이 사건 의료법인’이라 한다)의 이사장에 취임하여 재정, 인사, 업무집행 등 이 사건 의료기관의 개설·운영에 관한 주요 사항을 주도적 입장에서 처리하였다.   나) 원심 공동피고인 1은 이 사건 의료법인 설립 당시 기본재산으로 가액 합계 약 35억 원의 부동산을, 보통재산으로 현금 5억 5,000만 원을 출연하여 ‘경상북도 의료법인 설립 및 운영지침’의 의료법인 설립허가 출연금 기준(40억 원)을 충족하는 것처럼 설립허가 신청을 하였으나, 실제로는 허위의 공사계약서를 제출하는 방법 등으로 부동산 가액을 부풀리고 현금 5억 5,000만 원은 출연하지 않아 출연금 기준(40억 원)을 충족하는 재산을 출연하지 않았다. 이는 의료법인 설립허가에 영향을 미칠 정도에 이르는 의료법인 설립 과정의 하자로 볼 수 있다.   다) 원심 공동피고인 1은 이 사건 의료법인 설립 과정에서 피고인 2, 피고인 3, 피고인 4, 피고인 5로부터 1억 6,000만 원씩을 투자받았는데, 이 사건 의료법인 설립 직후 개최된 이사회에서 위와 같이 자금을 투자한 피고인 2 등에게 22년 동안 매월 500만 원씩의 급여를 지급하기로 하는 등 수익분배 약정 취지의 의결을 하였고, 실제 그 이사회 의결 내용과 같이 이사 또는 감사로서 별다른 업무를 수행하지 않은 피고인 2 등이나 그 가족들에게 수년 동안 월 500만 원씩 합계 약 6억 9,000만 원이 지급되었다. 나아가, 원심 공동피고인 1은 2015. 3.경부터 2016. 2.경까지 임원들에 대한 급여 지급의 형식을 갖추어 의료법인의 재산 합계 약 3억 6,000만 원을 유출한 후 이를 자신의 계좌로 되돌려 받기도 하였고, 의료법인의 재산으로 자신의 자녀, 조카에게 별다른 근거 없이 학자금 약 2억 5,000만 원을 지급하기도 하였다. 위와 같이 원심 공동피고인 1은 장기간에 걸쳐 이 사건 의료법인의 재산 중 상당 부분을 부당하게 유출하였다.   라) 피고인 1, 피고인 2, 피고인 3, 피고인 4, 피고인 5는 원심 공동피고인 1이 이 사건 의료기관을 개설하는 데에 자금을 투자하거나 별다른 업무 수행 없이 급여 명목으로 급여를 지급받는 등의 방법으로 원심 공동피고인 1이 주도적 지위에서 이 사건 의료기관을 개설·운영하고 재산 중 상당 부분을 부당하게 유출하는 것을 용이하게 하였다.   2) 원심판결 이유를 앞서 본 법리와 적법하게 채택된 증거에 비추어 살펴보면, 원심의 판단에 논리와 경험의 법칙을 위반하여 자유심증주의의 한계를 벗어나거나 개설자격 위반 의료기관 개설로 인한 의료법 위반죄의 성립, 방조범의 성립에 관한 법리를 오해한 잘못이 없다.   2. 피고인 1, 피고인 2, 피고인 3, 피고인 4, 피고인 5에 대한 「특정경제범죄 가중처벌 등에 관한 법률」위반(사기) 방조 부분  가. 관련 법리적법하게 개설되지 아니한 의료기관의 실질 개설·운영자가 적법하게 개설된 의료기관인 것처럼 의료급여비용의 지급을 청구하여 이에 속은 국민건강보험공단으로부터 의료급여비용 명목의 금원을 지급받아 편취한 경우, 국민건강보험공단을 피해자로 보아야 한다.   1) 의료급여법 및 그 시행령, 시행규칙은, 의료급여에 관한 업무는 수급권자의 거주지를 관할하는 특별시장·광역시장·도지사와 시장·군수·구청장이 하고(법 제5조 제1항), 의료급여비용은 시·도에 설치된 의료급여기금에서 부담한다고 규정하면서도(법 제10조, 제25조), 의료급여비용의 지급 업무 등은 시장·군수·구청장이 국민건강보험공단에 위탁한다고 규정하고(법 제33조 제2항, 시행령 제20조 제2항), 시·도지사는 의료급여기금에서 보건복지부장관이 정하는 추정급여비용을 매월 20일까지 국민건강보험공단에 예탁하여야 한다고 규정한다(법 제27조 제1항, 시행규칙 제30조 제1항, 제31조 제1항).   2) 위 관련 규정에 따라, 국민건강보험공단은 매월 시·도지사로부터 추정급여비용을 교부받아 이를 자신 명의의 계좌에 보관·관리하면서 의료급여비용 지급사유가 발생하면 자신의 권한과 책임하에서 자신의 명의로 의료기관에 의료급여비용을 직접 지급한다. 시·도지사 내지 시장·군수·구청장은 국민건강보험공단의 의료급여비용 지급 업무와 관련하여 구체적 지시를 하거나 관리감독을 하지 아니하고, 국민건강보험공단에 예탁한 추정급여비용을 사용수익하거나 처분할 수 있는 권한이 없다. 국민건강보험공단의 의료급여비용 지급으로 인한 법률적 효과는 추정급여비용을 예탁한 시·도지사나 의료급여비용 지급 업무를 위탁한 시장·군수·구청장이 아닌 자신의 명의로 의료급여비용 지급 업무를 수행하는 국민건강보험공단에 귀속된다. 따라서 추정급여비용을 보관·관리하면서 자신의 명의로 의료급여비용을 지급하는 국민건강보험공단이 의료급여비용 편취 범행의 피해자라고 보아야 한다. 의료급여비용이 시·도에 설치된 의료급여기금을 재원으로 지급된다거나, 의료급여비용 편취 범행으로 인한 재산상 손해가 최종적으로 국민건강보험공단에 귀속되지 않는다고 하여 달리 볼 것은 아니다.   나. 판단  원심은 판시와 같은 이유로, 이 사건 의료급여비용 편취 범행의 피해자를 개별 지방자치단체가 아닌 국민건강보험공단으로 판단하여 원심 공동피고인 1의 요양급여비용 및 의료급여비용 편취 범행 전체가 포괄하여 피해자 국민건강보험공단에 대한 하나의 「특정경제범죄 가중처벌 등에 관한 법률」위반(사기)죄를 구성한다고 보아, 이 부분 공소사실을 유죄로 판단한 제1심판결을 그대로 유지하였다.   원심판결 이유를 앞서 본 법리와 적법하게 채택된 증거에 비추어 살펴보면, 원심의 판단에 논리와 경험의 법칙을 위반하여 자유심증주의의 한계를 벗어나거나 사기죄의 피해자, 편취액의 범위, 이득액 산정, 방조범의 성립 등에 관한 법리를 오해한 잘못이 없다.   3. 결론   그러므로 상고를 모두 기각하기로 하여, 관여 대법관의 일치된 의견으로 주문과 같이 판결한다. 대법관 오석준(재판장) 안철상 노정희(주심) 이흥구 '"
            ],
            "application/vnd.google.colaboratory.intrinsic+json": {
              "type": "string"
            }
          },
          "metadata": {},
          "execution_count": 73
        }
      ],
      "source": [
        "f_result.판례내용[2]"
      ]
    }
  ],
  "metadata": {
    "kernelspec": {
      "display_name": "Python 3.8.18 ('NLP')",
      "language": "python",
      "name": "python3"
    },
    "language_info": {
      "codemirror_mode": {
        "name": "ipython",
        "version": 3
      },
      "file_extension": ".py",
      "mimetype": "text/x-python",
      "name": "python",
      "nbconvert_exporter": "python",
      "pygments_lexer": "ipython3",
      "version": "3.8.18"
    },
    "orig_nbformat": 4,
    "vscode": {
      "interpreter": {
        "hash": "d49957daa954e6bec9f177fc046718ee074770fab86eb9520507fb7fbdbef1cf"
      }
    },
    "colab": {
      "provenance": []
    }
  },
  "nbformat": 4,
  "nbformat_minor": 0
}