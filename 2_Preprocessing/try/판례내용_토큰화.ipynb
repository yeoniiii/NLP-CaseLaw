{
 "cells": [
  {
   "cell_type": "markdown",
   "metadata": {},
   "source": [
    "# 0. 라이브러리 & 데이터"
   ]
  },
  {
   "cell_type": "markdown",
   "metadata": {},
   "source": [
    "## 0.1 라이브러리"
   ]
  },
  {
   "cell_type": "code",
   "execution_count": 1,
   "metadata": {},
   "outputs": [],
   "source": [
    "import pandas as pd\n",
    "import numpy as np\n",
    "import matplotlib.pyplot as plt\n",
    "from tqdm import tqdm"
   ]
  },
  {
   "cell_type": "code",
   "execution_count": 2,
   "metadata": {},
   "outputs": [],
   "source": [
    "pd.set_option('display.max_rows', None)\n",
    "pd.set_option('display.max_columns', None)\n",
    "\n",
    "plt.rcParams['font.family'] = 'AppleGothic'\n",
    "plt.rcParams['axes.unicode_minus'] = False\n",
    "\n",
    "import warnings\n",
    "warnings.simplefilter(\"ignore\")"
   ]
  },
  {
   "cell_type": "markdown",
   "metadata": {},
   "source": [
    "## 0.2 데이터"
   ]
  },
  {
   "cell_type": "code",
   "execution_count": 3,
   "metadata": {},
   "outputs": [
    {
     "data": {
      "text/html": [
       "<div>\n",
       "<style scoped>\n",
       "    .dataframe tbody tr th:only-of-type {\n",
       "        vertical-align: middle;\n",
       "    }\n",
       "\n",
       "    .dataframe tbody tr th {\n",
       "        vertical-align: top;\n",
       "    }\n",
       "\n",
       "    .dataframe thead th {\n",
       "        text-align: right;\n",
       "    }\n",
       "</style>\n",
       "<table border=\"1\" class=\"dataframe\">\n",
       "  <thead>\n",
       "    <tr style=\"text-align: right;\">\n",
       "      <th></th>\n",
       "      <th>index</th>\n",
       "      <th>판례일련번호</th>\n",
       "      <th>사건명</th>\n",
       "      <th>사건번호</th>\n",
       "      <th>선고일자</th>\n",
       "      <th>법원명</th>\n",
       "      <th>사건종류명</th>\n",
       "      <th>사건종류코드</th>\n",
       "      <th>판결유형</th>\n",
       "      <th>선고</th>\n",
       "      <th>판례상세링크</th>\n",
       "      <th>판시사항</th>\n",
       "      <th>판결요지</th>\n",
       "      <th>참조조문</th>\n",
       "      <th>참조판례</th>\n",
       "      <th>판례내용</th>\n",
       "    </tr>\n",
       "  </thead>\n",
       "  <tbody>\n",
       "    <tr>\n",
       "      <th>0</th>\n",
       "      <td>20</td>\n",
       "      <td>238021</td>\n",
       "      <td>특정경제범죄가중처벌등에관한법률위반(사기)·사기</td>\n",
       "      <td>2023도12424</td>\n",
       "      <td>2023.11.16</td>\n",
       "      <td>대법원</td>\n",
       "      <td>형사</td>\n",
       "      <td>400102.0</td>\n",
       "      <td>판결</td>\n",
       "      <td>선고</td>\n",
       "      <td>/DRF/lawService.do?OC=yeorii&amp;target=prec&amp;ID=23...</td>\n",
       "      <td>유사수신행위를 금지·처벌하는 유사수신행위의 규제에 관한 법률 제6조 제1항, 제3...</td>\n",
       "      <td>유사수신행위의 규제에 관한 법률(이하 ‘유사수신행위법’이라 한다) 제6조 제1항, ...</td>\n",
       "      <td>유사수신행위의 규제에 관한 법률 제3조, 제6조 제1항, 형법 제37조, 제347조...</td>\n",
       "      <td>내용없음</td>\n",
       "      <td>【피 고 인】 피고인【상 고 인】 피고인【변 호 인】 변호사 장용배【배상신청인】 배...</td>\n",
       "    </tr>\n",
       "  </tbody>\n",
       "</table>\n",
       "</div>"
      ],
      "text/plain": [
       "   index  판례일련번호                        사건명        사건번호        선고일자  법원명  \\\n",
       "0     20  238021  특정경제범죄가중처벌등에관한법률위반(사기)·사기  2023도12424  2023.11.16  대법원   \n",
       "\n",
       "  사건종류명    사건종류코드 판결유형  선고                                             판례상세링크  \\\n",
       "0    형사  400102.0   판결  선고  /DRF/lawService.do?OC=yeorii&target=prec&ID=23...   \n",
       "\n",
       "                                                판시사항  \\\n",
       "0   유사수신행위를 금지·처벌하는 유사수신행위의 규제에 관한 법률 제6조 제1항, 제3...   \n",
       "\n",
       "                                                판결요지  \\\n",
       "0  유사수신행위의 규제에 관한 법률(이하 ‘유사수신행위법’이라 한다) 제6조 제1항, ...   \n",
       "\n",
       "                                                참조조문  참조판례  \\\n",
       "0  유사수신행위의 규제에 관한 법률 제3조, 제6조 제1항, 형법 제37조, 제347조...  내용없음   \n",
       "\n",
       "                                                판례내용  \n",
       "0  【피 고 인】 피고인【상 고 인】 피고인【변 호 인】 변호사 장용배【배상신청인】 배...  "
      ]
     },
     "execution_count": 3,
     "metadata": {},
     "output_type": "execute_result"
    }
   ],
   "source": [
    "case_fraud = pd.read_csv('../1_Data/case_fraud.csv')\n",
    "case_fraud.head(1)"
   ]
  },
  {
   "cell_type": "markdown",
   "metadata": {},
   "source": [
    "# 1. 판례내용 전처리"
   ]
  },
  {
   "cell_type": "markdown",
   "metadata": {},
   "source": [
    "## 1.1 이유 이후로 자르기"
   ]
  },
  {
   "cell_type": "code",
   "execution_count": 4,
   "metadata": {},
   "outputs": [],
   "source": [
    "case_fraud['판례내용_전처리'] = case_fraud.판례내용.str.split('유】|유]').str[1]"
   ]
  },
  {
   "cell_type": "code",
   "execution_count": 5,
   "metadata": {},
   "outputs": [
    {
     "data": {
      "text/plain": [
       "0      상고이유를 판단한다.  1. 불가벌적 사후행위에 대한 판단「유사수신행위의 규제에...\n",
       "1      상고이유를 판단한다.   1. 피고인 1, 피고인 2, 피고인 3, 피고인 4,...\n",
       "2      직권으로 판단한다.   1. 의료법 위반의 점에 관한 공소사실의 요지   피고인...\n",
       "Name: 판례내용_전처리, dtype: object"
      ]
     },
     "execution_count": 5,
     "metadata": {},
     "output_type": "execute_result"
    }
   ],
   "source": [
    "case_fraud.판례내용_전처리[:3]"
   ]
  },
  {
   "cell_type": "markdown",
   "metadata": {},
   "source": [
    "## 1.2 한자 처리"
   ]
  },
  {
   "cell_type": "markdown",
   "metadata": {},
   "source": [
    "https://github.com/suminb/hanja"
   ]
  },
  {
   "cell_type": "code",
   "execution_count": 6,
   "metadata": {},
   "outputs": [],
   "source": [
    "import hanja\n",
    "from hanja import hangul"
   ]
  },
  {
   "cell_type": "code",
   "execution_count": 7,
   "metadata": {},
   "outputs": [
    {
     "data": {
      "text/plain": [
       "True"
      ]
     },
     "execution_count": 7,
     "metadata": {},
     "output_type": "execute_result"
    }
   ],
   "source": [
    "hanja.is_hanja('潘')"
   ]
  },
  {
   "cell_type": "code",
   "execution_count": 8,
   "metadata": {},
   "outputs": [],
   "source": [
    "def hanja_to_hangul(sent):\n",
    "    return hanja.translate(sent, 'substitution')"
   ]
  },
  {
   "cell_type": "code",
   "execution_count": 9,
   "metadata": {},
   "outputs": [],
   "source": [
    "case_fraud['판례내용_전처리_한자'] = case_fraud.판례내용_전처리.apply(hanja_to_hangul)"
   ]
  },
  {
   "cell_type": "code",
   "execution_count": 10,
   "metadata": {},
   "outputs": [
    {
     "name": "stdout",
     "output_type": "stream",
     "text": [
      "116\n"
     ]
    }
   ],
   "source": [
    "print((case_fraud['판례내용_전처리_한자'] != case_fraud['판례내용_전처리']).sum())"
   ]
  },
  {
   "cell_type": "code",
   "execution_count": 11,
   "metadata": {},
   "outputs": [],
   "source": [
    "case_fraud.판례내용_전처리 = case_fraud.판례내용_전처리.apply(hanja_to_hangul)"
   ]
  },
  {
   "cell_type": "markdown",
   "metadata": {},
   "source": [
    "## 1.3 한글 외의 특수 문자 제거"
   ]
  },
  {
   "cell_type": "code",
   "execution_count": 12,
   "metadata": {},
   "outputs": [],
   "source": [
    "import re\n",
    "\n",
    "def remove_special_char(sent):\n",
    "    return re.sub('[^가-힣 ]', '', sent)"
   ]
  },
  {
   "cell_type": "code",
   "execution_count": 13,
   "metadata": {},
   "outputs": [
    {
     "data": {
      "text/plain": [
       "0      상고이유를 판단한다   불가벌적 사후행위에 대한 판단유사수신행위의 규제에 관한 ...\n",
       "1      상고이유를 판단한다    피고인  피고인  피고인  피고인  피고인 에 대한 의...\n",
       "2      직권으로 판단한다    의료법 위반의 점에 관한 공소사실의 요지   피고인은 의...\n",
       "Name: 판례내용_전처리, dtype: object"
      ]
     },
     "execution_count": 13,
     "metadata": {},
     "output_type": "execute_result"
    }
   ],
   "source": [
    "case_fraud.판례내용_전처리 = case_fraud.판례내용_전처리.apply(remove_special_char)\n",
    "case_fraud.판례내용_전처리[:3]"
   ]
  },
  {
   "cell_type": "code",
   "execution_count": 14,
   "metadata": {},
   "outputs": [
    {
     "data": {
      "text/plain": [
       "'  상고이유를 판단한다   불가벌적 사후행위에 대한 판단유사수신행위의 규제에 관한 법률이하 유사수신행위법이라 한다 제조 제항 제조를 위반한 행위는 그 자체가 사기행위에 해당한다거나 사기행위를 반드시 포함한다고 할 수 없고 유사수신행위법 위반죄가 형법 제조 제항의 사기죄와 구성요건을 달리하는 별개의 범죄로서 서로 보호법익이 다른 이상 유사수신행위를 한 자가 출자자에게 별도의 기망행위를 하여 유사수신행위로 조달받은 자금의 전부 또는 일부를 다시 투자받는 행위는 유사수신행위법 위반죄와 다른 새로운 보호법익을 침해하는 것으로서 유사수신행위법 위반죄의 불가벌적 사후행위가 되는 것이 아니라 별죄인 사기죄를 구성한다  원심은 판시와 같은 이유로 피고인의   경 피해자 공소외인에 대한 판시 사기의 점에 관한 공소사실에 대하여 유사수신행위법 제조에서 금지하는 유사수신행위에는 기망행위가 포함되어 있지 않고 유사수신행위법 위반죄와 사기죄는 구성요건을 달리하는 별개의 범죄로서 서로 행위의 태양이나 보호법익을 달리한다는 등의 이유로 기존 범죄인 유사수신행위법 위반죄의 가벌적 평가범위 내에 흡수되는 불가벌적 사후행위에 해당하지 않는다고 판단하였다  원심판결 이유를 위 법리 및 기록에 비추어 살펴보면 이 부분 원심판단에 일부 적절하지 않은 점이 있으나 피고인의   경 피해자 공소외인에 대한 판시 사기죄가 유사수신행위법 위반죄의 불가벌적 사후행위에 해당하지 않는다고 본 원심의 판단에 불가벌적 사후행위에 관한 법리를 오해함으로써 판결에 영향을 미친 잘못이 없다   나머지 상고이유에 대한 판단  이 부분 상고이유는 형사소송법 제조 제호에서 정한 형보다 가벼운 형이 선고된 이 사건에서 사실오인법리오해를 내세우며 실질적으로 원심의 증거 선택 및 증명력에 관한 판단 또는 이에 기초한 사실인정을 탓하는 것이거나 원심이 인정한 사실과 다른 사실관계를 전제로 법리오해를 지적하는 취지의 주장 또는 형이 너무 무거워 부당하다는 취지의 주장에 해당하여 모두 적법한 상고이유로 볼 수 없다   결론  그러므로 상고를 기각하기로 하여 관여 대법관의 일치된 의견으로 주문과 같이 판결한다대법관 민유숙재판장 이동원 천대엽주심 권영준 '"
      ]
     },
     "execution_count": 14,
     "metadata": {},
     "output_type": "execute_result"
    }
   ],
   "source": [
    "case_fraud['판례내용_전처리'][0]"
   ]
  },
  {
   "cell_type": "markdown",
   "metadata": {},
   "source": [
    "## [Skip] 띄어쓰기 처리"
   ]
  },
  {
   "cell_type": "code",
   "execution_count": 15,
   "metadata": {},
   "outputs": [],
   "source": [
    "# from pykospacing import Spacing\n",
    "\n",
    "# spacing = Spacing() "
   ]
  },
  {
   "cell_type": "code",
   "execution_count": 16,
   "metadata": {},
   "outputs": [],
   "source": [
    "# spacing(case_fraud['판례내용_전처리'][0])"
   ]
  },
  {
   "cell_type": "markdown",
   "metadata": {},
   "source": [
    "## 1.4 토크나이저"
   ]
  },
  {
   "cell_type": "markdown",
   "metadata": {},
   "source": [
    "### 1.4.1 토크나이저 비교"
   ]
  },
  {
   "cell_type": "markdown",
   "metadata": {},
   "source": [
    "#### [Skip] SoyNLP"
   ]
  },
  {
   "cell_type": "code",
   "execution_count": 17,
   "metadata": {},
   "outputs": [],
   "source": [
    "# import urllib.request\n",
    "# from soynlp import DoublespaceLineCorpus\n",
    "# from soynlp.word import WordExtractor"
   ]
  },
  {
   "cell_type": "code",
   "execution_count": 18,
   "metadata": {},
   "outputs": [],
   "source": [
    "# # 훈련 데이터를 다수의 문서로 분리\n",
    "# # urllib.request.urlretrieve(\"https://raw.githubusercontent.com/lovit/soynlp/master/tutorials/2016-10-20.txt\", filename=\"2016-10-20.txt\")\n",
    "# corpus = DoublespaceLineCorpus(\"2016-10-20.txt\")\n",
    "# len(corpus)"
   ]
  },
  {
   "cell_type": "code",
   "execution_count": 19,
   "metadata": {},
   "outputs": [],
   "source": [
    "# # 학습하기\n",
    "# word_extractor = WordExtractor()\n",
    "# word_extractor.train(corpus)\n",
    "# word_score_table = word_extractor.extract()\n",
    "# scores = {word:score.cohesion_forward for word, score in word_score_table.items()}"
   ]
  },
  {
   "cell_type": "code",
   "execution_count": 20,
   "metadata": {},
   "outputs": [],
   "source": [
    "# from soynlp.tokenizer import MaxScoreTokenizer\n",
    "\n",
    "# maxscore_tokenizer = MaxScoreTokenizer(scores=scores)"
   ]
  },
  {
   "cell_type": "markdown",
   "metadata": {},
   "source": [
    "#### KoNLPy"
   ]
  },
  {
   "cell_type": "code",
   "execution_count": 21,
   "metadata": {},
   "outputs": [
    {
     "name": "stdout",
     "output_type": "stream",
     "text": [
      "[0.006s][warning][os,thread] Attempt to protect stack guard pages failed (0x0000000169b58000-0x0000000169b64000).\n",
      "[0.006s][warning][os,thread] Attempt to deallocate stack guard pages failed.\n"
     ]
    }
   ],
   "source": [
    "import konlpy\n",
    "konlpy.jvm.init_jvm(jvmpath=None, max_heap_size=2048)"
   ]
  },
  {
   "cell_type": "code",
   "execution_count": 22,
   "metadata": {},
   "outputs": [],
   "source": [
    "from konlpy.tag import *\n",
    "\n",
    "hannanum = Hannanum()\n",
    "kkma = Kkma()\n",
    "komoran = Komoran()\n",
    "okt = Okt()"
   ]
  },
  {
   "cell_type": "markdown",
   "metadata": {},
   "source": [
    "#### 비교"
   ]
  },
  {
   "cell_type": "code",
   "execution_count": 23,
   "metadata": {},
   "outputs": [
    {
     "name": "stdout",
     "output_type": "stream",
     "text": [
      "Input:   상고이유를 판단한다   불가벌적 사후행위에 대한 판단유사수신행위의 규제에 관한 법률이하 유사수신행위법이라 한다 제조 제항 제조를 위반한 행위는 그 자체가 사기행위에 해당한다거나 사기행위를 반드시 포함한다고 할 수 없고 유사수신행위법 위반죄가 형법 제조 제항의 사기죄와 구성요건을 달리하는 별개의 범죄로서 서로 보호법익이 다른 이상 유사수신행위를 한 자가 출자자에게 별도의 기망행위를 하여 유사수신행위로 조달받은 자금의 전부 또는 일부를 다시 투자받는 행위는 유사수신행위법 위반죄와 다른 새로운 보호법익을 침해하는 것으로서 유사수신행위\n",
      "\n",
      "['상고', '이유', '를', '판단', '하', 'ㄴ다', '불가', '벌', 'ㄹ', '적', '사후', '행위', '에', '대하', 'ㄴ', '판단', '유사', '수신', '행위', '의', '규제', '에', '관하', 'ㄴ', '법률', '이하', '유사', '수신', '행위법', '이', '라', '하', 'ㄴ다', '제조', '제항', '제조', '를', '위반', '하', 'ㄴ', '행위', '는', '그', '자체', '가', '사기', '행위', '에', '해당', '하', 'ㄴ다', '거나', '사기', '행위', '를', '반드시', '포함', '하', 'ㄴ다고', '하', 'ㄹ', '수', '없', '고', '유사', '수신', '행위법', '위반죄', '가', '형법', '제조', '제항', '의', '사기죄', '와', '구성', '요건', '을', '달리하', '는', '별개', '의', '범죄', '로서', '서로', '보호', '법익', '이', '다른', '이상', '유사', '수신', '행위', '를', '하', 'ㄴ', '자가', '출자자', '에게', '별도', '의', '기망', '행위', '를', '하여', '유사', '수신', '행위', '로', '조달', '받', '은', '자금', '의', '전부', '또는', '일부', '를', '다시', '투자', '받', '는', '행위', '는', '유사', '수신', '행위법', '위반죄', '와', '다르', 'ㄴ', '새', '롭', 'ㄴ', '보호', '법익', '을', '침해', '하', '는', '것', '으로서', '유사', '수신', '행위']\n",
      "\n",
      "['상고', '이유', '를', '판단', '하', 'ㄴ다', '불가벌적 사후행위', '에', '대하', 'ㄴ', '판단', '유사', '수신', '행위', '의', '규제', '에', '관하', 'ㄴ', '법률', '이하', '유사', '수신', '행위', '법', '이', '라', '하', 'ㄴ다', '제조', '제', '항', '제조', '를', '위반', '하', 'ㄴ', '행위', '는', '그', '자체', '가', '사기', '행위', '에', '해당', '하', 'ㄴ다거나', '사기', '행위', '를', '반드시', '포함', '하', 'ㄴ다고', '하', 'ㄹ', '수', '없', '고', '유사', '수신', '행위', '법', '위반', '죄', '가', '형법', '제조', '제', '항의', '사기죄', '와', '구성요건', '을', '달리', '하', '는', '별개', '의', '범죄', '로서', '서로', '보호법익', '이', '다른', '이상', '유사', '수신', '행위', '를', '한', '자', '가', '출자', '자', '에게', '별도', '의', '기망행위', '를', '하', '아', '유사', '수신', '행위', '로', '조달', '받', '은', '자금', '의', '전부', '또는', '일부', '를', '다시', '투자', '받', '는', '행위', '는', '유사', '수신', '행위', '법', '위반', '죄', '와', '다른', '새롭', 'ㄴ', '보호법익', '을', '침해', '하', '는', '것', '으로서', '유사', '수신', '행위']\n",
      "\n"
     ]
    }
   ],
   "source": [
    "sent = case_fraud.판례내용_전처리[0][:300]\n",
    "\n",
    "print('Input:', sent, end='\\n\\n')\n",
    "\n",
    "#print('Hannanum:', hannanum.morphs(sent), end='\\n\\n')\n",
    "print(kkma.morphs(sent), end='\\n\\n')\n",
    "print(komoran.morphs(sent), end='\\n\\n')\n",
    "# print(okt.morphs(sent), end='\\n\\n')\n",
    "#print('SoyNLP:', maxscore_tokenizer.tokenize(sent))"
   ]
  },
  {
   "cell_type": "code",
   "execution_count": 24,
   "metadata": {},
   "outputs": [
    {
     "name": "stdout",
     "output_type": "stream",
     "text": [
      "Input:  항소이유의 요지가 사실오인 법리오해 공모 사실 및 편취 고의의 부존재     가 피고인들은 환전업의 일환으로 현금을 전달받아 다시 이를 제자에게 전달하였다 피고인들은 공소사실 기재와 같이 보이스피싱 사기 범행을 공모한 사실이 없을 뿐만 아니라 전달받은 돈이 보이스피싱 사기 범행으로 취득한 것임을 인식하지 못하였으므로 편취의 고의를 가지고 위 범행에 가담하였다고 할 수 없다     나 피고인들에 대한 보이스피싱 사기 범행에 대한 공소사실을 유죄로 인정한 원심에는 사실을 오인하거나 공모공동정범 및 편취의 고의에 대한 법리를 오해한 위\n",
      "\n",
      "['항소', '이유', '의', '요지', '가', '사실', '오인', '법리', '오해', '공모', '사실', '및', '편취', '고의', '의', '부', '존재', '가', '아', '피고인', '들', '은', '환전업', '의', '일환', '으로', '현금', '을', '전달', '받', '아', '다시', '이르', 'ㄹ', '제자', '에게', '전달', '하', '였', '다', '피고인', '들', '은', '공소', '사실', '기재', '와', '같이', '보이스', '피', '싱', '사기', '범행', '을', '공모', '하', 'ㄴ', '사실', '이', '없', '을', '뿐', '만', '아니', '라', '전달', '받', '은', '돈', '이', '보이스', '피', '싱', '사기', '범행', '으로', '취득', '하', 'ㄴ', '것', '이', 'ㅁ', '을', '인식', '하', '지', '못하', '였', '으므로', '편취', '의', '고의', '를', '가지', '고', '위', '범행', '에', '가담', '하', '였', '다고', '하', 'ㄹ', '수', '없', '다', '나', '아', '피고인', '들', '에', '대하', 'ㄴ', '보이스', '피', '싱', '사기', '범행', '에', '대하', 'ㄴ', '공소', '사실', '을', '유죄', '로', '인정', '하', 'ㄴ', '원심', '에', '는', '사실', '을', '오인', '하', '거나', '공모', '공동', '정범', '및', '편취', '의', '고의', '에', '대하', 'ㄴ', '법리', '를', '오해', '한', '위']\n",
      "\n",
      "['항소', '이유', '의', '요지', '가', '사실', '오인', '법리', '오해', '공모', '사실', '및', '편취', '고의', '의', '부', '존재', '가', '아', '피고인', '들', '은', '환전', '업', '의', '일환', '으로', '현금', '을', '전달', '받', '아', '다시', '이', '를', '제자', '에게', '전달', '하', '았', '다', '피고인', '들', '은', '공소사실', '기재', '와', '같이', '보이스', '피싱', '사기', '범행', '을', '공모', '하', 'ㄴ', '사실', '이', '없', '을', '뿐', '만', '아니', '라', '전달', '받', '은', '돈', '이', '보이스', '피싱', '사기', '범행', '으로', '취득', '하', 'ㄴ', '것', '이', 'ㅁ', '을', '인식', '하', '지', '못하', '았', '으므로', '편취의', '고의', '를', '가지', '고', '위', '범행', '에', '가담', '하', '았', '다고', '하', 'ㄹ', '수', '없', '다', '나', '피고인', '들', '에', '대하', 'ㄴ', '보이스', '피싱', '사기', '범행', '에', '대하', 'ㄴ', '공소사실', '을', '유죄', '로', '인정', '하', 'ㄴ', '원심', '에', '는', '사실', '을', '오인하', '이', '거나', '공모', '공동정범', '및', '편취의', '고의', '에', '대하', 'ㄴ', '법리', '를', '오해', '하', 'ㄴ', '위']\n",
      "\n"
     ]
    }
   ],
   "source": [
    "sent = case_fraud.판례내용_전처리[34][:300]\n",
    "\n",
    "print('Input:', sent, end='\\n\\n')\n",
    "\n",
    "#print('Hannanum:', hannanum.morphs(sent), end='\\n\\n')\n",
    "print(kkma.morphs(sent), end='\\n\\n')\n",
    "print(komoran.morphs(sent), end='\\n\\n')\n",
    "# print(okt.morphs(sent), end='\\n\\n')\n",
    "#print('SoyNLP:', maxscore_tokenizer.tokenize(sent))"
   ]
  },
  {
   "cell_type": "code",
   "execution_count": 25,
   "metadata": {},
   "outputs": [
    {
     "name": "stdout",
     "output_type": "stream",
     "text": [
      "Input:   상고이유를 판단한다   불가벌적 사후행위에 대한 판단유사수신행위의 규제에 관한 법률이하 유사수신행위법이라 한다 제조 제항 제조를 위반한 행위는 그 자체가 사기행위에 해당한다거나 사기행위를 반드시 포함한다고 할 수 없고 유사수신행위법 위반죄가 형법 제조 제항의 사기죄와 구성요건을 달리하는 별개의 범죄로서 서로 보호법익이 다른 이상 유사수신행위를 한 자가 출자자에게 별도의 기망행위를 하여 유사수신행위로 조달받은 자금의 전부 또는 일부를 다시 투자받는 행위는 유사수신행위법 위반죄와 다른 새로운 보호법익을 침해하는 것으로서 유사수신행위\n",
      "\n",
      "['상고', '상고이유', '이유', '판단', '불가', '적', '사후', '사후행위', '행위', '판단유사수신행위', '유사', '수신', '규제', '법률', '법률이하', '이하', '유사수신행위법', '행위법', '제조', '제항', '위반', '자체', '사기', '사기행위', '해당', '포함', '수', '위반죄', '형법', '사기죄', '구성', '구성요건', '요건', '별개', '범죄', '서로', '보호', '보호법익', '법익', '이상', '유사수신행위', '자가', '출자자', '별도', '기망', '기망행위', '조달', '자금', '전부', '일부', '투자', '새', '침해']\n",
      "\n",
      "['상고', '이유', '판단', '불가벌적 사후행위', '판단', '유사', '수신', '행위', '규제', '법률', '이하', '유사', '수신', '행위', '법', '제조', '항', '제조', '위반', '행위', '자체', '사기', '행위', '해당', '사기', '행위', '포함', '수', '유사', '수신', '행위', '법', '위반', '죄', '형법', '제조', '항의', '사기죄', '구성요건', '별개', '범죄', '보호법익', '이상', '유사', '수신', '행위', '자', '출자', '자', '별도', '기망행위', '유사', '수신', '행위', '조달', '자금', '일부', '투자', '행위', '유사', '수신', '행위', '법', '위반', '죄', '보호법익', '침해', '것', '유사', '수신', '행위']\n",
      "\n"
     ]
    }
   ],
   "source": [
    "sent = case_fraud.판례내용_전처리[0][:300]\n",
    "\n",
    "print('Input:', sent, end='\\n\\n')\n",
    "\n",
    "#print('Hannanum:', hannanum.morphs(sent), end='\\n\\n')\n",
    "print(kkma.nouns(sent), end='\\n\\n')\n",
    "print(komoran.nouns(sent), end='\\n\\n')\n",
    "# print(okt.morphs(sent), end='\\n\\n')\n",
    "#print('SoyNLP:', maxscore_tokenizer.tokenize(sent))"
   ]
  },
  {
   "cell_type": "code",
   "execution_count": 26,
   "metadata": {},
   "outputs": [
    {
     "name": "stdout",
     "output_type": "stream",
     "text": [
      " 항소이유의 요지가 사실오인 법리오해 공모 사실 및 편취 고의의 부존재     가 피고인들은 환전업의 일환으로 현금을 전달받아 다시 이를 제자에게 전달하였다 피고인들은 공소사실 기재와 같이 보이스피싱 사기 범행을 공모한 사실이 없을 뿐만 아니라 전달받은 돈이 보이스피싱 사기 범행으로 취득한 것임을 인식하지 못하였으므로 편취의 고의를 가지고 위 범행에 가담하였다고 할 수 없다     나 피고인들에 대한 보이스피싱 사기 범행에 대한 공소사실을 유죄로 인정한 원심에는 사실을 오인하거나 공모공동정범 및 편취의 고의에 대한 법리를 오해한 위\n",
      "\n",
      "['항소', '항소이유', '이유', '요지', '사실', '사실오인', '오인', '법리', '법리오해', '오해', '공모', '편취', '고의', '존재', '피고인', '환전업', '일환', '현금', '전달', '제자', '공소', '공소사실', '기재', '보이스', '보이스피싱', '피', '싱', '사기', '범행', '뿐', '돈', '취득', '인식', '위', '가담', '수', '유죄', '인정', '원심', '공모공동정범', '공동', '정범']\n",
      "\n",
      "['항소', '이유', '요지', '사실', '오인', '법리', '오해', '공모', '사실', '고의', '존재', '피고인', '환전', '업', '일환', '현금', '전달', '제자', '전달', '피고인', '공소사실', '기재', '보이스', '피싱', '사기', '범행', '공모', '사실', '뿐', '전달', '돈', '보이스', '피싱', '사기', '범행', '취득', '것', '인식', '고의', '위', '범행', '가담', '수', '피고인', '보이스', '피싱', '사기', '범행', '공소사실', '유죄', '인정', '원심', '사실', '오인하', '공모', '공동정범', '고의', '법리', '오해', '위']\n",
      "\n"
     ]
    }
   ],
   "source": [
    "sent = case_fraud.판례내용_전처리[34][:300]\n",
    "\n",
    "print(sent, end='\\n\\n')\n",
    "#print(hannanum.nouns(sent), end='\\n')\n",
    "print(kkma.nouns(sent), end='\\n\\n')\n",
    "print(komoran.nouns(sent), end='\\n\\n')\n",
    "#print(okt.nouns(sent), end='\\n')"
   ]
  },
  {
   "cell_type": "markdown",
   "metadata": {},
   "source": [
    "### 1.4.2 토큰화 전 문장 내 단어 개수 체크"
   ]
  },
  {
   "cell_type": "code",
   "execution_count": 27,
   "metadata": {},
   "outputs": [],
   "source": [
    "case_fraud['판례내용_전처리_글자수'] = case_fraud['판례내용_전처리'].apply(lambda x: len(x))\n",
    "# case_fraud.판례내용_전처리_글자수.value_counts().sort_index() # 45자부터 467481자까지"
   ]
  },
  {
   "cell_type": "code",
   "execution_count": 28,
   "metadata": {},
   "outputs": [
    {
     "name": "stdout",
     "output_type": "stream",
     "text": [
      "15\n",
      "0\n"
     ]
    }
   ],
   "source": [
    "print((case_fraud['판례내용_전처리_글자수'] > 90000).sum()) # 9만 자 넘는 판례 15개 있음\n",
    "case_fraud = case_fraud[case_fraud['판례내용_전처리_글자수'] < 90000] # 9만 자 넘는 판례 15개 제거\n",
    "print((case_fraud['판례내용_전처리_글자수'] > 90000).sum())"
   ]
  },
  {
   "cell_type": "markdown",
   "metadata": {},
   "source": [
    "### 1.4.3 토큰화 "
   ]
  },
  {
   "cell_type": "code",
   "execution_count": 29,
   "metadata": {},
   "outputs": [],
   "source": [
    "# tqdm.pandas()\n",
    "# case_fraud['판례내용_토큰화'] = case_fraud['판례내용_전처리'].progress_apply(komoran.morphs)"
   ]
  },
  {
   "cell_type": "code",
   "execution_count": 30,
   "metadata": {},
   "outputs": [],
   "source": [
    "# tqdm.pandas()\n",
    "# case_fraud['판례내용_토큰화_꼬꼬마'] = case_fraud['판례내용_전처리'].progress_apply(kkma.morphs)"
   ]
  },
  {
   "cell_type": "code",
   "execution_count": 31,
   "metadata": {},
   "outputs": [],
   "source": [
    "# case_fraud.rename(columns = {'판례내용_토큰화' : '판례내용_토큰화_코모란'}, inplace = True)\n",
    "# case_fraud.drop('판례내용_전처리_한자', axis=1)\n",
    "# case_fraud.head(1)"
   ]
  },
  {
   "cell_type": "code",
   "execution_count": 32,
   "metadata": {},
   "outputs": [],
   "source": [
    "# case_fraud.to_csv('../1_Data/case_fraud_prep.csv', index=False)"
   ]
  }
 ],
 "metadata": {
  "kernelspec": {
   "display_name": "Python 3.8.13 ('yeonii')",
   "language": "python",
   "name": "python3"
  },
  "language_info": {
   "codemirror_mode": {
    "name": "ipython",
    "version": 3
   },
   "file_extension": ".py",
   "mimetype": "text/x-python",
   "name": "python",
   "nbconvert_exporter": "python",
   "pygments_lexer": "ipython3",
   "version": "3.8.13"
  },
  "orig_nbformat": 4,
  "vscode": {
   "interpreter": {
    "hash": "3b09d487f58830ae36779bc7e2c4986ef97a22d0a201d00a8669188d9fddafca"
   }
  }
 },
 "nbformat": 4,
 "nbformat_minor": 2
}
