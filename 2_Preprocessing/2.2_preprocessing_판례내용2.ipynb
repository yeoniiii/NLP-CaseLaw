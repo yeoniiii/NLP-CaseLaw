{
 "cells": [
  {
   "cell_type": "markdown",
   "metadata": {},
   "source": [
    "# 0. 라이브러리 & 데이터"
   ]
  },
  {
   "cell_type": "markdown",
   "metadata": {},
   "source": [
    "## 0.1 라이브러리"
   ]
  },
  {
   "cell_type": "code",
   "execution_count": 1,
   "metadata": {},
   "outputs": [],
   "source": [
    "import pandas as pd\n",
    "import numpy as np\n",
    "import matplotlib.pyplot as plt\n",
    "from tqdm import tqdm"
   ]
  },
  {
   "cell_type": "code",
   "execution_count": 2,
   "metadata": {},
   "outputs": [],
   "source": [
    "pd.set_option('display.max_rows', None)\n",
    "pd.set_option('display.max_columns', None)\n",
    "\n",
    "plt.rcParams['font.family'] = 'AppleGothic'\n",
    "plt.rcParams['axes.unicode_minus'] = False\n",
    "\n",
    "import warnings\n",
    "warnings.simplefilter(\"ignore\")"
   ]
  },
  {
   "cell_type": "markdown",
   "metadata": {},
   "source": [
    "## 0.2 데이터"
   ]
  },
  {
   "cell_type": "code",
   "execution_count": 3,
   "metadata": {},
   "outputs": [
    {
     "data": {
      "text/html": [
       "<div>\n",
       "<style scoped>\n",
       "    .dataframe tbody tr th:only-of-type {\n",
       "        vertical-align: middle;\n",
       "    }\n",
       "\n",
       "    .dataframe tbody tr th {\n",
       "        vertical-align: top;\n",
       "    }\n",
       "\n",
       "    .dataframe thead th {\n",
       "        text-align: right;\n",
       "    }\n",
       "</style>\n",
       "<table border=\"1\" class=\"dataframe\">\n",
       "  <thead>\n",
       "    <tr style=\"text-align: right;\">\n",
       "      <th></th>\n",
       "      <th>index</th>\n",
       "      <th>판례일련번호</th>\n",
       "      <th>사건명</th>\n",
       "      <th>사건번호</th>\n",
       "      <th>선고일자</th>\n",
       "      <th>법원명</th>\n",
       "      <th>사건종류명</th>\n",
       "      <th>사건종류코드</th>\n",
       "      <th>판결유형</th>\n",
       "      <th>선고</th>\n",
       "      <th>판례상세링크</th>\n",
       "      <th>판시사항</th>\n",
       "      <th>판결요지</th>\n",
       "      <th>참조조문</th>\n",
       "      <th>참조판례</th>\n",
       "      <th>판례내용</th>\n",
       "      <th>판례내용_전처리</th>\n",
       "      <th>판례내용_전처리_한자</th>\n",
       "      <th>판례내용_전처리_글자수</th>\n",
       "      <th>판례내용_토큰화_코모란</th>\n",
       "      <th>판례내용_토큰화_꼬꼬마</th>\n",
       "    </tr>\n",
       "  </thead>\n",
       "  <tbody>\n",
       "    <tr>\n",
       "      <th>0</th>\n",
       "      <td>20</td>\n",
       "      <td>238021</td>\n",
       "      <td>특정경제범죄가중처벌등에관한법률위반(사기)·사기</td>\n",
       "      <td>2023도12424</td>\n",
       "      <td>2023.11.16</td>\n",
       "      <td>대법원</td>\n",
       "      <td>형사</td>\n",
       "      <td>400102.0</td>\n",
       "      <td>판결</td>\n",
       "      <td>선고</td>\n",
       "      <td>/DRF/lawService.do?OC=yeorii&amp;target=prec&amp;ID=23...</td>\n",
       "      <td>유사수신행위를 금지·처벌하는 유사수신행위의 규제에 관한 법률 제6조 제1항, 제3...</td>\n",
       "      <td>유사수신행위의 규제에 관한 법률(이하 ‘유사수신행위법’이라 한다) 제6조 제1항, ...</td>\n",
       "      <td>유사수신행위의 규제에 관한 법률 제3조, 제6조 제1항, 형법 제37조, 제347조...</td>\n",
       "      <td>내용없음</td>\n",
       "      <td>【피 고 인】 피고인【상 고 인】 피고인【변 호 인】 변호사 장용배【배상신청인】 배...</td>\n",
       "      <td>상고이유를 판단한다   불가벌적 사후행위에 대한 판단유사수신행위의 규제에 관한 ...</td>\n",
       "      <td>상고이유를 판단한다.  1. 불가벌적 사후행위에 대한 판단「유사수신행위의 규제에...</td>\n",
       "      <td>1066</td>\n",
       "      <td>['상고', '이유', '를', '판단', '하', 'ㄴ다', '불가벌적 사후행위'...</td>\n",
       "      <td>['상고', '이유', '를', '판단', '하', 'ㄴ다', '불가', '벌', ...</td>\n",
       "    </tr>\n",
       "  </tbody>\n",
       "</table>\n",
       "</div>"
      ],
      "text/plain": [
       "   index  판례일련번호                        사건명        사건번호        선고일자  법원명  \\\n",
       "0     20  238021  특정경제범죄가중처벌등에관한법률위반(사기)·사기  2023도12424  2023.11.16  대법원   \n",
       "\n",
       "  사건종류명    사건종류코드 판결유형  선고                                             판례상세링크  \\\n",
       "0    형사  400102.0   판결  선고  /DRF/lawService.do?OC=yeorii&target=prec&ID=23...   \n",
       "\n",
       "                                                판시사항  \\\n",
       "0   유사수신행위를 금지·처벌하는 유사수신행위의 규제에 관한 법률 제6조 제1항, 제3...   \n",
       "\n",
       "                                                판결요지  \\\n",
       "0  유사수신행위의 규제에 관한 법률(이하 ‘유사수신행위법’이라 한다) 제6조 제1항, ...   \n",
       "\n",
       "                                                참조조문  참조판례  \\\n",
       "0  유사수신행위의 규제에 관한 법률 제3조, 제6조 제1항, 형법 제37조, 제347조...  내용없음   \n",
       "\n",
       "                                                판례내용  \\\n",
       "0  【피 고 인】 피고인【상 고 인】 피고인【변 호 인】 변호사 장용배【배상신청인】 배...   \n",
       "\n",
       "                                            판례내용_전처리  \\\n",
       "0    상고이유를 판단한다   불가벌적 사후행위에 대한 판단유사수신행위의 규제에 관한 ...   \n",
       "\n",
       "                                         판례내용_전처리_한자  판례내용_전처리_글자수  \\\n",
       "0    상고이유를 판단한다.  1. 불가벌적 사후행위에 대한 판단「유사수신행위의 규제에...          1066   \n",
       "\n",
       "                                        판례내용_토큰화_코모란  \\\n",
       "0  ['상고', '이유', '를', '판단', '하', 'ㄴ다', '불가벌적 사후행위'...   \n",
       "\n",
       "                                        판례내용_토큰화_꼬꼬마  \n",
       "0  ['상고', '이유', '를', '판단', '하', 'ㄴ다', '불가', '벌', ...  "
      ]
     },
     "execution_count": 3,
     "metadata": {},
     "output_type": "execute_result"
    }
   ],
   "source": [
    "case_fraud = pd.read_csv('../1_Data/case_fraud_prep.csv')\n",
    "case_fraud.head(1)"
   ]
  },
  {
   "cell_type": "markdown",
   "metadata": {},
   "source": [
    "# 1. 판례내용 전처리"
   ]
  },
  {
   "cell_type": "markdown",
   "metadata": {},
   "source": [
    "## 1.5 불용어 제거"
   ]
  },
  {
   "cell_type": "code",
   "execution_count": 14,
   "metadata": {},
   "outputs": [
    {
     "data": {
      "text/plain": [
       "['않다', '되어다', '되다', '하다', '어떻다', '이렇다', '이다', '어제', '매일', '아']"
      ]
     },
     "execution_count": 14,
     "metadata": {},
     "output_type": "execute_result"
    }
   ],
   "source": [
    "with open('../1_Data/stopwords.txt', 'r', encoding='utf-8') as file:\n",
    "    stopwords = [line.strip() for line in file]\n",
    "stopwords[:10]"
   ]
  },
  {
   "cell_type": "markdown",
   "metadata": {},
   "source": [
    "## 1.6 단어 사전 만들기"
   ]
  },
  {
   "cell_type": "code",
   "execution_count": null,
   "metadata": {},
   "outputs": [],
   "source": [
    "tokenized_vocab = []\n",
    "\n",
    "for sent in tqdm_notebook(clean_sentence_tokened):\n",
    "    token_word = mecab.morphs(sent)\n",
    "    tokenized_vocab.append(token_word)"
   ]
  }
 ],
 "metadata": {
  "kernelspec": {
   "display_name": "Python 3.8.13 ('yeonii')",
   "language": "python",
   "name": "python3"
  },
  "language_info": {
   "codemirror_mode": {
    "name": "ipython",
    "version": 3
   },
   "file_extension": ".py",
   "mimetype": "text/x-python",
   "name": "python",
   "nbconvert_exporter": "python",
   "pygments_lexer": "ipython3",
   "version": "3.8.13"
  },
  "orig_nbformat": 4,
  "vscode": {
   "interpreter": {
    "hash": "3b09d487f58830ae36779bc7e2c4986ef97a22d0a201d00a8669188d9fddafca"
   }
  }
 },
 "nbformat": 4,
 "nbformat_minor": 2
}
